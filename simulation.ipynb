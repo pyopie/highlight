{
 "cells": [
  {
   "cell_type": "markdown",
   "metadata": {},
   "source": [
    "### naive version"
   ]
  },
  {
   "cell_type": "code",
   "execution_count": 5,
   "metadata": {},
   "outputs": [],
   "source": [
    "# coding: utf-8\n",
    "import sys\n",
    "sys.path.insert(0, './audio-classification/')\n",
    "import os\n",
    "import feat_extract\n",
    "import ffmpeg\n",
    "from moviepy.video.io.ffmpeg_tools import ffmpeg_extract_subclip\n",
    "from moviepy.video.io.VideoFileClip import VideoFileClip\n",
    "import moviepy.editor as mp\n",
    "import pickle\n",
    "import numpy as np\n",
    "import sklearn\n",
    "from sklearn.svm import SVC\n",
    "from sklearn.model_selection import train_test_split\n",
    "from sklearn.model_selection import GridSearchCV\n",
    "from sklearn.metrics import classification_report\n",
    "import pandas as pd\n",
    "import re\n",
    "import collections\n",
    "\n",
    "from collections import Counter\n",
    "\n",
    "from sklearn.ensemble import RandomForestClassifier\n",
    "import time"
   ]
  },
  {
   "cell_type": "code",
   "execution_count": 118,
   "metadata": {
    "scrolled": true
   },
   "outputs": [
    {
     "name": "stdout",
     "output_type": "stream",
     "text": [
      "False\n",
      "\n",
      "[MoviePy] Running:\n",
      ">>> /Users/smlee/Library/Application Support/imageio/ffmpeg/ffmpeg-osx-v3.2.4 -y -i ./yunha.mp4 -ss 0.00 -t 5.00 -vcodec copy -acodec copy ./audio-classification/data/output/1.mp4\n",
      "... command successful.\n",
      "[MoviePy] Writing audio in ./audio-classification/data/output/1.wav\n"
     ]
    },
    {
     "name": "stderr",
     "output_type": "stream",
     "text": [
      "\n",
      "  0%|          | 0/111 [00:00<?, ?it/s]\u001b[A\n",
      "100%|██████████| 111/111 [00:00<00:00, 1866.71it/s]\u001b[A"
     ]
    },
    {
     "name": "stdout",
     "output_type": "stream",
     "text": [
      "[MoviePy] Done.\n",
      "2\n",
      "False\n",
      "\n",
      "[MoviePy] Running:\n",
      ">>> /Users/smlee/Library/Application Support/imageio/ffmpeg/ffmpeg-osx-v3.2.4 -y -i ./yunha.mp4 -ss 5.00 -t 5.00 -vcodec copy -acodec copy ./audio-classification/data/output/2.mp4\n",
      "... command successful.\n",
      "[MoviePy] Writing audio in ./audio-classification/data/output/2.wav\n"
     ]
    },
    {
     "name": "stderr",
     "output_type": "stream",
     "text": [
      "\n",
      "  0%|          | 0/111 [00:00<?, ?it/s]\u001b[A\n",
      "100%|██████████| 111/111 [00:00<00:00, 1732.67it/s]\u001b[A"
     ]
    },
    {
     "name": "stdout",
     "output_type": "stream",
     "text": [
      "[MoviePy] Done.\n",
      "3\n",
      "False\n",
      "\n",
      "[MoviePy] Running:\n",
      ">>> /Users/smlee/Library/Application Support/imageio/ffmpeg/ffmpeg-osx-v3.2.4 -y -i ./yunha.mp4 -ss 10.00 -t 5.00 -vcodec copy -acodec copy ./audio-classification/data/output/3.mp4\n",
      "... command successful.\n",
      "[MoviePy] Writing audio in ./audio-classification/data/output/3.wav\n"
     ]
    },
    {
     "name": "stderr",
     "output_type": "stream",
     "text": [
      "\n",
      "  0%|          | 0/111 [00:00<?, ?it/s]\u001b[A\n",
      "100%|██████████| 111/111 [00:00<00:00, 2141.12it/s]\u001b[A"
     ]
    },
    {
     "name": "stdout",
     "output_type": "stream",
     "text": [
      "[MoviePy] Done.\n",
      "4\n",
      "False\n",
      "\n",
      "[MoviePy] Running:\n",
      ">>> /Users/smlee/Library/Application Support/imageio/ffmpeg/ffmpeg-osx-v3.2.4 -y -i ./yunha.mp4 -ss 15.00 -t 5.00 -vcodec copy -acodec copy ./audio-classification/data/output/4.mp4\n",
      "... command successful.\n",
      "[MoviePy] Writing audio in ./audio-classification/data/output/4.wav\n"
     ]
    },
    {
     "name": "stderr",
     "output_type": "stream",
     "text": [
      "\n",
      "  0%|          | 0/111 [00:00<?, ?it/s]\u001b[A\n",
      "100%|██████████| 111/111 [00:00<00:00, 1846.13it/s]\u001b[A"
     ]
    },
    {
     "name": "stdout",
     "output_type": "stream",
     "text": [
      "[MoviePy] Done.\n",
      "5\n",
      "False\n",
      "\n",
      "[MoviePy] Running:\n",
      ">>> /Users/smlee/Library/Application Support/imageio/ffmpeg/ffmpeg-osx-v3.2.4 -y -i ./yunha.mp4 -ss 20.00 -t 5.00 -vcodec copy -acodec copy ./audio-classification/data/output/5.mp4\n",
      "... command successful.\n",
      "[MoviePy] Writing audio in ./audio-classification/data/output/5.wav\n"
     ]
    },
    {
     "name": "stderr",
     "output_type": "stream",
     "text": [
      "\n",
      "  0%|          | 0/111 [00:00<?, ?it/s]\u001b[A\n",
      "100%|██████████| 111/111 [00:00<00:00, 1905.09it/s]\u001b[A"
     ]
    },
    {
     "name": "stdout",
     "output_type": "stream",
     "text": [
      "[MoviePy] Done.\n",
      "6\n",
      "False\n",
      "\n",
      "[MoviePy] Running:\n",
      ">>> /Users/smlee/Library/Application Support/imageio/ffmpeg/ffmpeg-osx-v3.2.4 -y -i ./yunha.mp4 -ss 25.00 -t 5.00 -vcodec copy -acodec copy ./audio-classification/data/output/6.mp4\n",
      "... command successful.\n",
      "[MoviePy] Writing audio in ./audio-classification/data/output/6.wav\n"
     ]
    },
    {
     "name": "stderr",
     "output_type": "stream",
     "text": [
      "\n",
      "  0%|          | 0/111 [00:00<?, ?it/s]\u001b[A\n",
      "100%|██████████| 111/111 [00:00<00:00, 2124.48it/s]\u001b[A"
     ]
    },
    {
     "name": "stdout",
     "output_type": "stream",
     "text": [
      "[MoviePy] Done.\n",
      "7\n",
      "False\n",
      "\n",
      "[MoviePy] Running:\n",
      ">>> /Users/smlee/Library/Application Support/imageio/ffmpeg/ffmpeg-osx-v3.2.4 -y -i ./yunha.mp4 -ss 30.00 -t 5.00 -vcodec copy -acodec copy ./audio-classification/data/output/7.mp4\n",
      "... command successful.\n",
      "[MoviePy] Writing audio in ./audio-classification/data/output/7.wav\n"
     ]
    },
    {
     "name": "stderr",
     "output_type": "stream",
     "text": [
      "\n",
      "  0%|          | 0/111 [00:00<?, ?it/s]\u001b[A\n",
      "100%|██████████| 111/111 [00:00<00:00, 2015.10it/s]\u001b[A"
     ]
    },
    {
     "name": "stdout",
     "output_type": "stream",
     "text": [
      "[MoviePy] Done.\n",
      "8\n",
      "False\n",
      "\n",
      "[MoviePy] Running:\n",
      ">>> /Users/smlee/Library/Application Support/imageio/ffmpeg/ffmpeg-osx-v3.2.4 -y -i ./yunha.mp4 -ss 35.00 -t 5.00 -vcodec copy -acodec copy ./audio-classification/data/output/8.mp4\n",
      "... command successful.\n",
      "[MoviePy] Writing audio in ./audio-classification/data/output/8.wav\n"
     ]
    },
    {
     "name": "stderr",
     "output_type": "stream",
     "text": [
      "\n",
      "  0%|          | 0/111 [00:00<?, ?it/s]\u001b[A\n",
      "100%|██████████| 111/111 [00:00<00:00, 1946.17it/s]\u001b[A"
     ]
    },
    {
     "name": "stdout",
     "output_type": "stream",
     "text": [
      "[MoviePy] Done.\n",
      "9\n",
      "False\n",
      "\n",
      "[MoviePy] Running:\n",
      ">>> /Users/smlee/Library/Application Support/imageio/ffmpeg/ffmpeg-osx-v3.2.4 -y -i ./yunha.mp4 -ss 40.00 -t 5.00 -vcodec copy -acodec copy ./audio-classification/data/output/9.mp4\n",
      "... command successful.\n",
      "[MoviePy] Writing audio in ./audio-classification/data/output/9.wav\n"
     ]
    },
    {
     "name": "stderr",
     "output_type": "stream",
     "text": [
      "\n",
      "  0%|          | 0/111 [00:00<?, ?it/s]\u001b[A\n",
      "100%|██████████| 111/111 [00:00<00:00, 1984.23it/s]\u001b[A"
     ]
    },
    {
     "name": "stdout",
     "output_type": "stream",
     "text": [
      "[MoviePy] Done.\n",
      "10\n",
      "False\n",
      "\n",
      "[MoviePy] Running:\n",
      ">>> /Users/smlee/Library/Application Support/imageio/ffmpeg/ffmpeg-osx-v3.2.4 -y -i ./yunha.mp4 -ss 45.00 -t 5.00 -vcodec copy -acodec copy ./audio-classification/data/output/10.mp4\n",
      "... command successful.\n",
      "[MoviePy] Writing audio in ./audio-classification/data/output/10.wav\n"
     ]
    },
    {
     "name": "stderr",
     "output_type": "stream",
     "text": [
      "\n",
      "  0%|          | 0/111 [00:00<?, ?it/s]\u001b[A\n",
      "100%|██████████| 111/111 [00:00<00:00, 2081.61it/s]\u001b[A"
     ]
    },
    {
     "name": "stdout",
     "output_type": "stream",
     "text": [
      "[MoviePy] Done.\n",
      "11\n",
      "False\n",
      "\n",
      "[MoviePy] Running:\n",
      ">>> /Users/smlee/Library/Application Support/imageio/ffmpeg/ffmpeg-osx-v3.2.4 -y -i ./yunha.mp4 -ss 50.00 -t 5.00 -vcodec copy -acodec copy ./audio-classification/data/output/11.mp4\n",
      "... command successful.\n",
      "[MoviePy] Writing audio in ./audio-classification/data/output/11.wav\n"
     ]
    },
    {
     "name": "stderr",
     "output_type": "stream",
     "text": [
      "\n",
      "  0%|          | 0/111 [00:00<?, ?it/s]\u001b[A\n",
      "100%|██████████| 111/111 [00:00<00:00, 1442.79it/s]\u001b[A"
     ]
    },
    {
     "name": "stdout",
     "output_type": "stream",
     "text": [
      "[MoviePy] Done.\n",
      "12\n",
      "False\n",
      "\n",
      "[MoviePy] Running:\n",
      ">>> /Users/smlee/Library/Application Support/imageio/ffmpeg/ffmpeg-osx-v3.2.4 -y -i ./yunha.mp4 -ss 55.00 -t 5.00 -vcodec copy -acodec copy ./audio-classification/data/output/12.mp4\n",
      "... command successful.\n",
      "[MoviePy] Writing audio in ./audio-classification/data/output/12.wav\n"
     ]
    },
    {
     "name": "stderr",
     "output_type": "stream",
     "text": [
      "\n",
      "  0%|          | 0/111 [00:00<?, ?it/s]\u001b[A\n",
      "100%|██████████| 111/111 [00:00<00:00, 2185.56it/s]\u001b[A"
     ]
    },
    {
     "name": "stdout",
     "output_type": "stream",
     "text": [
      "[MoviePy] Done.\n",
      "13\n",
      "False\n",
      "\n",
      "[MoviePy] Running:\n",
      ">>> /Users/smlee/Library/Application Support/imageio/ffmpeg/ffmpeg-osx-v3.2.4 -y -i ./yunha.mp4 -ss 60.00 -t 5.00 -vcodec copy -acodec copy ./audio-classification/data/output/13.mp4\n",
      "... command successful.\n",
      "[MoviePy] Writing audio in ./audio-classification/data/output/13.wav\n"
     ]
    },
    {
     "name": "stderr",
     "output_type": "stream",
     "text": [
      "\n",
      "  0%|          | 0/111 [00:00<?, ?it/s]\u001b[A\n",
      "100%|██████████| 111/111 [00:00<00:00, 2012.40it/s]\u001b[A"
     ]
    },
    {
     "name": "stdout",
     "output_type": "stream",
     "text": [
      "[MoviePy] Done.\n",
      "14\n",
      "False\n",
      "\n",
      "[MoviePy] Running:\n",
      ">>> /Users/smlee/Library/Application Support/imageio/ffmpeg/ffmpeg-osx-v3.2.4 -y -i ./yunha.mp4 -ss 65.00 -t 5.00 -vcodec copy -acodec copy ./audio-classification/data/output/14.mp4\n",
      "... command successful.\n",
      "[MoviePy] Writing audio in ./audio-classification/data/output/14.wav\n"
     ]
    },
    {
     "name": "stderr",
     "output_type": "stream",
     "text": [
      "\n",
      "  0%|          | 0/111 [00:00<?, ?it/s]\u001b[A\n",
      "100%|██████████| 111/111 [00:00<00:00, 1718.29it/s]\u001b[A"
     ]
    },
    {
     "name": "stdout",
     "output_type": "stream",
     "text": [
      "[MoviePy] Done.\n",
      "15\n",
      "False\n",
      "\n",
      "[MoviePy] Running:\n",
      ">>> /Users/smlee/Library/Application Support/imageio/ffmpeg/ffmpeg-osx-v3.2.4 -y -i ./yunha.mp4 -ss 70.00 -t 5.00 -vcodec copy -acodec copy ./audio-classification/data/output/15.mp4\n",
      "... command successful.\n",
      "[MoviePy] Writing audio in ./audio-classification/data/output/15.wav\n"
     ]
    },
    {
     "name": "stderr",
     "output_type": "stream",
     "text": [
      "\n",
      "  0%|          | 0/111 [00:00<?, ?it/s]\u001b[A\n",
      "100%|██████████| 111/111 [00:00<00:00, 2243.60it/s]\u001b[A"
     ]
    },
    {
     "name": "stdout",
     "output_type": "stream",
     "text": [
      "[MoviePy] Done.\n",
      "16\n",
      "False\n",
      "\n",
      "[MoviePy] Running:\n",
      ">>> /Users/smlee/Library/Application Support/imageio/ffmpeg/ffmpeg-osx-v3.2.4 -y -i ./yunha.mp4 -ss 75.00 -t 5.00 -vcodec copy -acodec copy ./audio-classification/data/output/16.mp4\n",
      "... command successful.\n",
      "[MoviePy] Writing audio in ./audio-classification/data/output/16.wav\n"
     ]
    },
    {
     "name": "stderr",
     "output_type": "stream",
     "text": [
      "\n",
      "  0%|          | 0/111 [00:00<?, ?it/s]\u001b[A\n",
      "100%|██████████| 111/111 [00:00<00:00, 2277.31it/s]\u001b[A"
     ]
    },
    {
     "name": "stdout",
     "output_type": "stream",
     "text": [
      "[MoviePy] Done.\n",
      "17\n",
      "False\n",
      "\n",
      "[MoviePy] Running:\n",
      ">>> /Users/smlee/Library/Application Support/imageio/ffmpeg/ffmpeg-osx-v3.2.4 -y -i ./yunha.mp4 -ss 80.00 -t 5.00 -vcodec copy -acodec copy ./audio-classification/data/output/17.mp4\n",
      "... command successful.\n",
      "[MoviePy] Writing audio in ./audio-classification/data/output/17.wav\n"
     ]
    },
    {
     "name": "stderr",
     "output_type": "stream",
     "text": [
      "\n",
      "  0%|          | 0/111 [00:00<?, ?it/s]\u001b[A\n",
      "100%|██████████| 111/111 [00:00<00:00, 1767.94it/s]\u001b[A"
     ]
    },
    {
     "name": "stdout",
     "output_type": "stream",
     "text": [
      "[MoviePy] Done.\n",
      "18\n",
      "False\n",
      "\n",
      "[MoviePy] Running:\n",
      ">>> /Users/smlee/Library/Application Support/imageio/ffmpeg/ffmpeg-osx-v3.2.4 -y -i ./yunha.mp4 -ss 85.00 -t 5.00 -vcodec copy -acodec copy ./audio-classification/data/output/18.mp4\n",
      "... command successful.\n",
      "[MoviePy] Writing audio in ./audio-classification/data/output/18.wav\n"
     ]
    },
    {
     "name": "stderr",
     "output_type": "stream",
     "text": [
      "\n",
      "  0%|          | 0/111 [00:00<?, ?it/s]\u001b[A\n",
      "100%|██████████| 111/111 [00:00<00:00, 2205.41it/s]\u001b[A"
     ]
    },
    {
     "name": "stdout",
     "output_type": "stream",
     "text": [
      "[MoviePy] Done.\n",
      "19\n",
      "False\n",
      "\n",
      "[MoviePy] Running:\n",
      ">>> /Users/smlee/Library/Application Support/imageio/ffmpeg/ffmpeg-osx-v3.2.4 -y -i ./yunha.mp4 -ss 90.00 -t 5.00 -vcodec copy -acodec copy ./audio-classification/data/output/19.mp4\n",
      "... command successful.\n",
      "[MoviePy] Writing audio in ./audio-classification/data/output/19.wav\n"
     ]
    },
    {
     "name": "stderr",
     "output_type": "stream",
     "text": [
      "\n",
      "  0%|          | 0/111 [00:00<?, ?it/s]\u001b[A\n",
      "100%|██████████| 111/111 [00:00<00:00, 2116.14it/s]\u001b[A"
     ]
    },
    {
     "name": "stdout",
     "output_type": "stream",
     "text": [
      "[MoviePy] Done.\n",
      "20\n",
      "False\n",
      "\n",
      "[MoviePy] Running:\n",
      ">>> /Users/smlee/Library/Application Support/imageio/ffmpeg/ffmpeg-osx-v3.2.4 -y -i ./yunha.mp4 -ss 95.00 -t 5.00 -vcodec copy -acodec copy ./audio-classification/data/output/20.mp4\n",
      "... command successful.\n",
      "[MoviePy] Writing audio in ./audio-classification/data/output/20.wav\n"
     ]
    },
    {
     "name": "stderr",
     "output_type": "stream",
     "text": [
      "\n",
      "  0%|          | 0/111 [00:00<?, ?it/s]\u001b[A\n",
      "100%|██████████| 111/111 [00:00<00:00, 2277.81it/s]\u001b[A"
     ]
    },
    {
     "name": "stdout",
     "output_type": "stream",
     "text": [
      "[MoviePy] Done.\n",
      "21\n",
      "False\n",
      "\n",
      "[MoviePy] Running:\n",
      ">>> /Users/smlee/Library/Application Support/imageio/ffmpeg/ffmpeg-osx-v3.2.4 -y -i ./yunha.mp4 -ss 100.00 -t 5.00 -vcodec copy -acodec copy ./audio-classification/data/output/21.mp4\n",
      "... command successful.\n",
      "[MoviePy] Writing audio in ./audio-classification/data/output/21.wav\n"
     ]
    },
    {
     "name": "stderr",
     "output_type": "stream",
     "text": [
      "\n",
      "  0%|          | 0/111 [00:00<?, ?it/s]\u001b[A\n",
      "100%|██████████| 111/111 [00:00<00:00, 1786.32it/s]\u001b[A"
     ]
    },
    {
     "name": "stdout",
     "output_type": "stream",
     "text": [
      "[MoviePy] Done.\n",
      "22\n",
      "False\n",
      "\n",
      "[MoviePy] Running:\n",
      ">>> /Users/smlee/Library/Application Support/imageio/ffmpeg/ffmpeg-osx-v3.2.4 -y -i ./yunha.mp4 -ss 105.00 -t 5.00 -vcodec copy -acodec copy ./audio-classification/data/output/22.mp4\n",
      "... command successful.\n",
      "[MoviePy] Writing audio in ./audio-classification/data/output/22.wav\n"
     ]
    },
    {
     "name": "stderr",
     "output_type": "stream",
     "text": [
      "\n",
      "  0%|          | 0/111 [00:00<?, ?it/s]\u001b[A\n",
      "100%|██████████| 111/111 [00:00<00:00, 2387.31it/s]\u001b[A"
     ]
    },
    {
     "name": "stdout",
     "output_type": "stream",
     "text": [
      "[MoviePy] Done.\n",
      "23\n",
      "False\n",
      "\n",
      "[MoviePy] Running:\n",
      ">>> /Users/smlee/Library/Application Support/imageio/ffmpeg/ffmpeg-osx-v3.2.4 -y -i ./yunha.mp4 -ss 110.00 -t 5.00 -vcodec copy -acodec copy ./audio-classification/data/output/23.mp4\n",
      "... command successful.\n",
      "[MoviePy] Writing audio in ./audio-classification/data/output/23.wav\n"
     ]
    },
    {
     "name": "stderr",
     "output_type": "stream",
     "text": [
      "\n",
      "  0%|          | 0/111 [00:00<?, ?it/s]\u001b[A\n",
      "100%|██████████| 111/111 [00:00<00:00, 2161.39it/s]\u001b[A"
     ]
    },
    {
     "name": "stdout",
     "output_type": "stream",
     "text": [
      "[MoviePy] Done.\n",
      "24\n",
      "False\n",
      "\n",
      "[MoviePy] Running:\n",
      ">>> /Users/smlee/Library/Application Support/imageio/ffmpeg/ffmpeg-osx-v3.2.4 -y -i ./yunha.mp4 -ss 115.00 -t 5.00 -vcodec copy -acodec copy ./audio-classification/data/output/24.mp4\n",
      "... command successful.\n",
      "[MoviePy] Writing audio in ./audio-classification/data/output/24.wav\n"
     ]
    },
    {
     "name": "stderr",
     "output_type": "stream",
     "text": [
      "\n",
      "  0%|          | 0/111 [00:00<?, ?it/s]\u001b[A\n",
      "100%|██████████| 111/111 [00:00<00:00, 2359.69it/s]\u001b[A"
     ]
    },
    {
     "name": "stdout",
     "output_type": "stream",
     "text": [
      "[MoviePy] Done.\n",
      "25\n",
      "False\n",
      "\n",
      "[MoviePy] Running:\n",
      ">>> /Users/smlee/Library/Application Support/imageio/ffmpeg/ffmpeg-osx-v3.2.4 -y -i ./yunha.mp4 -ss 120.00 -t 5.00 -vcodec copy -acodec copy ./audio-classification/data/output/25.mp4\n",
      "... command successful.\n",
      "[MoviePy] Writing audio in ./audio-classification/data/output/25.wav\n"
     ]
    },
    {
     "name": "stderr",
     "output_type": "stream",
     "text": [
      "\n",
      "  0%|          | 0/111 [00:00<?, ?it/s]\u001b[A\n",
      "100%|██████████| 111/111 [00:00<00:00, 2360.14it/s]\u001b[A"
     ]
    },
    {
     "name": "stdout",
     "output_type": "stream",
     "text": [
      "[MoviePy] Done.\n",
      "26\n",
      "False\n",
      "\n",
      "[MoviePy] Running:\n",
      ">>> /Users/smlee/Library/Application Support/imageio/ffmpeg/ffmpeg-osx-v3.2.4 -y -i ./yunha.mp4 -ss 125.00 -t 5.00 -vcodec copy -acodec copy ./audio-classification/data/output/26.mp4\n",
      "... command successful.\n",
      "[MoviePy] Writing audio in ./audio-classification/data/output/26.wav\n"
     ]
    },
    {
     "name": "stderr",
     "output_type": "stream",
     "text": [
      "\n",
      "  0%|          | 0/111 [00:00<?, ?it/s]\u001b[A\n",
      "100%|██████████| 111/111 [00:00<00:00, 2313.32it/s]\u001b[A"
     ]
    },
    {
     "name": "stdout",
     "output_type": "stream",
     "text": [
      "[MoviePy] Done.\n",
      "27\n",
      "False\n",
      "\n",
      "[MoviePy] Running:\n",
      ">>> /Users/smlee/Library/Application Support/imageio/ffmpeg/ffmpeg-osx-v3.2.4 -y -i ./yunha.mp4 -ss 130.00 -t 5.00 -vcodec copy -acodec copy ./audio-classification/data/output/27.mp4\n",
      "... command successful.\n",
      "[MoviePy] Writing audio in ./audio-classification/data/output/27.wav\n"
     ]
    },
    {
     "name": "stderr",
     "output_type": "stream",
     "text": [
      "\n",
      "  0%|          | 0/111 [00:00<?, ?it/s]\u001b[A\n",
      "100%|██████████| 111/111 [00:00<00:00, 2047.67it/s]\u001b[A"
     ]
    },
    {
     "name": "stdout",
     "output_type": "stream",
     "text": [
      "[MoviePy] Done.\n",
      "28\n",
      "False\n",
      "\n",
      "[MoviePy] Running:\n",
      ">>> /Users/smlee/Library/Application Support/imageio/ffmpeg/ffmpeg-osx-v3.2.4 -y -i ./yunha.mp4 -ss 135.00 -t 5.00 -vcodec copy -acodec copy ./audio-classification/data/output/28.mp4\n",
      "... command successful.\n",
      "[MoviePy] Writing audio in ./audio-classification/data/output/28.wav\n"
     ]
    },
    {
     "name": "stderr",
     "output_type": "stream",
     "text": [
      "\n",
      "  0%|          | 0/111 [00:00<?, ?it/s]\u001b[A\n",
      "100%|██████████| 111/111 [00:00<00:00, 2053.54it/s]\u001b[A"
     ]
    },
    {
     "name": "stdout",
     "output_type": "stream",
     "text": [
      "[MoviePy] Done.\n",
      "29\n",
      "False\n",
      "\n",
      "[MoviePy] Running:\n",
      ">>> /Users/smlee/Library/Application Support/imageio/ffmpeg/ffmpeg-osx-v3.2.4 -y -i ./yunha.mp4 -ss 140.00 -t 5.00 -vcodec copy -acodec copy ./audio-classification/data/output/29.mp4\n",
      "... command successful.\n",
      "[MoviePy] Writing audio in ./audio-classification/data/output/29.wav\n"
     ]
    },
    {
     "name": "stderr",
     "output_type": "stream",
     "text": [
      "\n",
      "  0%|          | 0/111 [00:00<?, ?it/s]\u001b[A\n",
      "100%|██████████| 111/111 [00:00<00:00, 2275.10it/s]\u001b[A"
     ]
    },
    {
     "name": "stdout",
     "output_type": "stream",
     "text": [
      "[MoviePy] Done.\n",
      "30\n",
      "False\n",
      "\n",
      "[MoviePy] Running:\n",
      ">>> /Users/smlee/Library/Application Support/imageio/ffmpeg/ffmpeg-osx-v3.2.4 -y -i ./yunha.mp4 -ss 145.00 -t 5.00 -vcodec copy -acodec copy ./audio-classification/data/output/30.mp4\n",
      "... command successful.\n",
      "[MoviePy] Writing audio in ./audio-classification/data/output/30.wav\n"
     ]
    },
    {
     "name": "stderr",
     "output_type": "stream",
     "text": [
      "\n",
      "  0%|          | 0/111 [00:00<?, ?it/s]\u001b[A\n",
      "100%|██████████| 111/111 [00:00<00:00, 2161.34it/s]\u001b[A"
     ]
    },
    {
     "name": "stdout",
     "output_type": "stream",
     "text": [
      "[MoviePy] Done.\n",
      "31\n",
      "False\n",
      "\n",
      "[MoviePy] Running:\n",
      ">>> /Users/smlee/Library/Application Support/imageio/ffmpeg/ffmpeg-osx-v3.2.4 -y -i ./yunha.mp4 -ss 150.00 -t 5.00 -vcodec copy -acodec copy ./audio-classification/data/output/31.mp4\n",
      "... command successful.\n",
      "[MoviePy] Writing audio in ./audio-classification/data/output/31.wav\n"
     ]
    },
    {
     "name": "stderr",
     "output_type": "stream",
     "text": [
      "\n",
      "  0%|          | 0/111 [00:00<?, ?it/s]\u001b[A\n",
      "100%|██████████| 111/111 [00:00<00:00, 2366.18it/s]\u001b[A"
     ]
    },
    {
     "name": "stdout",
     "output_type": "stream",
     "text": [
      "[MoviePy] Done.\n",
      "32\n",
      "False\n",
      "\n",
      "[MoviePy] Running:\n",
      ">>> /Users/smlee/Library/Application Support/imageio/ffmpeg/ffmpeg-osx-v3.2.4 -y -i ./yunha.mp4 -ss 155.00 -t 5.00 -vcodec copy -acodec copy ./audio-classification/data/output/32.mp4\n",
      "... command successful.\n",
      "[MoviePy] Writing audio in ./audio-classification/data/output/32.wav\n"
     ]
    },
    {
     "name": "stderr",
     "output_type": "stream",
     "text": [
      "\n",
      "  0%|          | 0/111 [00:00<?, ?it/s]\u001b[A\n",
      "100%|██████████| 111/111 [00:00<00:00, 2378.76it/s]\u001b[A"
     ]
    },
    {
     "name": "stdout",
     "output_type": "stream",
     "text": [
      "[MoviePy] Done.\n",
      "33\n",
      "False\n",
      "\n",
      "[MoviePy] Running:\n",
      ">>> /Users/smlee/Library/Application Support/imageio/ffmpeg/ffmpeg-osx-v3.2.4 -y -i ./yunha.mp4 -ss 160.00 -t 5.00 -vcodec copy -acodec copy ./audio-classification/data/output/33.mp4\n",
      "... command successful.\n",
      "[MoviePy] Writing audio in ./audio-classification/data/output/33.wav\n"
     ]
    },
    {
     "name": "stderr",
     "output_type": "stream",
     "text": [
      "\n",
      "  0%|          | 0/111 [00:00<?, ?it/s]\u001b[A\n",
      "100%|██████████| 111/111 [00:00<00:00, 2352.74it/s]\u001b[A"
     ]
    },
    {
     "name": "stdout",
     "output_type": "stream",
     "text": [
      "[MoviePy] Done.\n",
      "34\n",
      "False\n",
      "\n",
      "[MoviePy] Running:\n",
      ">>> /Users/smlee/Library/Application Support/imageio/ffmpeg/ffmpeg-osx-v3.2.4 -y -i ./yunha.mp4 -ss 165.00 -t 5.00 -vcodec copy -acodec copy ./audio-classification/data/output/34.mp4\n",
      "... command successful.\n",
      "[MoviePy] Writing audio in ./audio-classification/data/output/34.wav\n"
     ]
    },
    {
     "name": "stderr",
     "output_type": "stream",
     "text": [
      "\n",
      "  0%|          | 0/111 [00:00<?, ?it/s]\u001b[A\n",
      "100%|██████████| 111/111 [00:00<00:00, 2517.75it/s]\u001b[A"
     ]
    },
    {
     "name": "stdout",
     "output_type": "stream",
     "text": [
      "[MoviePy] Done.\n",
      "35\n",
      "False\n",
      "\n",
      "[MoviePy] Running:\n",
      ">>> /Users/smlee/Library/Application Support/imageio/ffmpeg/ffmpeg-osx-v3.2.4 -y -i ./yunha.mp4 -ss 170.00 -t 5.00 -vcodec copy -acodec copy ./audio-classification/data/output/35.mp4\n",
      "... command successful.\n",
      "[MoviePy] Writing audio in ./audio-classification/data/output/35.wav\n"
     ]
    },
    {
     "name": "stderr",
     "output_type": "stream",
     "text": [
      "\n",
      "  0%|          | 0/111 [00:00<?, ?it/s]\u001b[A\n",
      "100%|██████████| 111/111 [00:00<00:00, 2535.69it/s]\u001b[A"
     ]
    },
    {
     "name": "stdout",
     "output_type": "stream",
     "text": [
      "[MoviePy] Done.\n",
      "36\n",
      "False\n",
      "\n",
      "[MoviePy] Running:\n",
      ">>> /Users/smlee/Library/Application Support/imageio/ffmpeg/ffmpeg-osx-v3.2.4 -y -i ./yunha.mp4 -ss 175.00 -t 5.00 -vcodec copy -acodec copy ./audio-classification/data/output/36.mp4\n",
      "... command successful.\n",
      "[MoviePy] Writing audio in ./audio-classification/data/output/36.wav\n"
     ]
    },
    {
     "name": "stderr",
     "output_type": "stream",
     "text": [
      "\n",
      "  0%|          | 0/111 [00:00<?, ?it/s]\u001b[A\n",
      "100%|██████████| 111/111 [00:00<00:00, 2179.03it/s]\u001b[A"
     ]
    },
    {
     "name": "stdout",
     "output_type": "stream",
     "text": [
      "[MoviePy] Done.\n",
      "37\n",
      "False\n",
      "\n",
      "[MoviePy] Running:\n",
      ">>> /Users/smlee/Library/Application Support/imageio/ffmpeg/ffmpeg-osx-v3.2.4 -y -i ./yunha.mp4 -ss 180.00 -t 5.00 -vcodec copy -acodec copy ./audio-classification/data/output/37.mp4\n",
      "... command successful.\n",
      "[MoviePy] Writing audio in ./audio-classification/data/output/37.wav\n"
     ]
    },
    {
     "name": "stderr",
     "output_type": "stream",
     "text": [
      "\n",
      "  0%|          | 0/111 [00:00<?, ?it/s]\u001b[A\n",
      "100%|██████████| 111/111 [00:00<00:00, 2004.52it/s]\u001b[A"
     ]
    },
    {
     "name": "stdout",
     "output_type": "stream",
     "text": [
      "[MoviePy] Done.\n",
      "38\n",
      "False\n",
      "\n",
      "[MoviePy] Running:\n",
      ">>> /Users/smlee/Library/Application Support/imageio/ffmpeg/ffmpeg-osx-v3.2.4 -y -i ./yunha.mp4 -ss 185.00 -t 5.00 -vcodec copy -acodec copy ./audio-classification/data/output/38.mp4\n",
      "... command successful.\n",
      "[MoviePy] Writing audio in ./audio-classification/data/output/38.wav\n"
     ]
    },
    {
     "name": "stderr",
     "output_type": "stream",
     "text": [
      "\n",
      "  0%|          | 0/111 [00:00<?, ?it/s]\u001b[A\n",
      "100%|██████████| 111/111 [00:00<00:00, 2379.94it/s]\u001b[A"
     ]
    },
    {
     "name": "stdout",
     "output_type": "stream",
     "text": [
      "[MoviePy] Done.\n",
      "39\n",
      "False\n",
      "\n",
      "[MoviePy] Running:\n",
      ">>> /Users/smlee/Library/Application Support/imageio/ffmpeg/ffmpeg-osx-v3.2.4 -y -i ./yunha.mp4 -ss 190.00 -t 5.00 -vcodec copy -acodec copy ./audio-classification/data/output/39.mp4\n",
      "... command successful.\n",
      "[MoviePy] Writing audio in ./audio-classification/data/output/39.wav\n"
     ]
    },
    {
     "name": "stderr",
     "output_type": "stream",
     "text": [
      "\n",
      "  0%|          | 0/111 [00:00<?, ?it/s]\u001b[A\n",
      "100%|██████████| 111/111 [00:00<00:00, 2350.06it/s]\u001b[A"
     ]
    },
    {
     "name": "stdout",
     "output_type": "stream",
     "text": [
      "[MoviePy] Done.\n",
      "40\n",
      "False\n",
      "\n",
      "[MoviePy] Running:\n",
      ">>> /Users/smlee/Library/Application Support/imageio/ffmpeg/ffmpeg-osx-v3.2.4 -y -i ./yunha.mp4 -ss 195.00 -t 5.00 -vcodec copy -acodec copy ./audio-classification/data/output/40.mp4\n",
      "... command successful.\n",
      "[MoviePy] Writing audio in ./audio-classification/data/output/40.wav\n"
     ]
    },
    {
     "name": "stderr",
     "output_type": "stream",
     "text": [
      "\n",
      "  0%|          | 0/111 [00:00<?, ?it/s]\u001b[A\n",
      "100%|██████████| 111/111 [00:00<00:00, 2191.77it/s]\u001b[A"
     ]
    },
    {
     "name": "stdout",
     "output_type": "stream",
     "text": [
      "[MoviePy] Done.\n",
      "41\n",
      "False\n",
      "\n",
      "[MoviePy] Running:\n",
      ">>> /Users/smlee/Library/Application Support/imageio/ffmpeg/ffmpeg-osx-v3.2.4 -y -i ./yunha.mp4 -ss 200.00 -t 5.00 -vcodec copy -acodec copy ./audio-classification/data/output/41.mp4\n",
      "... command successful.\n",
      "[MoviePy] Writing audio in ./audio-classification/data/output/41.wav\n"
     ]
    },
    {
     "name": "stderr",
     "output_type": "stream",
     "text": [
      "\n",
      "  0%|          | 0/111 [00:00<?, ?it/s]\u001b[A\n",
      "100%|██████████| 111/111 [00:00<00:00, 2154.29it/s]\u001b[A"
     ]
    },
    {
     "name": "stdout",
     "output_type": "stream",
     "text": [
      "[MoviePy] Done.\n",
      "42\n",
      "False\n",
      "\n",
      "[MoviePy] Running:\n",
      ">>> /Users/smlee/Library/Application Support/imageio/ffmpeg/ffmpeg-osx-v3.2.4 -y -i ./yunha.mp4 -ss 205.00 -t 5.00 -vcodec copy -acodec copy ./audio-classification/data/output/42.mp4\n",
      "... command successful.\n",
      "[MoviePy] Writing audio in ./audio-classification/data/output/42.wav\n"
     ]
    },
    {
     "name": "stderr",
     "output_type": "stream",
     "text": [
      "\n",
      "  0%|          | 0/111 [00:00<?, ?it/s]\u001b[A\n",
      "100%|██████████| 111/111 [00:00<00:00, 2406.56it/s]\u001b[A"
     ]
    },
    {
     "name": "stdout",
     "output_type": "stream",
     "text": [
      "[MoviePy] Done.\n",
      "43\n",
      "False\n",
      "\n",
      "[MoviePy] Running:\n",
      ">>> /Users/smlee/Library/Application Support/imageio/ffmpeg/ffmpeg-osx-v3.2.4 -y -i ./yunha.mp4 -ss 210.00 -t 5.00 -vcodec copy -acodec copy ./audio-classification/data/output/43.mp4\n",
      "... command successful.\n",
      "[MoviePy] Writing audio in ./audio-classification/data/output/43.wav\n"
     ]
    },
    {
     "name": "stderr",
     "output_type": "stream",
     "text": [
      "\n",
      "  0%|          | 0/111 [00:00<?, ?it/s]\u001b[A\n",
      "100%|██████████| 111/111 [00:00<00:00, 2165.85it/s]\u001b[A"
     ]
    },
    {
     "name": "stdout",
     "output_type": "stream",
     "text": [
      "[MoviePy] Done.\n",
      "44\n",
      "False\n",
      "\n",
      "[MoviePy] Running:\n",
      ">>> /Users/smlee/Library/Application Support/imageio/ffmpeg/ffmpeg-osx-v3.2.4 -y -i ./yunha.mp4 -ss 215.00 -t 5.00 -vcodec copy -acodec copy ./audio-classification/data/output/44.mp4\n",
      "... command successful.\n",
      "[MoviePy] Writing audio in ./audio-classification/data/output/44.wav\n"
     ]
    },
    {
     "name": "stderr",
     "output_type": "stream",
     "text": [
      "\n",
      "  0%|          | 0/111 [00:00<?, ?it/s]\u001b[A\n",
      "100%|██████████| 111/111 [00:00<00:00, 1760.01it/s]\u001b[A"
     ]
    },
    {
     "name": "stdout",
     "output_type": "stream",
     "text": [
      "[MoviePy] Done.\n",
      "45\n",
      "False\n",
      "\n",
      "[MoviePy] Running:\n",
      ">>> /Users/smlee/Library/Application Support/imageio/ffmpeg/ffmpeg-osx-v3.2.4 -y -i ./yunha.mp4 -ss 220.00 -t 5.00 -vcodec copy -acodec copy ./audio-classification/data/output/45.mp4\n",
      "... command successful.\n",
      "[MoviePy] Writing audio in ./audio-classification/data/output/45.wav\n"
     ]
    },
    {
     "name": "stderr",
     "output_type": "stream",
     "text": [
      "\n",
      "  0%|          | 0/111 [00:00<?, ?it/s]\u001b[A\n",
      "100%|██████████| 111/111 [00:00<00:00, 1910.99it/s]\u001b[A"
     ]
    },
    {
     "name": "stdout",
     "output_type": "stream",
     "text": [
      "[MoviePy] Done.\n",
      "46\n",
      "False\n",
      "\n",
      "[MoviePy] Running:\n",
      ">>> /Users/smlee/Library/Application Support/imageio/ffmpeg/ffmpeg-osx-v3.2.4 -y -i ./yunha.mp4 -ss 225.00 -t 5.00 -vcodec copy -acodec copy ./audio-classification/data/output/46.mp4\n",
      "... command successful.\n",
      "[MoviePy] Writing audio in ./audio-classification/data/output/46.wav\n"
     ]
    },
    {
     "name": "stderr",
     "output_type": "stream",
     "text": [
      "\n",
      "  0%|          | 0/111 [00:00<?, ?it/s]\u001b[A\n",
      "100%|██████████| 111/111 [00:00<00:00, 2606.12it/s]\u001b[A"
     ]
    },
    {
     "name": "stdout",
     "output_type": "stream",
     "text": [
      "[MoviePy] Done.\n",
      "47\n",
      "False\n",
      "\n",
      "[MoviePy] Running:\n",
      ">>> /Users/smlee/Library/Application Support/imageio/ffmpeg/ffmpeg-osx-v3.2.4 -y -i ./yunha.mp4 -ss 230.00 -t 5.00 -vcodec copy -acodec copy ./audio-classification/data/output/47.mp4\n",
      "... command successful.\n",
      "[MoviePy] Writing audio in ./audio-classification/data/output/47.wav\n"
     ]
    },
    {
     "name": "stderr",
     "output_type": "stream",
     "text": [
      "\n",
      "  0%|          | 0/111 [00:00<?, ?it/s]\u001b[A\n",
      "100%|██████████| 111/111 [00:00<00:00, 2805.72it/s]\u001b[A"
     ]
    },
    {
     "name": "stdout",
     "output_type": "stream",
     "text": [
      "[MoviePy] Done.\n",
      "48\n",
      "False\n",
      "\n",
      "[MoviePy] Running:\n",
      ">>> /Users/smlee/Library/Application Support/imageio/ffmpeg/ffmpeg-osx-v3.2.4 -y -i ./yunha.mp4 -ss 235.00 -t 5.00 -vcodec copy -acodec copy ./audio-classification/data/output/48.mp4\n",
      "... command successful.\n",
      "[MoviePy] Writing audio in ./audio-classification/data/output/48.wav\n"
     ]
    },
    {
     "name": "stderr",
     "output_type": "stream",
     "text": [
      "\n",
      "  0%|          | 0/111 [00:00<?, ?it/s]\u001b[A\n",
      "100%|██████████| 111/111 [00:00<00:00, 2389.72it/s]\u001b[A"
     ]
    },
    {
     "name": "stdout",
     "output_type": "stream",
     "text": [
      "[MoviePy] Done.\n",
      "49\n",
      "False\n",
      "\n",
      "[MoviePy] Running:\n",
      ">>> /Users/smlee/Library/Application Support/imageio/ffmpeg/ffmpeg-osx-v3.2.4 -y -i ./yunha.mp4 -ss 240.00 -t 5.00 -vcodec copy -acodec copy ./audio-classification/data/output/49.mp4\n",
      "... command successful.\n",
      "[MoviePy] Writing audio in ./audio-classification/data/output/49.wav\n"
     ]
    },
    {
     "name": "stderr",
     "output_type": "stream",
     "text": [
      "\n",
      "  0%|          | 0/111 [00:00<?, ?it/s]\u001b[A\n",
      "100%|██████████| 111/111 [00:00<00:00, 2096.67it/s]\u001b[A"
     ]
    },
    {
     "name": "stdout",
     "output_type": "stream",
     "text": [
      "[MoviePy] Done.\n",
      "50\n",
      "False\n",
      "\n",
      "[MoviePy] Running:\n",
      ">>> /Users/smlee/Library/Application Support/imageio/ffmpeg/ffmpeg-osx-v3.2.4 -y -i ./yunha.mp4 -ss 245.00 -t 5.00 -vcodec copy -acodec copy ./audio-classification/data/output/50.mp4\n",
      "... command successful.\n",
      "[MoviePy] Writing audio in ./audio-classification/data/output/50.wav\n"
     ]
    },
    {
     "name": "stderr",
     "output_type": "stream",
     "text": [
      "\n",
      "  0%|          | 0/111 [00:00<?, ?it/s]\u001b[A\n",
      "100%|██████████| 111/111 [00:00<00:00, 2272.40it/s]\u001b[A"
     ]
    },
    {
     "name": "stdout",
     "output_type": "stream",
     "text": [
      "[MoviePy] Done.\n",
      "51\n",
      "False\n",
      "\n",
      "[MoviePy] Running:\n",
      ">>> /Users/smlee/Library/Application Support/imageio/ffmpeg/ffmpeg-osx-v3.2.4 -y -i ./yunha.mp4 -ss 250.00 -t 5.00 -vcodec copy -acodec copy ./audio-classification/data/output/51.mp4\n",
      "... command successful.\n",
      "[MoviePy] Writing audio in ./audio-classification/data/output/51.wav\n"
     ]
    },
    {
     "name": "stderr",
     "output_type": "stream",
     "text": [
      "\n",
      "  0%|          | 0/111 [00:00<?, ?it/s]\u001b[A\n",
      "100%|██████████| 111/111 [00:00<00:00, 2439.24it/s]\u001b[A"
     ]
    },
    {
     "name": "stdout",
     "output_type": "stream",
     "text": [
      "[MoviePy] Done.\n",
      "52\n",
      "False\n",
      "\n",
      "[MoviePy] Running:\n",
      ">>> /Users/smlee/Library/Application Support/imageio/ffmpeg/ffmpeg-osx-v3.2.4 -y -i ./yunha.mp4 -ss 255.00 -t 5.00 -vcodec copy -acodec copy ./audio-classification/data/output/52.mp4\n",
      "... command successful.\n",
      "[MoviePy] Writing audio in ./audio-classification/data/output/52.wav\n"
     ]
    },
    {
     "name": "stderr",
     "output_type": "stream",
     "text": [
      "\n",
      "  0%|          | 0/111 [00:00<?, ?it/s]\u001b[A\n",
      "100%|██████████| 111/111 [00:00<00:00, 2259.77it/s]\u001b[A"
     ]
    },
    {
     "name": "stdout",
     "output_type": "stream",
     "text": [
      "[MoviePy] Done.\n",
      "53\n",
      "False\n",
      "\n",
      "[MoviePy] Running:\n",
      ">>> /Users/smlee/Library/Application Support/imageio/ffmpeg/ffmpeg-osx-v3.2.4 -y -i ./yunha.mp4 -ss 260.00 -t 5.00 -vcodec copy -acodec copy ./audio-classification/data/output/53.mp4\n",
      "... command successful.\n",
      "[MoviePy] Writing audio in ./audio-classification/data/output/53.wav\n"
     ]
    },
    {
     "name": "stderr",
     "output_type": "stream",
     "text": [
      "\n",
      "  0%|          | 0/111 [00:00<?, ?it/s]\u001b[A\n",
      "100%|██████████| 111/111 [00:00<00:00, 2577.79it/s]\u001b[A"
     ]
    },
    {
     "name": "stdout",
     "output_type": "stream",
     "text": [
      "[MoviePy] Done.\n",
      "54\n",
      "False\n",
      "\n",
      "[MoviePy] Running:\n",
      ">>> /Users/smlee/Library/Application Support/imageio/ffmpeg/ffmpeg-osx-v3.2.4 -y -i ./yunha.mp4 -ss 265.00 -t 5.00 -vcodec copy -acodec copy ./audio-classification/data/output/54.mp4\n",
      "... command successful.\n",
      "[MoviePy] Writing audio in ./audio-classification/data/output/54.wav\n"
     ]
    },
    {
     "name": "stderr",
     "output_type": "stream",
     "text": [
      "\n",
      "  0%|          | 0/111 [00:00<?, ?it/s]\u001b[A\n",
      "100%|██████████| 111/111 [00:00<00:00, 2496.85it/s]\u001b[A"
     ]
    },
    {
     "name": "stdout",
     "output_type": "stream",
     "text": [
      "[MoviePy] Done.\n",
      "55\n",
      "False\n",
      "\n",
      "[MoviePy] Running:\n",
      ">>> /Users/smlee/Library/Application Support/imageio/ffmpeg/ffmpeg-osx-v3.2.4 -y -i ./yunha.mp4 -ss 270.00 -t 5.00 -vcodec copy -acodec copy ./audio-classification/data/output/55.mp4\n",
      "... command successful.\n",
      "[MoviePy] Writing audio in ./audio-classification/data/output/55.wav\n"
     ]
    },
    {
     "name": "stderr",
     "output_type": "stream",
     "text": [
      "\n",
      "  0%|          | 0/111 [00:00<?, ?it/s]\u001b[A\n",
      "100%|██████████| 111/111 [00:00<00:00, 2351.04it/s]\u001b[A"
     ]
    },
    {
     "name": "stdout",
     "output_type": "stream",
     "text": [
      "[MoviePy] Done.\n",
      "56\n",
      "False\n",
      "\n",
      "[MoviePy] Running:\n",
      ">>> /Users/smlee/Library/Application Support/imageio/ffmpeg/ffmpeg-osx-v3.2.4 -y -i ./yunha.mp4 -ss 275.00 -t 5.00 -vcodec copy -acodec copy ./audio-classification/data/output/56.mp4\n",
      "... command successful.\n",
      "[MoviePy] Writing audio in ./audio-classification/data/output/56.wav\n"
     ]
    },
    {
     "name": "stderr",
     "output_type": "stream",
     "text": [
      "\n",
      "  0%|          | 0/111 [00:00<?, ?it/s]\u001b[A\n",
      "100%|██████████| 111/111 [00:00<00:00, 2526.69it/s]\u001b[A"
     ]
    },
    {
     "name": "stdout",
     "output_type": "stream",
     "text": [
      "[MoviePy] Done.\n",
      "57\n",
      "False\n",
      "\n",
      "[MoviePy] Running:\n",
      ">>> /Users/smlee/Library/Application Support/imageio/ffmpeg/ffmpeg-osx-v3.2.4 -y -i ./yunha.mp4 -ss 280.00 -t 5.00 -vcodec copy -acodec copy ./audio-classification/data/output/57.mp4\n",
      "... command successful.\n",
      "[MoviePy] Writing audio in ./audio-classification/data/output/57.wav\n"
     ]
    },
    {
     "name": "stderr",
     "output_type": "stream",
     "text": [
      "\n",
      "  0%|          | 0/111 [00:00<?, ?it/s]\u001b[A\n",
      "100%|██████████| 111/111 [00:00<00:00, 2170.34it/s]\u001b[A"
     ]
    },
    {
     "name": "stdout",
     "output_type": "stream",
     "text": [
      "[MoviePy] Done.\n",
      "58\n",
      "False\n",
      "\n",
      "[MoviePy] Running:\n",
      ">>> /Users/smlee/Library/Application Support/imageio/ffmpeg/ffmpeg-osx-v3.2.4 -y -i ./yunha.mp4 -ss 285.00 -t 5.00 -vcodec copy -acodec copy ./audio-classification/data/output/58.mp4\n",
      "... command successful.\n",
      "[MoviePy] Writing audio in ./audio-classification/data/output/58.wav\n"
     ]
    },
    {
     "name": "stderr",
     "output_type": "stream",
     "text": [
      "\n",
      "  0%|          | 0/111 [00:00<?, ?it/s]\u001b[A\n",
      "100%|██████████| 111/111 [00:00<00:00, 2119.45it/s]\u001b[A"
     ]
    },
    {
     "name": "stdout",
     "output_type": "stream",
     "text": [
      "[MoviePy] Done.\n",
      "59\n",
      "False\n",
      "\n",
      "[MoviePy] Running:\n",
      ">>> /Users/smlee/Library/Application Support/imageio/ffmpeg/ffmpeg-osx-v3.2.4 -y -i ./yunha.mp4 -ss 290.00 -t 5.00 -vcodec copy -acodec copy ./audio-classification/data/output/59.mp4\n",
      "... command successful.\n",
      "[MoviePy] Writing audio in ./audio-classification/data/output/59.wav\n"
     ]
    },
    {
     "name": "stderr",
     "output_type": "stream",
     "text": [
      "\n",
      "  0%|          | 0/111 [00:00<?, ?it/s]\u001b[A\n",
      "100%|██████████| 111/111 [00:00<00:00, 2174.01it/s]\u001b[A"
     ]
    },
    {
     "name": "stdout",
     "output_type": "stream",
     "text": [
      "[MoviePy] Done.\n",
      "60\n",
      "False\n",
      "\n",
      "[MoviePy] Running:\n",
      ">>> /Users/smlee/Library/Application Support/imageio/ffmpeg/ffmpeg-osx-v3.2.4 -y -i ./yunha.mp4 -ss 295.00 -t 5.00 -vcodec copy -acodec copy ./audio-classification/data/output/60.mp4\n",
      "... command successful.\n",
      "[MoviePy] Writing audio in ./audio-classification/data/output/60.wav\n"
     ]
    },
    {
     "name": "stderr",
     "output_type": "stream",
     "text": [
      "\n",
      "  0%|          | 0/111 [00:00<?, ?it/s]\u001b[A\n",
      "100%|██████████| 111/111 [00:00<00:00, 2647.53it/s]\u001b[A"
     ]
    },
    {
     "name": "stdout",
     "output_type": "stream",
     "text": [
      "[MoviePy] Done.\n",
      "61\n",
      "False\n",
      "\n",
      "[MoviePy] Running:\n",
      ">>> /Users/smlee/Library/Application Support/imageio/ffmpeg/ffmpeg-osx-v3.2.4 -y -i ./yunha.mp4 -ss 300.00 -t 5.00 -vcodec copy -acodec copy ./audio-classification/data/output/61.mp4\n",
      "... command successful.\n",
      "[MoviePy] Writing audio in ./audio-classification/data/output/61.wav\n"
     ]
    },
    {
     "name": "stderr",
     "output_type": "stream",
     "text": [
      "\n",
      "  0%|          | 0/111 [00:00<?, ?it/s]\u001b[A\n",
      "100%|██████████| 111/111 [00:00<00:00, 2394.51it/s]\u001b[A"
     ]
    },
    {
     "name": "stdout",
     "output_type": "stream",
     "text": [
      "[MoviePy] Done.\n",
      "62\n",
      "False\n",
      "\n",
      "[MoviePy] Running:\n",
      ">>> /Users/smlee/Library/Application Support/imageio/ffmpeg/ffmpeg-osx-v3.2.4 -y -i ./yunha.mp4 -ss 305.00 -t 5.00 -vcodec copy -acodec copy ./audio-classification/data/output/62.mp4\n",
      "... command successful.\n",
      "[MoviePy] Writing audio in ./audio-classification/data/output/62.wav\n"
     ]
    },
    {
     "name": "stderr",
     "output_type": "stream",
     "text": [
      "\n",
      "  0%|          | 0/111 [00:00<?, ?it/s]\u001b[A\n",
      "100%|██████████| 111/111 [00:00<00:00, 2198.41it/s]\u001b[A"
     ]
    },
    {
     "name": "stdout",
     "output_type": "stream",
     "text": [
      "[MoviePy] Done.\n",
      "63\n",
      "False\n",
      "\n",
      "[MoviePy] Running:\n",
      ">>> /Users/smlee/Library/Application Support/imageio/ffmpeg/ffmpeg-osx-v3.2.4 -y -i ./yunha.mp4 -ss 310.00 -t 5.00 -vcodec copy -acodec copy ./audio-classification/data/output/63.mp4\n",
      "... command successful.\n",
      "[MoviePy] Writing audio in ./audio-classification/data/output/63.wav\n"
     ]
    },
    {
     "name": "stderr",
     "output_type": "stream",
     "text": [
      "\n",
      "  0%|          | 0/111 [00:00<?, ?it/s]\u001b[A\n",
      "100%|██████████| 111/111 [00:00<00:00, 2494.71it/s]\u001b[A"
     ]
    },
    {
     "name": "stdout",
     "output_type": "stream",
     "text": [
      "[MoviePy] Done.\n",
      "64\n",
      "False\n",
      "\n",
      "[MoviePy] Running:\n",
      ">>> /Users/smlee/Library/Application Support/imageio/ffmpeg/ffmpeg-osx-v3.2.4 -y -i ./yunha.mp4 -ss 315.00 -t 5.00 -vcodec copy -acodec copy ./audio-classification/data/output/64.mp4\n",
      "... command successful.\n",
      "[MoviePy] Writing audio in ./audio-classification/data/output/64.wav\n"
     ]
    },
    {
     "name": "stderr",
     "output_type": "stream",
     "text": [
      "\n",
      "  0%|          | 0/111 [00:00<?, ?it/s]\u001b[A\n",
      "100%|██████████| 111/111 [00:00<00:00, 2395.70it/s]\u001b[A"
     ]
    },
    {
     "name": "stdout",
     "output_type": "stream",
     "text": [
      "[MoviePy] Done.\n",
      "65\n",
      "False\n",
      "\n",
      "[MoviePy] Running:\n",
      ">>> /Users/smlee/Library/Application Support/imageio/ffmpeg/ffmpeg-osx-v3.2.4 -y -i ./yunha.mp4 -ss 320.00 -t 5.00 -vcodec copy -acodec copy ./audio-classification/data/output/65.mp4\n",
      "... command successful.\n",
      "[MoviePy] Writing audio in ./audio-classification/data/output/65.wav\n"
     ]
    },
    {
     "name": "stderr",
     "output_type": "stream",
     "text": [
      "\n",
      "  0%|          | 0/111 [00:00<?, ?it/s]\u001b[A\n",
      "100%|██████████| 111/111 [00:00<00:00, 2312.93it/s]\u001b[A"
     ]
    },
    {
     "name": "stdout",
     "output_type": "stream",
     "text": [
      "[MoviePy] Done.\n",
      "66\n",
      "False\n",
      "\n",
      "[MoviePy] Running:\n",
      ">>> /Users/smlee/Library/Application Support/imageio/ffmpeg/ffmpeg-osx-v3.2.4 -y -i ./yunha.mp4 -ss 325.00 -t 5.00 -vcodec copy -acodec copy ./audio-classification/data/output/66.mp4\n",
      "... command successful.\n",
      "[MoviePy] Writing audio in ./audio-classification/data/output/66.wav\n"
     ]
    },
    {
     "name": "stderr",
     "output_type": "stream",
     "text": [
      "\n",
      "  0%|          | 0/111 [00:00<?, ?it/s]\u001b[A\n",
      "100%|██████████| 111/111 [00:00<00:00, 2622.06it/s]\u001b[A"
     ]
    },
    {
     "name": "stdout",
     "output_type": "stream",
     "text": [
      "[MoviePy] Done.\n",
      "67\n",
      "False\n",
      "\n",
      "[MoviePy] Running:\n",
      ">>> /Users/smlee/Library/Application Support/imageio/ffmpeg/ffmpeg-osx-v3.2.4 -y -i ./yunha.mp4 -ss 330.00 -t 5.00 -vcodec copy -acodec copy ./audio-classification/data/output/67.mp4\n",
      "... command successful.\n",
      "[MoviePy] Writing audio in ./audio-classification/data/output/67.wav\n"
     ]
    },
    {
     "name": "stderr",
     "output_type": "stream",
     "text": [
      "\n",
      "  0%|          | 0/111 [00:00<?, ?it/s]\u001b[A\n",
      "100%|██████████| 111/111 [00:00<00:00, 2307.78it/s]\u001b[A"
     ]
    },
    {
     "name": "stdout",
     "output_type": "stream",
     "text": [
      "[MoviePy] Done.\n",
      "68\n",
      "False\n",
      "\n",
      "[MoviePy] Running:\n",
      ">>> /Users/smlee/Library/Application Support/imageio/ffmpeg/ffmpeg-osx-v3.2.4 -y -i ./yunha.mp4 -ss 335.00 -t 5.00 -vcodec copy -acodec copy ./audio-classification/data/output/68.mp4\n",
      "... command successful.\n",
      "[MoviePy] Writing audio in ./audio-classification/data/output/68.wav\n"
     ]
    },
    {
     "name": "stderr",
     "output_type": "stream",
     "text": [
      "\n",
      "  0%|          | 0/111 [00:00<?, ?it/s]\u001b[A\n",
      "100%|██████████| 111/111 [00:00<00:00, 2602.27it/s]\u001b[A"
     ]
    },
    {
     "name": "stdout",
     "output_type": "stream",
     "text": [
      "[MoviePy] Done.\n",
      "69\n",
      "False\n",
      "\n",
      "[MoviePy] Running:\n",
      ">>> /Users/smlee/Library/Application Support/imageio/ffmpeg/ffmpeg-osx-v3.2.4 -y -i ./yunha.mp4 -ss 340.00 -t 5.00 -vcodec copy -acodec copy ./audio-classification/data/output/69.mp4\n",
      "... command successful.\n",
      "[MoviePy] Writing audio in ./audio-classification/data/output/69.wav\n"
     ]
    },
    {
     "name": "stderr",
     "output_type": "stream",
     "text": [
      "\n",
      "  0%|          | 0/111 [00:00<?, ?it/s]\u001b[A\n",
      "100%|██████████| 111/111 [00:00<00:00, 2243.83it/s]\u001b[A"
     ]
    },
    {
     "name": "stdout",
     "output_type": "stream",
     "text": [
      "[MoviePy] Done.\n",
      "70\n",
      "False\n",
      "\n",
      "[MoviePy] Running:\n",
      ">>> /Users/smlee/Library/Application Support/imageio/ffmpeg/ffmpeg-osx-v3.2.4 -y -i ./yunha.mp4 -ss 345.00 -t 5.00 -vcodec copy -acodec copy ./audio-classification/data/output/70.mp4\n",
      "... command successful.\n",
      "[MoviePy] Writing audio in ./audio-classification/data/output/70.wav\n"
     ]
    },
    {
     "name": "stderr",
     "output_type": "stream",
     "text": [
      "\n",
      "  0%|          | 0/111 [00:00<?, ?it/s]\u001b[A\n",
      "100%|██████████| 111/111 [00:00<00:00, 1470.02it/s]\u001b[A"
     ]
    },
    {
     "name": "stdout",
     "output_type": "stream",
     "text": [
      "[MoviePy] Done.\n",
      "71\n",
      "False\n",
      "\n",
      "[MoviePy] Running:\n",
      ">>> /Users/smlee/Library/Application Support/imageio/ffmpeg/ffmpeg-osx-v3.2.4 -y -i ./yunha.mp4 -ss 350.00 -t 5.00 -vcodec copy -acodec copy ./audio-classification/data/output/71.mp4\n",
      "... command successful.\n",
      "[MoviePy] Writing audio in ./audio-classification/data/output/71.wav\n"
     ]
    },
    {
     "name": "stderr",
     "output_type": "stream",
     "text": [
      "\n",
      "  0%|          | 0/111 [00:00<?, ?it/s]\u001b[A\n",
      "100%|██████████| 111/111 [00:00<00:00, 2445.31it/s]\u001b[A"
     ]
    },
    {
     "name": "stdout",
     "output_type": "stream",
     "text": [
      "[MoviePy] Done.\n",
      "72\n",
      "False\n",
      "\n",
      "[MoviePy] Running:\n",
      ">>> /Users/smlee/Library/Application Support/imageio/ffmpeg/ffmpeg-osx-v3.2.4 -y -i ./yunha.mp4 -ss 355.00 -t 5.00 -vcodec copy -acodec copy ./audio-classification/data/output/72.mp4\n",
      "... command successful.\n",
      "[MoviePy] Writing audio in ./audio-classification/data/output/72.wav\n"
     ]
    },
    {
     "name": "stderr",
     "output_type": "stream",
     "text": [
      "\n",
      "  0%|          | 0/111 [00:00<?, ?it/s]\u001b[A\n",
      "100%|██████████| 111/111 [00:00<00:00, 2396.89it/s]\u001b[A"
     ]
    },
    {
     "name": "stdout",
     "output_type": "stream",
     "text": [
      "[MoviePy] Done.\n",
      "73\n",
      "False\n",
      "\n",
      "[MoviePy] Running:\n",
      ">>> /Users/smlee/Library/Application Support/imageio/ffmpeg/ffmpeg-osx-v3.2.4 -y -i ./yunha.mp4 -ss 360.00 -t 5.00 -vcodec copy -acodec copy ./audio-classification/data/output/73.mp4\n",
      "... command successful.\n",
      "[MoviePy] Writing audio in ./audio-classification/data/output/73.wav\n"
     ]
    },
    {
     "name": "stderr",
     "output_type": "stream",
     "text": [
      "\n",
      "  0%|          | 0/111 [00:00<?, ?it/s]\u001b[A\n",
      "100%|██████████| 111/111 [00:00<00:00, 2444.50it/s]\u001b[A"
     ]
    },
    {
     "name": "stdout",
     "output_type": "stream",
     "text": [
      "[MoviePy] Done.\n",
      "74\n",
      "False\n",
      "\n",
      "[MoviePy] Running:\n",
      ">>> /Users/smlee/Library/Application Support/imageio/ffmpeg/ffmpeg-osx-v3.2.4 -y -i ./yunha.mp4 -ss 365.00 -t 5.00 -vcodec copy -acodec copy ./audio-classification/data/output/74.mp4\n",
      "... command successful.\n",
      "[MoviePy] Writing audio in ./audio-classification/data/output/74.wav\n"
     ]
    },
    {
     "name": "stderr",
     "output_type": "stream",
     "text": [
      "\n",
      "  0%|          | 0/111 [00:00<?, ?it/s]\u001b[A\n",
      "100%|██████████| 111/111 [00:00<00:00, 2521.53it/s]\u001b[A"
     ]
    },
    {
     "name": "stdout",
     "output_type": "stream",
     "text": [
      "[MoviePy] Done.\n",
      "75\n",
      "False\n",
      "\n",
      "[MoviePy] Running:\n",
      ">>> /Users/smlee/Library/Application Support/imageio/ffmpeg/ffmpeg-osx-v3.2.4 -y -i ./yunha.mp4 -ss 370.00 -t 5.00 -vcodec copy -acodec copy ./audio-classification/data/output/75.mp4\n",
      "... command successful.\n",
      "[MoviePy] Writing audio in ./audio-classification/data/output/75.wav\n"
     ]
    },
    {
     "name": "stderr",
     "output_type": "stream",
     "text": [
      "\n",
      "  0%|          | 0/111 [00:00<?, ?it/s]\u001b[A\n",
      "100%|██████████| 111/111 [00:00<00:00, 2338.62it/s]\u001b[A"
     ]
    },
    {
     "name": "stdout",
     "output_type": "stream",
     "text": [
      "[MoviePy] Done.\n",
      "76\n",
      "False\n",
      "\n",
      "[MoviePy] Running:\n",
      ">>> /Users/smlee/Library/Application Support/imageio/ffmpeg/ffmpeg-osx-v3.2.4 -y -i ./yunha.mp4 -ss 375.00 -t 5.00 -vcodec copy -acodec copy ./audio-classification/data/output/76.mp4\n",
      "... command successful.\n",
      "[MoviePy] Writing audio in ./audio-classification/data/output/76.wav\n"
     ]
    },
    {
     "name": "stderr",
     "output_type": "stream",
     "text": [
      "\n",
      "  0%|          | 0/111 [00:00<?, ?it/s]\u001b[A\n",
      "100%|██████████| 111/111 [00:00<00:00, 2468.98it/s]\u001b[A"
     ]
    },
    {
     "name": "stdout",
     "output_type": "stream",
     "text": [
      "[MoviePy] Done.\n",
      "77\n",
      "False\n",
      "\n",
      "[MoviePy] Running:\n",
      ">>> /Users/smlee/Library/Application Support/imageio/ffmpeg/ffmpeg-osx-v3.2.4 -y -i ./yunha.mp4 -ss 380.00 -t 5.00 -vcodec copy -acodec copy ./audio-classification/data/output/77.mp4\n",
      "... command successful.\n",
      "[MoviePy] Writing audio in ./audio-classification/data/output/77.wav\n"
     ]
    },
    {
     "name": "stderr",
     "output_type": "stream",
     "text": [
      "\n",
      "  0%|          | 0/111 [00:00<?, ?it/s]\u001b[A\n",
      "100%|██████████| 111/111 [00:00<00:00, 2092.17it/s]\u001b[A"
     ]
    },
    {
     "name": "stdout",
     "output_type": "stream",
     "text": [
      "[MoviePy] Done.\n",
      "78\n",
      "False\n",
      "\n",
      "[MoviePy] Running:\n",
      ">>> /Users/smlee/Library/Application Support/imageio/ffmpeg/ffmpeg-osx-v3.2.4 -y -i ./yunha.mp4 -ss 385.00 -t 5.00 -vcodec copy -acodec copy ./audio-classification/data/output/78.mp4\n",
      "... command successful.\n",
      "[MoviePy] Writing audio in ./audio-classification/data/output/78.wav\n"
     ]
    },
    {
     "name": "stderr",
     "output_type": "stream",
     "text": [
      "\n",
      "  0%|          | 0/111 [00:00<?, ?it/s]\u001b[A\n",
      " 54%|█████▍    | 60/111 [00:00<00:00, 592.51it/s]\u001b[A\n",
      "100%|██████████| 111/111 [00:00<00:00, 837.81it/s]\u001b[A"
     ]
    },
    {
     "name": "stdout",
     "output_type": "stream",
     "text": [
      "[MoviePy] Done.\n",
      "79\n",
      "False\n",
      "\n",
      "[MoviePy] Running:\n",
      ">>> /Users/smlee/Library/Application Support/imageio/ffmpeg/ffmpeg-osx-v3.2.4 -y -i ./yunha.mp4 -ss 390.00 -t 5.00 -vcodec copy -acodec copy ./audio-classification/data/output/79.mp4\n",
      "... command successful.\n",
      "[MoviePy] Writing audio in ./audio-classification/data/output/79.wav\n"
     ]
    },
    {
     "name": "stderr",
     "output_type": "stream",
     "text": [
      "\n",
      "  0%|          | 0/111 [00:00<?, ?it/s]\u001b[A\n",
      "100%|██████████| 111/111 [00:00<00:00, 2348.32it/s]\u001b[A"
     ]
    },
    {
     "name": "stdout",
     "output_type": "stream",
     "text": [
      "[MoviePy] Done.\n",
      "80\n",
      "False\n",
      "\n",
      "[MoviePy] Running:\n",
      ">>> /Users/smlee/Library/Application Support/imageio/ffmpeg/ffmpeg-osx-v3.2.4 -y -i ./yunha.mp4 -ss 395.00 -t 5.00 -vcodec copy -acodec copy ./audio-classification/data/output/80.mp4\n",
      "... command successful.\n",
      "[MoviePy] Writing audio in ./audio-classification/data/output/80.wav\n"
     ]
    },
    {
     "name": "stderr",
     "output_type": "stream",
     "text": [
      "\n",
      "  0%|          | 0/111 [00:00<?, ?it/s]\u001b[A\n",
      "100%|██████████| 111/111 [00:00<00:00, 2396.07it/s]\u001b[A"
     ]
    },
    {
     "name": "stdout",
     "output_type": "stream",
     "text": [
      "[MoviePy] Done.\n",
      "81\n",
      "False\n",
      "\n",
      "[MoviePy] Running:\n",
      ">>> /Users/smlee/Library/Application Support/imageio/ffmpeg/ffmpeg-osx-v3.2.4 -y -i ./yunha.mp4 -ss 400.00 -t 5.00 -vcodec copy -acodec copy ./audio-classification/data/output/81.mp4\n",
      "... command successful.\n",
      "[MoviePy] Writing audio in ./audio-classification/data/output/81.wav\n"
     ]
    },
    {
     "name": "stderr",
     "output_type": "stream",
     "text": [
      "\n",
      "  0%|          | 0/111 [00:00<?, ?it/s]\u001b[A\n",
      "100%|██████████| 111/111 [00:00<00:00, 2120.14it/s]\u001b[A"
     ]
    },
    {
     "name": "stdout",
     "output_type": "stream",
     "text": [
      "[MoviePy] Done.\n",
      "82\n",
      "False\n",
      "\n",
      "[MoviePy] Running:\n",
      ">>> /Users/smlee/Library/Application Support/imageio/ffmpeg/ffmpeg-osx-v3.2.4 -y -i ./yunha.mp4 -ss 405.00 -t 5.00 -vcodec copy -acodec copy ./audio-classification/data/output/82.mp4\n",
      "... command successful.\n",
      "[MoviePy] Writing audio in ./audio-classification/data/output/82.wav\n"
     ]
    },
    {
     "name": "stderr",
     "output_type": "stream",
     "text": [
      "\n",
      "  0%|          | 0/111 [00:00<?, ?it/s]\u001b[A\n",
      "100%|██████████| 111/111 [00:00<00:00, 2390.54it/s]\u001b[A"
     ]
    },
    {
     "name": "stdout",
     "output_type": "stream",
     "text": [
      "[MoviePy] Done.\n",
      "83\n",
      "False\n",
      "\n",
      "[MoviePy] Running:\n",
      ">>> /Users/smlee/Library/Application Support/imageio/ffmpeg/ffmpeg-osx-v3.2.4 -y -i ./yunha.mp4 -ss 410.00 -t 5.00 -vcodec copy -acodec copy ./audio-classification/data/output/83.mp4\n",
      "... command successful.\n",
      "[MoviePy] Writing audio in ./audio-classification/data/output/83.wav\n"
     ]
    },
    {
     "name": "stderr",
     "output_type": "stream",
     "text": [
      "\n",
      "  0%|          | 0/111 [00:00<?, ?it/s]\u001b[A\n",
      "100%|██████████| 111/111 [00:00<00:00, 2356.79it/s]\u001b[A"
     ]
    },
    {
     "name": "stdout",
     "output_type": "stream",
     "text": [
      "[MoviePy] Done.\n",
      "84\n",
      "False\n",
      "\n",
      "[MoviePy] Running:\n",
      ">>> /Users/smlee/Library/Application Support/imageio/ffmpeg/ffmpeg-osx-v3.2.4 -y -i ./yunha.mp4 -ss 415.00 -t 5.00 -vcodec copy -acodec copy ./audio-classification/data/output/84.mp4\n",
      "... command successful.\n",
      "[MoviePy] Writing audio in ./audio-classification/data/output/84.wav\n"
     ]
    },
    {
     "name": "stderr",
     "output_type": "stream",
     "text": [
      "\n",
      "  0%|          | 0/111 [00:00<?, ?it/s]\u001b[A\n",
      "100%|██████████| 111/111 [00:00<00:00, 2104.66it/s]\u001b[A"
     ]
    },
    {
     "name": "stdout",
     "output_type": "stream",
     "text": [
      "[MoviePy] Done.\n",
      "85\n",
      "False\n",
      "\n",
      "[MoviePy] Running:\n",
      ">>> /Users/smlee/Library/Application Support/imageio/ffmpeg/ffmpeg-osx-v3.2.4 -y -i ./yunha.mp4 -ss 420.00 -t 5.00 -vcodec copy -acodec copy ./audio-classification/data/output/85.mp4\n",
      "... command successful.\n",
      "[MoviePy] Writing audio in ./audio-classification/data/output/85.wav\n"
     ]
    },
    {
     "name": "stderr",
     "output_type": "stream",
     "text": [
      "\n",
      "  0%|          | 0/111 [00:00<?, ?it/s]\u001b[A\n",
      "100%|██████████| 111/111 [00:00<00:00, 2338.51it/s]\u001b[A"
     ]
    },
    {
     "name": "stdout",
     "output_type": "stream",
     "text": [
      "[MoviePy] Done.\n",
      "86\n",
      "False\n",
      "\n",
      "[MoviePy] Running:\n",
      ">>> /Users/smlee/Library/Application Support/imageio/ffmpeg/ffmpeg-osx-v3.2.4 -y -i ./yunha.mp4 -ss 425.00 -t 5.00 -vcodec copy -acodec copy ./audio-classification/data/output/86.mp4\n",
      "... command successful.\n",
      "[MoviePy] Writing audio in ./audio-classification/data/output/86.wav\n"
     ]
    },
    {
     "name": "stderr",
     "output_type": "stream",
     "text": [
      "\n",
      "  0%|          | 0/111 [00:00<?, ?it/s]\u001b[A\n",
      "100%|██████████| 111/111 [00:00<00:00, 2074.57it/s]\u001b[A"
     ]
    },
    {
     "name": "stdout",
     "output_type": "stream",
     "text": [
      "[MoviePy] Done.\n",
      "87\n",
      "False\n",
      "\n",
      "[MoviePy] Running:\n",
      ">>> /Users/smlee/Library/Application Support/imageio/ffmpeg/ffmpeg-osx-v3.2.4 -y -i ./yunha.mp4 -ss 430.00 -t 5.00 -vcodec copy -acodec copy ./audio-classification/data/output/87.mp4\n",
      "... command successful.\n",
      "[MoviePy] Writing audio in ./audio-classification/data/output/87.wav\n"
     ]
    },
    {
     "name": "stderr",
     "output_type": "stream",
     "text": [
      "\n",
      "  0%|          | 0/111 [00:00<?, ?it/s]\u001b[A\n",
      "100%|██████████| 111/111 [00:00<00:00, 1770.31it/s]\u001b[A"
     ]
    },
    {
     "name": "stdout",
     "output_type": "stream",
     "text": [
      "[MoviePy] Done.\n",
      "88\n",
      "False\n",
      "\n",
      "[MoviePy] Running:\n",
      ">>> /Users/smlee/Library/Application Support/imageio/ffmpeg/ffmpeg-osx-v3.2.4 -y -i ./yunha.mp4 -ss 435.00 -t 5.00 -vcodec copy -acodec copy ./audio-classification/data/output/88.mp4\n",
      "... command successful.\n",
      "[MoviePy] Writing audio in ./audio-classification/data/output/88.wav\n"
     ]
    },
    {
     "name": "stderr",
     "output_type": "stream",
     "text": [
      "\n",
      "  0%|          | 0/111 [00:00<?, ?it/s]\u001b[A\n",
      "100%|██████████| 111/111 [00:00<00:00, 2411.58it/s]\u001b[A"
     ]
    },
    {
     "name": "stdout",
     "output_type": "stream",
     "text": [
      "[MoviePy] Done.\n",
      "89\n",
      "False\n",
      "\n",
      "[MoviePy] Running:\n",
      ">>> /Users/smlee/Library/Application Support/imageio/ffmpeg/ffmpeg-osx-v3.2.4 -y -i ./yunha.mp4 -ss 440.00 -t 5.00 -vcodec copy -acodec copy ./audio-classification/data/output/89.mp4\n",
      "... command successful.\n",
      "[MoviePy] Writing audio in ./audio-classification/data/output/89.wav\n"
     ]
    },
    {
     "name": "stderr",
     "output_type": "stream",
     "text": [
      "\n",
      "  0%|          | 0/111 [00:00<?, ?it/s]\u001b[A\n",
      "100%|██████████| 111/111 [00:00<00:00, 2483.23it/s]\u001b[A"
     ]
    },
    {
     "name": "stdout",
     "output_type": "stream",
     "text": [
      "[MoviePy] Done.\n",
      "90\n",
      "False\n",
      "\n",
      "[MoviePy] Running:\n",
      ">>> /Users/smlee/Library/Application Support/imageio/ffmpeg/ffmpeg-osx-v3.2.4 -y -i ./yunha.mp4 -ss 445.00 -t 5.00 -vcodec copy -acodec copy ./audio-classification/data/output/90.mp4\n",
      "... command successful.\n",
      "[MoviePy] Writing audio in ./audio-classification/data/output/90.wav\n"
     ]
    },
    {
     "name": "stderr",
     "output_type": "stream",
     "text": [
      "\n",
      "  0%|          | 0/111 [00:00<?, ?it/s]\u001b[A\n",
      "100%|██████████| 111/111 [00:00<00:00, 2365.68it/s]\u001b[A"
     ]
    },
    {
     "name": "stdout",
     "output_type": "stream",
     "text": [
      "[MoviePy] Done.\n",
      "91\n",
      "False\n",
      "\n",
      "[MoviePy] Running:\n",
      ">>> /Users/smlee/Library/Application Support/imageio/ffmpeg/ffmpeg-osx-v3.2.4 -y -i ./yunha.mp4 -ss 450.00 -t 5.00 -vcodec copy -acodec copy ./audio-classification/data/output/91.mp4\n",
      "... command successful.\n",
      "[MoviePy] Writing audio in ./audio-classification/data/output/91.wav\n"
     ]
    },
    {
     "name": "stderr",
     "output_type": "stream",
     "text": [
      "\n",
      "  0%|          | 0/111 [00:00<?, ?it/s]\u001b[A\n",
      "100%|██████████| 111/111 [00:00<00:00, 2581.45it/s]\u001b[A"
     ]
    },
    {
     "name": "stdout",
     "output_type": "stream",
     "text": [
      "[MoviePy] Done.\n",
      "92\n",
      "False\n",
      "\n",
      "[MoviePy] Running:\n",
      ">>> /Users/smlee/Library/Application Support/imageio/ffmpeg/ffmpeg-osx-v3.2.4 -y -i ./yunha.mp4 -ss 455.00 -t 5.00 -vcodec copy -acodec copy ./audio-classification/data/output/92.mp4\n",
      "... command successful.\n",
      "[MoviePy] Writing audio in ./audio-classification/data/output/92.wav\n"
     ]
    },
    {
     "name": "stderr",
     "output_type": "stream",
     "text": [
      "\n",
      "  0%|          | 0/111 [00:00<?, ?it/s]\u001b[A\n",
      "100%|██████████| 111/111 [00:00<00:00, 2337.93it/s]\u001b[A"
     ]
    },
    {
     "name": "stdout",
     "output_type": "stream",
     "text": [
      "[MoviePy] Done.\n",
      "93\n",
      "False\n",
      "\n",
      "[MoviePy] Running:\n",
      ">>> /Users/smlee/Library/Application Support/imageio/ffmpeg/ffmpeg-osx-v3.2.4 -y -i ./yunha.mp4 -ss 460.00 -t 5.00 -vcodec copy -acodec copy ./audio-classification/data/output/93.mp4\n",
      "... command successful.\n",
      "[MoviePy] Writing audio in ./audio-classification/data/output/93.wav\n"
     ]
    },
    {
     "name": "stderr",
     "output_type": "stream",
     "text": [
      "\n",
      "  0%|          | 0/111 [00:00<?, ?it/s]\u001b[A\n",
      "100%|██████████| 111/111 [00:00<00:00, 2325.77it/s]\u001b[A"
     ]
    },
    {
     "name": "stdout",
     "output_type": "stream",
     "text": [
      "[MoviePy] Done.\n",
      "94\n",
      "False\n",
      "\n",
      "[MoviePy] Running:\n",
      ">>> /Users/smlee/Library/Application Support/imageio/ffmpeg/ffmpeg-osx-v3.2.4 -y -i ./yunha.mp4 -ss 465.00 -t 5.00 -vcodec copy -acodec copy ./audio-classification/data/output/94.mp4\n",
      "... command successful.\n",
      "[MoviePy] Writing audio in ./audio-classification/data/output/94.wav\n"
     ]
    },
    {
     "name": "stderr",
     "output_type": "stream",
     "text": [
      "\n",
      "  0%|          | 0/111 [00:00<?, ?it/s]\u001b[A\n",
      "100%|██████████| 111/111 [00:00<00:00, 2503.66it/s]\u001b[A"
     ]
    },
    {
     "name": "stdout",
     "output_type": "stream",
     "text": [
      "[MoviePy] Done.\n",
      "95\n",
      "False\n",
      "\n",
      "[MoviePy] Running:\n",
      ">>> /Users/smlee/Library/Application Support/imageio/ffmpeg/ffmpeg-osx-v3.2.4 -y -i ./yunha.mp4 -ss 470.00 -t 5.00 -vcodec copy -acodec copy ./audio-classification/data/output/95.mp4\n",
      "... command successful.\n",
      "[MoviePy] Writing audio in ./audio-classification/data/output/95.wav\n"
     ]
    },
    {
     "name": "stderr",
     "output_type": "stream",
     "text": [
      "\n",
      "  0%|          | 0/111 [00:00<?, ?it/s]\u001b[A\n",
      "100%|██████████| 111/111 [00:00<00:00, 2306.12it/s]\u001b[A"
     ]
    },
    {
     "name": "stdout",
     "output_type": "stream",
     "text": [
      "[MoviePy] Done.\n",
      "96\n",
      "False\n",
      "\n",
      "[MoviePy] Running:\n",
      ">>> /Users/smlee/Library/Application Support/imageio/ffmpeg/ffmpeg-osx-v3.2.4 -y -i ./yunha.mp4 -ss 475.00 -t 5.00 -vcodec copy -acodec copy ./audio-classification/data/output/96.mp4\n",
      "... command successful.\n",
      "[MoviePy] Writing audio in ./audio-classification/data/output/96.wav\n"
     ]
    },
    {
     "name": "stderr",
     "output_type": "stream",
     "text": [
      "\n",
      "  0%|          | 0/111 [00:00<?, ?it/s]\u001b[A\n",
      "100%|██████████| 111/111 [00:00<00:00, 2245.52it/s]\u001b[A"
     ]
    },
    {
     "name": "stdout",
     "output_type": "stream",
     "text": [
      "[MoviePy] Done.\n",
      "97\n",
      "False\n",
      "\n",
      "[MoviePy] Running:\n",
      ">>> /Users/smlee/Library/Application Support/imageio/ffmpeg/ffmpeg-osx-v3.2.4 -y -i ./yunha.mp4 -ss 480.00 -t 5.00 -vcodec copy -acodec copy ./audio-classification/data/output/97.mp4\n",
      "... command successful.\n",
      "[MoviePy] Writing audio in ./audio-classification/data/output/97.wav\n"
     ]
    },
    {
     "name": "stderr",
     "output_type": "stream",
     "text": [
      "\n",
      "  0%|          | 0/111 [00:00<?, ?it/s]\u001b[A\n",
      "100%|██████████| 111/111 [00:00<00:00, 2447.09it/s]\u001b[A"
     ]
    },
    {
     "name": "stdout",
     "output_type": "stream",
     "text": [
      "[MoviePy] Done.\n",
      "98\n",
      "False\n",
      "\n",
      "[MoviePy] Running:\n",
      ">>> /Users/smlee/Library/Application Support/imageio/ffmpeg/ffmpeg-osx-v3.2.4 -y -i ./yunha.mp4 -ss 485.00 -t 5.00 -vcodec copy -acodec copy ./audio-classification/data/output/98.mp4\n",
      "... command successful.\n",
      "[MoviePy] Writing audio in ./audio-classification/data/output/98.wav\n"
     ]
    },
    {
     "name": "stderr",
     "output_type": "stream",
     "text": [
      "\n",
      "  0%|          | 0/111 [00:00<?, ?it/s]\u001b[A\n",
      "100%|██████████| 111/111 [00:00<00:00, 2517.86it/s]\u001b[A"
     ]
    },
    {
     "name": "stdout",
     "output_type": "stream",
     "text": [
      "[MoviePy] Done.\n",
      "99\n",
      "False\n",
      "\n",
      "[MoviePy] Running:\n",
      ">>> /Users/smlee/Library/Application Support/imageio/ffmpeg/ffmpeg-osx-v3.2.4 -y -i ./yunha.mp4 -ss 490.00 -t 5.00 -vcodec copy -acodec copy ./audio-classification/data/output/99.mp4\n",
      "... command successful.\n",
      "[MoviePy] Writing audio in ./audio-classification/data/output/99.wav\n"
     ]
    },
    {
     "name": "stderr",
     "output_type": "stream",
     "text": [
      "\n",
      "  0%|          | 0/111 [00:00<?, ?it/s]\u001b[A\n",
      "100%|██████████| 111/111 [00:00<00:00, 2393.74it/s]\u001b[A"
     ]
    },
    {
     "name": "stdout",
     "output_type": "stream",
     "text": [
      "[MoviePy] Done.\n",
      "100\n",
      "False\n",
      "\n",
      "[MoviePy] Running:\n",
      ">>> /Users/smlee/Library/Application Support/imageio/ffmpeg/ffmpeg-osx-v3.2.4 -y -i ./yunha.mp4 -ss 495.00 -t 5.00 -vcodec copy -acodec copy ./audio-classification/data/output/100.mp4\n",
      "... command successful.\n",
      "[MoviePy] Writing audio in ./audio-classification/data/output/100.wav\n"
     ]
    },
    {
     "name": "stderr",
     "output_type": "stream",
     "text": [
      "\n",
      "  0%|          | 0/111 [00:00<?, ?it/s]\u001b[A\n",
      "100%|██████████| 111/111 [00:00<00:00, 2342.56it/s]\u001b[A"
     ]
    },
    {
     "name": "stdout",
     "output_type": "stream",
     "text": [
      "[MoviePy] Done.\n",
      "101\n",
      "False\n",
      "\n",
      "[MoviePy] Running:\n",
      ">>> /Users/smlee/Library/Application Support/imageio/ffmpeg/ffmpeg-osx-v3.2.4 -y -i ./yunha.mp4 -ss 500.00 -t 5.00 -vcodec copy -acodec copy ./audio-classification/data/output/101.mp4\n",
      "... command successful.\n",
      "[MoviePy] Writing audio in ./audio-classification/data/output/101.wav\n"
     ]
    },
    {
     "name": "stderr",
     "output_type": "stream",
     "text": [
      "\n",
      "  0%|          | 0/111 [00:00<?, ?it/s]\u001b[A\n",
      "100%|██████████| 111/111 [00:00<00:00, 2316.26it/s]\u001b[A"
     ]
    },
    {
     "name": "stdout",
     "output_type": "stream",
     "text": [
      "[MoviePy] Done.\n",
      "102\n",
      "False\n",
      "\n",
      "[MoviePy] Running:\n",
      ">>> /Users/smlee/Library/Application Support/imageio/ffmpeg/ffmpeg-osx-v3.2.4 -y -i ./yunha.mp4 -ss 505.00 -t 5.00 -vcodec copy -acodec copy ./audio-classification/data/output/102.mp4\n",
      "... command successful.\n",
      "[MoviePy] Writing audio in ./audio-classification/data/output/102.wav\n"
     ]
    },
    {
     "name": "stderr",
     "output_type": "stream",
     "text": [
      "\n",
      "  0%|          | 0/111 [00:00<?, ?it/s]\u001b[A\n",
      "100%|██████████| 111/111 [00:00<00:00, 2498.71it/s]\u001b[A"
     ]
    },
    {
     "name": "stdout",
     "output_type": "stream",
     "text": [
      "[MoviePy] Done.\n",
      "103\n",
      "False\n",
      "\n",
      "[MoviePy] Running:\n",
      ">>> /Users/smlee/Library/Application Support/imageio/ffmpeg/ffmpeg-osx-v3.2.4 -y -i ./yunha.mp4 -ss 510.00 -t 5.00 -vcodec copy -acodec copy ./audio-classification/data/output/103.mp4\n",
      "... command successful.\n",
      "[MoviePy] Writing audio in ./audio-classification/data/output/103.wav\n"
     ]
    },
    {
     "name": "stderr",
     "output_type": "stream",
     "text": [
      "\n",
      "  0%|          | 0/111 [00:00<?, ?it/s]\u001b[A\n",
      "100%|██████████| 111/111 [00:00<00:00, 2338.27it/s]\u001b[A"
     ]
    },
    {
     "name": "stdout",
     "output_type": "stream",
     "text": [
      "[MoviePy] Done.\n",
      "104\n",
      "False\n",
      "\n",
      "[MoviePy] Running:\n",
      ">>> /Users/smlee/Library/Application Support/imageio/ffmpeg/ffmpeg-osx-v3.2.4 -y -i ./yunha.mp4 -ss 515.00 -t 5.00 -vcodec copy -acodec copy ./audio-classification/data/output/104.mp4\n",
      "... command successful.\n",
      "[MoviePy] Writing audio in ./audio-classification/data/output/104.wav\n"
     ]
    },
    {
     "name": "stderr",
     "output_type": "stream",
     "text": [
      "\n",
      "  0%|          | 0/111 [00:00<?, ?it/s]\u001b[A\n",
      "100%|██████████| 111/111 [00:00<00:00, 2225.66it/s]\u001b[A"
     ]
    },
    {
     "name": "stdout",
     "output_type": "stream",
     "text": [
      "[MoviePy] Done.\n",
      "105\n",
      "False\n",
      "\n",
      "[MoviePy] Running:\n",
      ">>> /Users/smlee/Library/Application Support/imageio/ffmpeg/ffmpeg-osx-v3.2.4 -y -i ./yunha.mp4 -ss 520.00 -t 5.00 -vcodec copy -acodec copy ./audio-classification/data/output/105.mp4\n",
      "... command successful.\n",
      "[MoviePy] Writing audio in ./audio-classification/data/output/105.wav\n"
     ]
    },
    {
     "name": "stderr",
     "output_type": "stream",
     "text": [
      "\n",
      "  0%|          | 0/111 [00:00<?, ?it/s]\u001b[A\n",
      "100%|██████████| 111/111 [00:00<00:00, 2607.84it/s]\u001b[A"
     ]
    },
    {
     "name": "stdout",
     "output_type": "stream",
     "text": [
      "[MoviePy] Done.\n",
      "106\n",
      "False\n",
      "\n",
      "[MoviePy] Running:\n",
      ">>> /Users/smlee/Library/Application Support/imageio/ffmpeg/ffmpeg-osx-v3.2.4 -y -i ./yunha.mp4 -ss 525.00 -t 5.00 -vcodec copy -acodec copy ./audio-classification/data/output/106.mp4\n",
      "... command successful.\n",
      "[MoviePy] Writing audio in ./audio-classification/data/output/106.wav\n"
     ]
    },
    {
     "name": "stderr",
     "output_type": "stream",
     "text": [
      "\n",
      "  0%|          | 0/111 [00:00<?, ?it/s]\u001b[A\n",
      "100%|██████████| 111/111 [00:00<00:00, 2431.23it/s]\u001b[A"
     ]
    },
    {
     "name": "stdout",
     "output_type": "stream",
     "text": [
      "[MoviePy] Done.\n",
      "107\n",
      "False\n",
      "\n",
      "[MoviePy] Running:\n",
      ">>> /Users/smlee/Library/Application Support/imageio/ffmpeg/ffmpeg-osx-v3.2.4 -y -i ./yunha.mp4 -ss 530.00 -t 5.00 -vcodec copy -acodec copy ./audio-classification/data/output/107.mp4\n",
      "... command successful.\n",
      "[MoviePy] Writing audio in ./audio-classification/data/output/107.wav\n"
     ]
    },
    {
     "name": "stderr",
     "output_type": "stream",
     "text": [
      "\n",
      "  0%|          | 0/111 [00:00<?, ?it/s]\u001b[A\n",
      "100%|██████████| 111/111 [00:00<00:00, 1804.20it/s]\u001b[A"
     ]
    },
    {
     "name": "stdout",
     "output_type": "stream",
     "text": [
      "[MoviePy] Done.\n",
      "108\n",
      "False\n",
      "\n",
      "[MoviePy] Running:\n",
      ">>> /Users/smlee/Library/Application Support/imageio/ffmpeg/ffmpeg-osx-v3.2.4 -y -i ./yunha.mp4 -ss 535.00 -t 5.00 -vcodec copy -acodec copy ./audio-classification/data/output/108.mp4\n",
      "... command successful.\n",
      "[MoviePy] Writing audio in ./audio-classification/data/output/108.wav\n"
     ]
    },
    {
     "name": "stderr",
     "output_type": "stream",
     "text": [
      "\n",
      "  0%|          | 0/111 [00:00<?, ?it/s]\u001b[A\n",
      "100%|██████████| 111/111 [00:00<00:00, 2692.86it/s]\u001b[A"
     ]
    },
    {
     "name": "stdout",
     "output_type": "stream",
     "text": [
      "[MoviePy] Done.\n",
      "109\n",
      "False\n",
      "\n",
      "[MoviePy] Running:\n",
      ">>> /Users/smlee/Library/Application Support/imageio/ffmpeg/ffmpeg-osx-v3.2.4 -y -i ./yunha.mp4 -ss 540.00 -t 5.00 -vcodec copy -acodec copy ./audio-classification/data/output/109.mp4\n",
      "... command successful.\n",
      "[MoviePy] Writing audio in ./audio-classification/data/output/109.wav\n"
     ]
    },
    {
     "name": "stderr",
     "output_type": "stream",
     "text": [
      "\n",
      "  0%|          | 0/111 [00:00<?, ?it/s]\u001b[A\n",
      "100%|██████████| 111/111 [00:00<00:00, 2172.21it/s]\u001b[A"
     ]
    },
    {
     "name": "stdout",
     "output_type": "stream",
     "text": [
      "[MoviePy] Done.\n",
      "110\n",
      "False\n",
      "\n",
      "[MoviePy] Running:\n",
      ">>> /Users/smlee/Library/Application Support/imageio/ffmpeg/ffmpeg-osx-v3.2.4 -y -i ./yunha.mp4 -ss 545.00 -t 5.00 -vcodec copy -acodec copy ./audio-classification/data/output/110.mp4\n",
      "... command successful.\n",
      "[MoviePy] Writing audio in ./audio-classification/data/output/110.wav\n"
     ]
    },
    {
     "name": "stderr",
     "output_type": "stream",
     "text": [
      "\n",
      "  0%|          | 0/111 [00:00<?, ?it/s]\u001b[A\n",
      "100%|██████████| 111/111 [00:00<00:00, 2110.38it/s]\u001b[A"
     ]
    },
    {
     "name": "stdout",
     "output_type": "stream",
     "text": [
      "[MoviePy] Done.\n",
      "111\n",
      "False\n",
      "\n",
      "[MoviePy] Running:\n",
      ">>> /Users/smlee/Library/Application Support/imageio/ffmpeg/ffmpeg-osx-v3.2.4 -y -i ./yunha.mp4 -ss 550.00 -t 5.00 -vcodec copy -acodec copy ./audio-classification/data/output/111.mp4\n",
      "... command successful.\n",
      "[MoviePy] Writing audio in ./audio-classification/data/output/111.wav\n"
     ]
    },
    {
     "name": "stderr",
     "output_type": "stream",
     "text": [
      "\n",
      "  0%|          | 0/111 [00:00<?, ?it/s]\u001b[A\n",
      "100%|██████████| 111/111 [00:00<00:00, 2112.76it/s]\u001b[A"
     ]
    },
    {
     "name": "stdout",
     "output_type": "stream",
     "text": [
      "[MoviePy] Done.\n",
      "112\n",
      "False\n",
      "\n",
      "[MoviePy] Running:\n",
      ">>> /Users/smlee/Library/Application Support/imageio/ffmpeg/ffmpeg-osx-v3.2.4 -y -i ./yunha.mp4 -ss 555.00 -t 5.00 -vcodec copy -acodec copy ./audio-classification/data/output/112.mp4\n",
      "... command successful.\n",
      "[MoviePy] Writing audio in ./audio-classification/data/output/112.wav\n"
     ]
    },
    {
     "name": "stderr",
     "output_type": "stream",
     "text": [
      "\n",
      "  0%|          | 0/111 [00:00<?, ?it/s]\u001b[A\n",
      "100%|██████████| 111/111 [00:00<00:00, 2261.42it/s]\u001b[A"
     ]
    },
    {
     "name": "stdout",
     "output_type": "stream",
     "text": [
      "[MoviePy] Done.\n",
      "113\n",
      "False\n",
      "\n",
      "[MoviePy] Running:\n",
      ">>> /Users/smlee/Library/Application Support/imageio/ffmpeg/ffmpeg-osx-v3.2.4 -y -i ./yunha.mp4 -ss 560.00 -t 5.00 -vcodec copy -acodec copy ./audio-classification/data/output/113.mp4\n",
      "... command successful.\n",
      "[MoviePy] Writing audio in ./audio-classification/data/output/113.wav\n"
     ]
    },
    {
     "name": "stderr",
     "output_type": "stream",
     "text": [
      "\n",
      "  0%|          | 0/111 [00:00<?, ?it/s]\u001b[A\n",
      "100%|██████████| 111/111 [00:00<00:00, 2154.09it/s]\u001b[A"
     ]
    },
    {
     "name": "stdout",
     "output_type": "stream",
     "text": [
      "[MoviePy] Done.\n",
      "114\n",
      "False\n",
      "\n",
      "[MoviePy] Running:\n",
      ">>> /Users/smlee/Library/Application Support/imageio/ffmpeg/ffmpeg-osx-v3.2.4 -y -i ./yunha.mp4 -ss 565.00 -t 5.00 -vcodec copy -acodec copy ./audio-classification/data/output/114.mp4\n",
      "... command successful.\n",
      "[MoviePy] Writing audio in ./audio-classification/data/output/114.wav\n"
     ]
    },
    {
     "name": "stderr",
     "output_type": "stream",
     "text": [
      "\n",
      "  0%|          | 0/111 [00:00<?, ?it/s]\u001b[A\n",
      "100%|██████████| 111/111 [00:00<00:00, 2238.04it/s]\u001b[A"
     ]
    },
    {
     "name": "stdout",
     "output_type": "stream",
     "text": [
      "[MoviePy] Done.\n",
      "115\n",
      "False\n",
      "\n",
      "[MoviePy] Running:\n",
      ">>> /Users/smlee/Library/Application Support/imageio/ffmpeg/ffmpeg-osx-v3.2.4 -y -i ./yunha.mp4 -ss 570.00 -t 5.00 -vcodec copy -acodec copy ./audio-classification/data/output/115.mp4\n",
      "... command successful.\n",
      "[MoviePy] Writing audio in ./audio-classification/data/output/115.wav\n"
     ]
    },
    {
     "name": "stderr",
     "output_type": "stream",
     "text": [
      "\n",
      "  0%|          | 0/111 [00:00<?, ?it/s]\u001b[A\n",
      "100%|██████████| 111/111 [00:00<00:00, 2360.64it/s]\u001b[A"
     ]
    },
    {
     "name": "stdout",
     "output_type": "stream",
     "text": [
      "[MoviePy] Done.\n",
      "116\n",
      "False\n",
      "\n",
      "[MoviePy] Running:\n",
      ">>> /Users/smlee/Library/Application Support/imageio/ffmpeg/ffmpeg-osx-v3.2.4 -y -i ./yunha.mp4 -ss 575.00 -t 5.00 -vcodec copy -acodec copy ./audio-classification/data/output/116.mp4\n",
      "... command successful.\n",
      "[MoviePy] Writing audio in ./audio-classification/data/output/116.wav\n"
     ]
    },
    {
     "name": "stderr",
     "output_type": "stream",
     "text": [
      "\n",
      "  0%|          | 0/111 [00:00<?, ?it/s]\u001b[A\n",
      "100%|██████████| 111/111 [00:00<00:00, 2676.25it/s]\u001b[A"
     ]
    },
    {
     "name": "stdout",
     "output_type": "stream",
     "text": [
      "[MoviePy] Done.\n",
      "117\n",
      "False\n",
      "\n",
      "[MoviePy] Running:\n",
      ">>> /Users/smlee/Library/Application Support/imageio/ffmpeg/ffmpeg-osx-v3.2.4 -y -i ./yunha.mp4 -ss 580.00 -t 5.00 -vcodec copy -acodec copy ./audio-classification/data/output/117.mp4\n",
      "... command successful.\n",
      "[MoviePy] Writing audio in ./audio-classification/data/output/117.wav\n"
     ]
    },
    {
     "name": "stderr",
     "output_type": "stream",
     "text": [
      "\n",
      "  0%|          | 0/111 [00:00<?, ?it/s]\u001b[A\n",
      "100%|██████████| 111/111 [00:00<00:00, 2126.52it/s]\u001b[A"
     ]
    },
    {
     "name": "stdout",
     "output_type": "stream",
     "text": [
      "[MoviePy] Done.\n",
      "118\n",
      "False\n",
      "\n",
      "[MoviePy] Running:\n",
      ">>> /Users/smlee/Library/Application Support/imageio/ffmpeg/ffmpeg-osx-v3.2.4 -y -i ./yunha.mp4 -ss 585.00 -t 5.00 -vcodec copy -acodec copy ./audio-classification/data/output/118.mp4\n",
      "... command successful.\n",
      "[MoviePy] Writing audio in ./audio-classification/data/output/118.wav\n"
     ]
    },
    {
     "name": "stderr",
     "output_type": "stream",
     "text": [
      "\n",
      "  0%|          | 0/111 [00:00<?, ?it/s]\u001b[A\n",
      "100%|██████████| 111/111 [00:00<00:00, 2041.15it/s]\u001b[A"
     ]
    },
    {
     "name": "stdout",
     "output_type": "stream",
     "text": [
      "[MoviePy] Done.\n",
      "119\n",
      "False\n",
      "\n",
      "[MoviePy] Running:\n",
      ">>> /Users/smlee/Library/Application Support/imageio/ffmpeg/ffmpeg-osx-v3.2.4 -y -i ./yunha.mp4 -ss 590.00 -t 5.00 -vcodec copy -acodec copy ./audio-classification/data/output/119.mp4\n",
      "... command successful.\n",
      "[MoviePy] Writing audio in ./audio-classification/data/output/119.wav\n"
     ]
    },
    {
     "name": "stderr",
     "output_type": "stream",
     "text": [
      "\n",
      "  0%|          | 0/111 [00:00<?, ?it/s]\u001b[A\n",
      "100%|██████████| 111/111 [00:00<00:00, 2028.33it/s]\u001b[A"
     ]
    },
    {
     "name": "stdout",
     "output_type": "stream",
     "text": [
      "[MoviePy] Done.\n",
      "120\n",
      "False\n",
      "\n",
      "[MoviePy] Running:\n",
      ">>> /Users/smlee/Library/Application Support/imageio/ffmpeg/ffmpeg-osx-v3.2.4 -y -i ./yunha.mp4 -ss 595.00 -t 5.00 -vcodec copy -acodec copy ./audio-classification/data/output/120.mp4\n",
      "... command successful.\n",
      "[MoviePy] Writing audio in ./audio-classification/data/output/120.wav\n"
     ]
    },
    {
     "name": "stderr",
     "output_type": "stream",
     "text": [
      "\n",
      "  0%|          | 0/111 [00:00<?, ?it/s]\u001b[A\n",
      "100%|██████████| 111/111 [00:00<00:00, 2346.97it/s]\u001b[A"
     ]
    },
    {
     "name": "stdout",
     "output_type": "stream",
     "text": [
      "[MoviePy] Done.\n",
      "121\n",
      "False\n",
      "\n",
      "[MoviePy] Running:\n",
      ">>> /Users/smlee/Library/Application Support/imageio/ffmpeg/ffmpeg-osx-v3.2.4 -y -i ./yunha.mp4 -ss 600.00 -t 5.00 -vcodec copy -acodec copy ./audio-classification/data/output/121.mp4\n",
      "... command successful.\n",
      "[MoviePy] Writing audio in ./audio-classification/data/output/121.wav\n"
     ]
    },
    {
     "name": "stderr",
     "output_type": "stream",
     "text": [
      "\n",
      "  0%|          | 0/111 [00:00<?, ?it/s]\u001b[A\n",
      "100%|██████████| 111/111 [00:00<00:00, 1997.60it/s]\u001b[A"
     ]
    },
    {
     "name": "stdout",
     "output_type": "stream",
     "text": [
      "[MoviePy] Done.\n",
      "122\n",
      "False\n",
      "\n",
      "[MoviePy] Running:\n",
      ">>> /Users/smlee/Library/Application Support/imageio/ffmpeg/ffmpeg-osx-v3.2.4 -y -i ./yunha.mp4 -ss 605.00 -t 5.00 -vcodec copy -acodec copy ./audio-classification/data/output/122.mp4\n",
      "... command successful.\n",
      "[MoviePy] Writing audio in ./audio-classification/data/output/122.wav\n"
     ]
    },
    {
     "name": "stderr",
     "output_type": "stream",
     "text": [
      "\n",
      "  0%|          | 0/111 [00:00<?, ?it/s]\u001b[A\n",
      "100%|██████████| 111/111 [00:00<00:00, 2393.06it/s]\u001b[A"
     ]
    },
    {
     "name": "stdout",
     "output_type": "stream",
     "text": [
      "[MoviePy] Done.\n",
      "123\n",
      "False\n",
      "\n",
      "[MoviePy] Running:\n",
      ">>> /Users/smlee/Library/Application Support/imageio/ffmpeg/ffmpeg-osx-v3.2.4 -y -i ./yunha.mp4 -ss 610.00 -t 5.00 -vcodec copy -acodec copy ./audio-classification/data/output/123.mp4\n",
      "... command successful.\n",
      "[MoviePy] Writing audio in ./audio-classification/data/output/123.wav\n"
     ]
    },
    {
     "name": "stderr",
     "output_type": "stream",
     "text": [
      "\n",
      "  0%|          | 0/111 [00:00<?, ?it/s]\u001b[A\n",
      "100%|██████████| 111/111 [00:00<00:00, 2306.87it/s]\u001b[A"
     ]
    },
    {
     "name": "stdout",
     "output_type": "stream",
     "text": [
      "[MoviePy] Done.\n",
      "124\n",
      "False\n",
      "\n",
      "[MoviePy] Running:\n",
      ">>> /Users/smlee/Library/Application Support/imageio/ffmpeg/ffmpeg-osx-v3.2.4 -y -i ./yunha.mp4 -ss 615.00 -t 5.00 -vcodec copy -acodec copy ./audio-classification/data/output/124.mp4\n",
      "... command successful.\n",
      "[MoviePy] Writing audio in ./audio-classification/data/output/124.wav\n"
     ]
    },
    {
     "name": "stderr",
     "output_type": "stream",
     "text": [
      "\n",
      "  0%|          | 0/111 [00:00<?, ?it/s]\u001b[A\n",
      "100%|██████████| 111/111 [00:00<00:00, 2508.58it/s]\u001b[A"
     ]
    },
    {
     "name": "stdout",
     "output_type": "stream",
     "text": [
      "[MoviePy] Done.\n",
      "125\n",
      "False\n",
      "\n",
      "[MoviePy] Running:\n",
      ">>> /Users/smlee/Library/Application Support/imageio/ffmpeg/ffmpeg-osx-v3.2.4 -y -i ./yunha.mp4 -ss 620.00 -t 5.00 -vcodec copy -acodec copy ./audio-classification/data/output/125.mp4\n",
      "... command successful.\n",
      "[MoviePy] Writing audio in ./audio-classification/data/output/125.wav\n"
     ]
    },
    {
     "name": "stderr",
     "output_type": "stream",
     "text": [
      "\n",
      "  0%|          | 0/111 [00:00<?, ?it/s]\u001b[A\n",
      "100%|██████████| 111/111 [00:00<00:00, 2555.07it/s]\u001b[A"
     ]
    },
    {
     "name": "stdout",
     "output_type": "stream",
     "text": [
      "[MoviePy] Done.\n",
      "126\n",
      "False\n",
      "\n",
      "[MoviePy] Running:\n",
      ">>> /Users/smlee/Library/Application Support/imageio/ffmpeg/ffmpeg-osx-v3.2.4 -y -i ./yunha.mp4 -ss 625.00 -t 5.00 -vcodec copy -acodec copy ./audio-classification/data/output/126.mp4\n",
      "... command successful.\n",
      "[MoviePy] Writing audio in ./audio-classification/data/output/126.wav\n"
     ]
    },
    {
     "name": "stderr",
     "output_type": "stream",
     "text": [
      "\n",
      "  0%|          | 0/111 [00:00<?, ?it/s]\u001b[A\n",
      "100%|██████████| 111/111 [00:00<00:00, 2341.77it/s]\u001b[A"
     ]
    },
    {
     "name": "stdout",
     "output_type": "stream",
     "text": [
      "[MoviePy] Done.\n",
      "127\n",
      "False\n",
      "\n",
      "[MoviePy] Running:\n",
      ">>> /Users/smlee/Library/Application Support/imageio/ffmpeg/ffmpeg-osx-v3.2.4 -y -i ./yunha.mp4 -ss 630.00 -t 5.00 -vcodec copy -acodec copy ./audio-classification/data/output/127.mp4\n",
      "... command successful.\n",
      "[MoviePy] Writing audio in ./audio-classification/data/output/127.wav\n"
     ]
    },
    {
     "name": "stderr",
     "output_type": "stream",
     "text": [
      "\n",
      "  0%|          | 0/111 [00:00<?, ?it/s]\u001b[A\n",
      "100%|██████████| 111/111 [00:00<00:00, 2461.52it/s]\u001b[A"
     ]
    },
    {
     "name": "stdout",
     "output_type": "stream",
     "text": [
      "[MoviePy] Done.\n",
      "128\n",
      "False\n",
      "\n",
      "[MoviePy] Running:\n",
      ">>> /Users/smlee/Library/Application Support/imageio/ffmpeg/ffmpeg-osx-v3.2.4 -y -i ./yunha.mp4 -ss 635.00 -t 5.00 -vcodec copy -acodec copy ./audio-classification/data/output/128.mp4\n",
      "... command successful.\n",
      "[MoviePy] Writing audio in ./audio-classification/data/output/128.wav\n"
     ]
    },
    {
     "name": "stderr",
     "output_type": "stream",
     "text": [
      "\n",
      "  0%|          | 0/111 [00:00<?, ?it/s]\u001b[A\n",
      "100%|██████████| 111/111 [00:00<00:00, 2440.10it/s]\u001b[A"
     ]
    },
    {
     "name": "stdout",
     "output_type": "stream",
     "text": [
      "[MoviePy] Done.\n",
      "129\n",
      "False\n",
      "\n",
      "[MoviePy] Running:\n",
      ">>> /Users/smlee/Library/Application Support/imageio/ffmpeg/ffmpeg-osx-v3.2.4 -y -i ./yunha.mp4 -ss 640.00 -t 5.00 -vcodec copy -acodec copy ./audio-classification/data/output/129.mp4\n",
      "... command successful.\n",
      "[MoviePy] Writing audio in ./audio-classification/data/output/129.wav\n"
     ]
    },
    {
     "name": "stderr",
     "output_type": "stream",
     "text": [
      "\n",
      "  0%|          | 0/111 [00:00<?, ?it/s]\u001b[A\n",
      "100%|██████████| 111/111 [00:00<00:00, 1467.92it/s]\u001b[A"
     ]
    },
    {
     "name": "stdout",
     "output_type": "stream",
     "text": [
      "[MoviePy] Done.\n",
      "130\n",
      "False\n",
      "\n",
      "[MoviePy] Running:\n",
      ">>> /Users/smlee/Library/Application Support/imageio/ffmpeg/ffmpeg-osx-v3.2.4 -y -i ./yunha.mp4 -ss 645.00 -t 5.00 -vcodec copy -acodec copy ./audio-classification/data/output/130.mp4\n",
      "... command successful.\n",
      "[MoviePy] Writing audio in ./audio-classification/data/output/130.wav\n"
     ]
    },
    {
     "name": "stderr",
     "output_type": "stream",
     "text": [
      "\n",
      "  0%|          | 0/111 [00:00<?, ?it/s]\u001b[A\n",
      "100%|██████████| 111/111 [00:00<00:00, 2284.47it/s]\u001b[A"
     ]
    },
    {
     "name": "stdout",
     "output_type": "stream",
     "text": [
      "[MoviePy] Done.\n",
      "131\n",
      "False\n",
      "\n",
      "[MoviePy] Running:\n",
      ">>> /Users/smlee/Library/Application Support/imageio/ffmpeg/ffmpeg-osx-v3.2.4 -y -i ./yunha.mp4 -ss 650.00 -t 5.00 -vcodec copy -acodec copy ./audio-classification/data/output/131.mp4\n",
      "... command successful.\n",
      "[MoviePy] Writing audio in ./audio-classification/data/output/131.wav\n"
     ]
    },
    {
     "name": "stderr",
     "output_type": "stream",
     "text": [
      "\n",
      "  0%|          | 0/111 [00:00<?, ?it/s]\u001b[A\n",
      "100%|██████████| 111/111 [00:00<00:00, 2131.94it/s]\u001b[A"
     ]
    },
    {
     "name": "stdout",
     "output_type": "stream",
     "text": [
      "[MoviePy] Done.\n",
      "132\n",
      "False\n",
      "\n",
      "[MoviePy] Running:\n",
      ">>> /Users/smlee/Library/Application Support/imageio/ffmpeg/ffmpeg-osx-v3.2.4 -y -i ./yunha.mp4 -ss 655.00 -t 5.00 -vcodec copy -acodec copy ./audio-classification/data/output/132.mp4\n",
      "... command successful.\n",
      "[MoviePy] Writing audio in ./audio-classification/data/output/132.wav\n"
     ]
    },
    {
     "name": "stderr",
     "output_type": "stream",
     "text": [
      "\n",
      "  0%|          | 0/111 [00:00<?, ?it/s]\u001b[A\n",
      "100%|██████████| 111/111 [00:00<00:00, 1882.25it/s]\u001b[A"
     ]
    },
    {
     "name": "stdout",
     "output_type": "stream",
     "text": [
      "[MoviePy] Done.\n",
      "133\n",
      "False\n",
      "\n",
      "[MoviePy] Running:\n",
      ">>> /Users/smlee/Library/Application Support/imageio/ffmpeg/ffmpeg-osx-v3.2.4 -y -i ./yunha.mp4 -ss 660.00 -t 5.00 -vcodec copy -acodec copy ./audio-classification/data/output/133.mp4\n",
      "... command successful.\n",
      "[MoviePy] Writing audio in ./audio-classification/data/output/133.wav\n"
     ]
    },
    {
     "name": "stderr",
     "output_type": "stream",
     "text": [
      "\n",
      "  0%|          | 0/111 [00:00<?, ?it/s]\u001b[A\n",
      "100%|██████████| 111/111 [00:00<00:00, 2423.00it/s]\u001b[A"
     ]
    },
    {
     "name": "stdout",
     "output_type": "stream",
     "text": [
      "[MoviePy] Done.\n",
      "134\n",
      "False\n",
      "\n",
      "[MoviePy] Running:\n",
      ">>> /Users/smlee/Library/Application Support/imageio/ffmpeg/ffmpeg-osx-v3.2.4 -y -i ./yunha.mp4 -ss 665.00 -t 5.00 -vcodec copy -acodec copy ./audio-classification/data/output/134.mp4\n",
      "... command successful.\n",
      "[MoviePy] Writing audio in ./audio-classification/data/output/134.wav\n"
     ]
    },
    {
     "name": "stderr",
     "output_type": "stream",
     "text": [
      "\n",
      "  0%|          | 0/111 [00:00<?, ?it/s]\u001b[A\n",
      "100%|██████████| 111/111 [00:00<00:00, 2617.49it/s]\u001b[A"
     ]
    },
    {
     "name": "stdout",
     "output_type": "stream",
     "text": [
      "[MoviePy] Done.\n",
      "135\n",
      "False\n",
      "\n",
      "[MoviePy] Running:\n",
      ">>> /Users/smlee/Library/Application Support/imageio/ffmpeg/ffmpeg-osx-v3.2.4 -y -i ./yunha.mp4 -ss 670.00 -t 5.00 -vcodec copy -acodec copy ./audio-classification/data/output/135.mp4\n",
      "... command successful.\n",
      "[MoviePy] Writing audio in ./audio-classification/data/output/135.wav\n"
     ]
    },
    {
     "name": "stderr",
     "output_type": "stream",
     "text": [
      "\n",
      "  0%|          | 0/111 [00:00<?, ?it/s]\u001b[A\n",
      "100%|██████████| 111/111 [00:00<00:00, 2146.22it/s]\u001b[A"
     ]
    },
    {
     "name": "stdout",
     "output_type": "stream",
     "text": [
      "[MoviePy] Done.\n",
      "136\n",
      "False\n",
      "\n",
      "[MoviePy] Running:\n",
      ">>> /Users/smlee/Library/Application Support/imageio/ffmpeg/ffmpeg-osx-v3.2.4 -y -i ./yunha.mp4 -ss 675.00 -t 5.00 -vcodec copy -acodec copy ./audio-classification/data/output/136.mp4\n",
      "... command successful.\n",
      "[MoviePy] Writing audio in ./audio-classification/data/output/136.wav\n"
     ]
    },
    {
     "name": "stderr",
     "output_type": "stream",
     "text": [
      "\n",
      "  0%|          | 0/111 [00:00<?, ?it/s]\u001b[A\n",
      "100%|██████████| 111/111 [00:00<00:00, 2506.43it/s]\u001b[A"
     ]
    },
    {
     "name": "stdout",
     "output_type": "stream",
     "text": [
      "[MoviePy] Done.\n",
      "137\n",
      "False\n",
      "\n",
      "[MoviePy] Running:\n",
      ">>> /Users/smlee/Library/Application Support/imageio/ffmpeg/ffmpeg-osx-v3.2.4 -y -i ./yunha.mp4 -ss 680.00 -t 5.00 -vcodec copy -acodec copy ./audio-classification/data/output/137.mp4\n",
      "... command successful.\n",
      "[MoviePy] Writing audio in ./audio-classification/data/output/137.wav\n"
     ]
    },
    {
     "name": "stderr",
     "output_type": "stream",
     "text": [
      "\n",
      "  0%|          | 0/111 [00:00<?, ?it/s]\u001b[A\n",
      "100%|██████████| 111/111 [00:00<00:00, 2416.40it/s]\u001b[A"
     ]
    },
    {
     "name": "stdout",
     "output_type": "stream",
     "text": [
      "[MoviePy] Done.\n",
      "138\n",
      "False\n",
      "\n",
      "[MoviePy] Running:\n",
      ">>> /Users/smlee/Library/Application Support/imageio/ffmpeg/ffmpeg-osx-v3.2.4 -y -i ./yunha.mp4 -ss 685.00 -t 5.00 -vcodec copy -acodec copy ./audio-classification/data/output/138.mp4\n",
      "... command successful.\n",
      "[MoviePy] Writing audio in ./audio-classification/data/output/138.wav\n"
     ]
    },
    {
     "name": "stderr",
     "output_type": "stream",
     "text": [
      "\n",
      "  0%|          | 0/111 [00:00<?, ?it/s]\u001b[A\n",
      "100%|██████████| 111/111 [00:00<00:00, 2335.22it/s]\u001b[A"
     ]
    },
    {
     "name": "stdout",
     "output_type": "stream",
     "text": [
      "[MoviePy] Done.\n",
      "139\n",
      "False\n",
      "\n",
      "[MoviePy] Running:\n",
      ">>> /Users/smlee/Library/Application Support/imageio/ffmpeg/ffmpeg-osx-v3.2.4 -y -i ./yunha.mp4 -ss 690.00 -t 5.00 -vcodec copy -acodec copy ./audio-classification/data/output/139.mp4\n",
      "... command successful.\n",
      "[MoviePy] Writing audio in ./audio-classification/data/output/139.wav\n"
     ]
    },
    {
     "name": "stderr",
     "output_type": "stream",
     "text": [
      "\n",
      "  0%|          | 0/111 [00:00<?, ?it/s]\u001b[A\n",
      "100%|██████████| 111/111 [00:00<00:00, 1704.00it/s]\u001b[A"
     ]
    },
    {
     "name": "stdout",
     "output_type": "stream",
     "text": [
      "[MoviePy] Done.\n",
      "140\n",
      "False\n",
      "\n",
      "[MoviePy] Running:\n",
      ">>> /Users/smlee/Library/Application Support/imageio/ffmpeg/ffmpeg-osx-v3.2.4 -y -i ./yunha.mp4 -ss 695.00 -t 5.00 -vcodec copy -acodec copy ./audio-classification/data/output/140.mp4\n",
      "... command successful.\n",
      "[MoviePy] Writing audio in ./audio-classification/data/output/140.wav\n"
     ]
    },
    {
     "name": "stderr",
     "output_type": "stream",
     "text": [
      "\n",
      "  0%|          | 0/111 [00:00<?, ?it/s]\u001b[A\n",
      "100%|██████████| 111/111 [00:00<00:00, 2353.49it/s]\u001b[A"
     ]
    },
    {
     "name": "stdout",
     "output_type": "stream",
     "text": [
      "[MoviePy] Done.\n",
      "141\n",
      "False\n",
      "\n",
      "[MoviePy] Running:\n",
      ">>> /Users/smlee/Library/Application Support/imageio/ffmpeg/ffmpeg-osx-v3.2.4 -y -i ./yunha.mp4 -ss 700.00 -t 5.00 -vcodec copy -acodec copy ./audio-classification/data/output/141.mp4\n",
      "... command successful.\n",
      "[MoviePy] Writing audio in ./audio-classification/data/output/141.wav\n"
     ]
    },
    {
     "name": "stderr",
     "output_type": "stream",
     "text": [
      "\n",
      "  0%|          | 0/111 [00:00<?, ?it/s]\u001b[A\n",
      "100%|██████████| 111/111 [00:00<00:00, 2283.34it/s]\u001b[A"
     ]
    },
    {
     "name": "stdout",
     "output_type": "stream",
     "text": [
      "[MoviePy] Done.\n",
      "142\n",
      "False\n",
      "\n",
      "[MoviePy] Running:\n",
      ">>> /Users/smlee/Library/Application Support/imageio/ffmpeg/ffmpeg-osx-v3.2.4 -y -i ./yunha.mp4 -ss 705.00 -t 5.00 -vcodec copy -acodec copy ./audio-classification/data/output/142.mp4\n",
      "... command successful.\n",
      "[MoviePy] Writing audio in ./audio-classification/data/output/142.wav\n"
     ]
    },
    {
     "name": "stderr",
     "output_type": "stream",
     "text": [
      "\n",
      "  0%|          | 0/111 [00:00<?, ?it/s]\u001b[A\n",
      "100%|██████████| 111/111 [00:00<00:00, 2259.27it/s]\u001b[A"
     ]
    },
    {
     "name": "stdout",
     "output_type": "stream",
     "text": [
      "[MoviePy] Done.\n",
      "143\n",
      "False\n",
      "\n",
      "[MoviePy] Running:\n",
      ">>> /Users/smlee/Library/Application Support/imageio/ffmpeg/ffmpeg-osx-v3.2.4 -y -i ./yunha.mp4 -ss 710.00 -t 5.00 -vcodec copy -acodec copy ./audio-classification/data/output/143.mp4\n",
      "... command successful.\n",
      "[MoviePy] Writing audio in ./audio-classification/data/output/143.wav\n"
     ]
    },
    {
     "name": "stderr",
     "output_type": "stream",
     "text": [
      "\n",
      "  0%|          | 0/111 [00:00<?, ?it/s]\u001b[A\n",
      "100%|██████████| 111/111 [00:00<00:00, 1984.52it/s]\u001b[A"
     ]
    },
    {
     "name": "stdout",
     "output_type": "stream",
     "text": [
      "[MoviePy] Done.\n",
      "144\n",
      "False\n",
      "\n",
      "[MoviePy] Running:\n",
      ">>> /Users/smlee/Library/Application Support/imageio/ffmpeg/ffmpeg-osx-v3.2.4 -y -i ./yunha.mp4 -ss 715.00 -t 5.00 -vcodec copy -acodec copy ./audio-classification/data/output/144.mp4\n",
      "... command successful.\n",
      "[MoviePy] Writing audio in ./audio-classification/data/output/144.wav\n"
     ]
    },
    {
     "name": "stderr",
     "output_type": "stream",
     "text": [
      "\n",
      "  0%|          | 0/111 [00:00<?, ?it/s]\u001b[A\n",
      "100%|██████████| 111/111 [00:00<00:00, 2221.38it/s]\u001b[A"
     ]
    },
    {
     "name": "stdout",
     "output_type": "stream",
     "text": [
      "[MoviePy] Done.\n",
      "145\n",
      "False\n",
      "\n",
      "[MoviePy] Running:\n",
      ">>> /Users/smlee/Library/Application Support/imageio/ffmpeg/ffmpeg-osx-v3.2.4 -y -i ./yunha.mp4 -ss 720.00 -t 5.00 -vcodec copy -acodec copy ./audio-classification/data/output/145.mp4\n",
      "... command successful.\n",
      "[MoviePy] Writing audio in ./audio-classification/data/output/145.wav\n"
     ]
    },
    {
     "name": "stderr",
     "output_type": "stream",
     "text": [
      "\n",
      "  0%|          | 0/111 [00:00<?, ?it/s]\u001b[A\n",
      "100%|██████████| 111/111 [00:00<00:00, 2318.01it/s]\u001b[A"
     ]
    },
    {
     "name": "stdout",
     "output_type": "stream",
     "text": [
      "[MoviePy] Done.\n",
      "146\n",
      "False\n",
      "\n",
      "[MoviePy] Running:\n",
      ">>> /Users/smlee/Library/Application Support/imageio/ffmpeg/ffmpeg-osx-v3.2.4 -y -i ./yunha.mp4 -ss 725.00 -t 5.00 -vcodec copy -acodec copy ./audio-classification/data/output/146.mp4\n",
      "... command successful.\n",
      "[MoviePy] Writing audio in ./audio-classification/data/output/146.wav\n"
     ]
    },
    {
     "name": "stderr",
     "output_type": "stream",
     "text": [
      "\n",
      "  0%|          | 0/111 [00:00<?, ?it/s]\u001b[A\n",
      "100%|██████████| 111/111 [00:00<00:00, 2401.34it/s]\u001b[A"
     ]
    },
    {
     "name": "stdout",
     "output_type": "stream",
     "text": [
      "[MoviePy] Done.\n",
      "147\n",
      "False\n",
      "\n",
      "[MoviePy] Running:\n",
      ">>> /Users/smlee/Library/Application Support/imageio/ffmpeg/ffmpeg-osx-v3.2.4 -y -i ./yunha.mp4 -ss 730.00 -t 5.00 -vcodec copy -acodec copy ./audio-classification/data/output/147.mp4\n",
      "... command successful.\n",
      "[MoviePy] Writing audio in ./audio-classification/data/output/147.wav\n"
     ]
    },
    {
     "name": "stderr",
     "output_type": "stream",
     "text": [
      "\n",
      "  0%|          | 0/111 [00:00<?, ?it/s]\u001b[A\n",
      "100%|██████████| 111/111 [00:00<00:00, 2657.67it/s]\u001b[A"
     ]
    },
    {
     "name": "stdout",
     "output_type": "stream",
     "text": [
      "[MoviePy] Done.\n",
      "148\n",
      "False\n",
      "\n",
      "[MoviePy] Running:\n",
      ">>> /Users/smlee/Library/Application Support/imageio/ffmpeg/ffmpeg-osx-v3.2.4 -y -i ./yunha.mp4 -ss 735.00 -t 5.00 -vcodec copy -acodec copy ./audio-classification/data/output/148.mp4\n",
      "... command successful.\n",
      "[MoviePy] Writing audio in ./audio-classification/data/output/148.wav\n"
     ]
    },
    {
     "name": "stderr",
     "output_type": "stream",
     "text": [
      "\n",
      "  0%|          | 0/111 [00:00<?, ?it/s]\u001b[A\n",
      "100%|██████████| 111/111 [00:00<00:00, 2155.09it/s]\u001b[A"
     ]
    },
    {
     "name": "stdout",
     "output_type": "stream",
     "text": [
      "[MoviePy] Done.\n",
      "149\n",
      "False\n",
      "\n",
      "[MoviePy] Running:\n",
      ">>> /Users/smlee/Library/Application Support/imageio/ffmpeg/ffmpeg-osx-v3.2.4 -y -i ./yunha.mp4 -ss 740.00 -t 5.00 -vcodec copy -acodec copy ./audio-classification/data/output/149.mp4\n",
      "... command successful.\n",
      "[MoviePy] Writing audio in ./audio-classification/data/output/149.wav\n"
     ]
    },
    {
     "name": "stderr",
     "output_type": "stream",
     "text": [
      "\n",
      "  0%|          | 0/111 [00:00<?, ?it/s]\u001b[A\n",
      "100%|██████████| 111/111 [00:00<00:00, 2639.78it/s]\u001b[A"
     ]
    },
    {
     "name": "stdout",
     "output_type": "stream",
     "text": [
      "[MoviePy] Done.\n",
      "150\n",
      "False\n",
      "\n",
      "[MoviePy] Running:\n",
      ">>> /Users/smlee/Library/Application Support/imageio/ffmpeg/ffmpeg-osx-v3.2.4 -y -i ./yunha.mp4 -ss 745.00 -t 5.00 -vcodec copy -acodec copy ./audio-classification/data/output/150.mp4\n",
      "... command successful.\n",
      "[MoviePy] Writing audio in ./audio-classification/data/output/150.wav\n"
     ]
    },
    {
     "name": "stderr",
     "output_type": "stream",
     "text": [
      "\n",
      "  0%|          | 0/111 [00:00<?, ?it/s]\u001b[A\n",
      "100%|██████████| 111/111 [00:00<00:00, 2562.27it/s]\u001b[A"
     ]
    },
    {
     "name": "stdout",
     "output_type": "stream",
     "text": [
      "[MoviePy] Done.\n",
      "151\n",
      "False\n",
      "\n",
      "[MoviePy] Running:\n",
      ">>> /Users/smlee/Library/Application Support/imageio/ffmpeg/ffmpeg-osx-v3.2.4 -y -i ./yunha.mp4 -ss 750.00 -t 5.00 -vcodec copy -acodec copy ./audio-classification/data/output/151.mp4\n",
      "... command successful.\n",
      "[MoviePy] Writing audio in ./audio-classification/data/output/151.wav\n"
     ]
    },
    {
     "name": "stderr",
     "output_type": "stream",
     "text": [
      "\n",
      "  0%|          | 0/111 [00:00<?, ?it/s]\u001b[A\n",
      "100%|██████████| 111/111 [00:00<00:00, 2374.89it/s]\u001b[A"
     ]
    },
    {
     "name": "stdout",
     "output_type": "stream",
     "text": [
      "[MoviePy] Done.\n",
      "152\n",
      "False\n",
      "\n",
      "[MoviePy] Running:\n",
      ">>> /Users/smlee/Library/Application Support/imageio/ffmpeg/ffmpeg-osx-v3.2.4 -y -i ./yunha.mp4 -ss 755.00 -t 5.00 -vcodec copy -acodec copy ./audio-classification/data/output/152.mp4\n",
      "... command successful.\n",
      "[MoviePy] Writing audio in ./audio-classification/data/output/152.wav\n"
     ]
    },
    {
     "name": "stderr",
     "output_type": "stream",
     "text": [
      "\n",
      "  0%|          | 0/111 [00:00<?, ?it/s]\u001b[A\n",
      "100%|██████████| 111/111 [00:00<00:00, 2327.92it/s]\u001b[A"
     ]
    },
    {
     "name": "stdout",
     "output_type": "stream",
     "text": [
      "[MoviePy] Done.\n",
      "153\n",
      "False\n",
      "\n",
      "[MoviePy] Running:\n",
      ">>> /Users/smlee/Library/Application Support/imageio/ffmpeg/ffmpeg-osx-v3.2.4 -y -i ./yunha.mp4 -ss 760.00 -t 5.00 -vcodec copy -acodec copy ./audio-classification/data/output/153.mp4\n",
      "... command successful.\n",
      "[MoviePy] Writing audio in ./audio-classification/data/output/153.wav\n"
     ]
    },
    {
     "name": "stderr",
     "output_type": "stream",
     "text": [
      "\n",
      "  0%|          | 0/111 [00:00<?, ?it/s]\u001b[A\n",
      "100%|██████████| 111/111 [00:00<00:00, 2512.74it/s]\u001b[A"
     ]
    },
    {
     "name": "stdout",
     "output_type": "stream",
     "text": [
      "[MoviePy] Done.\n",
      "154\n",
      "False\n",
      "\n",
      "[MoviePy] Running:\n",
      ">>> /Users/smlee/Library/Application Support/imageio/ffmpeg/ffmpeg-osx-v3.2.4 -y -i ./yunha.mp4 -ss 765.00 -t 5.00 -vcodec copy -acodec copy ./audio-classification/data/output/154.mp4\n",
      "... command successful.\n",
      "[MoviePy] Writing audio in ./audio-classification/data/output/154.wav\n"
     ]
    },
    {
     "name": "stderr",
     "output_type": "stream",
     "text": [
      "\n",
      "  0%|          | 0/111 [00:00<?, ?it/s]\u001b[A\n",
      "100%|██████████| 111/111 [00:00<00:00, 2068.23it/s]\u001b[A"
     ]
    },
    {
     "name": "stdout",
     "output_type": "stream",
     "text": [
      "[MoviePy] Done.\n",
      "155\n",
      "False\n",
      "\n",
      "[MoviePy] Running:\n",
      ">>> /Users/smlee/Library/Application Support/imageio/ffmpeg/ffmpeg-osx-v3.2.4 -y -i ./yunha.mp4 -ss 770.00 -t 5.00 -vcodec copy -acodec copy ./audio-classification/data/output/155.mp4\n",
      "... command successful.\n",
      "[MoviePy] Writing audio in ./audio-classification/data/output/155.wav\n"
     ]
    },
    {
     "name": "stderr",
     "output_type": "stream",
     "text": [
      "\n",
      "  0%|          | 0/111 [00:00<?, ?it/s]\u001b[A\n",
      "100%|██████████| 111/111 [00:00<00:00, 2664.82it/s]\u001b[A"
     ]
    },
    {
     "name": "stdout",
     "output_type": "stream",
     "text": [
      "[MoviePy] Done.\n",
      "156\n",
      "False\n",
      "\n",
      "[MoviePy] Running:\n",
      ">>> /Users/smlee/Library/Application Support/imageio/ffmpeg/ffmpeg-osx-v3.2.4 -y -i ./yunha.mp4 -ss 775.00 -t 5.00 -vcodec copy -acodec copy ./audio-classification/data/output/156.mp4\n",
      "... command successful.\n",
      "[MoviePy] Writing audio in ./audio-classification/data/output/156.wav\n"
     ]
    },
    {
     "name": "stderr",
     "output_type": "stream",
     "text": [
      "\n",
      "  0%|          | 0/111 [00:00<?, ?it/s]\u001b[A\n",
      "100%|██████████| 111/111 [00:00<00:00, 2556.72it/s]\u001b[A"
     ]
    },
    {
     "name": "stdout",
     "output_type": "stream",
     "text": [
      "[MoviePy] Done.\n",
      "157\n",
      "False\n",
      "\n",
      "[MoviePy] Running:\n",
      ">>> /Users/smlee/Library/Application Support/imageio/ffmpeg/ffmpeg-osx-v3.2.4 -y -i ./yunha.mp4 -ss 780.00 -t 5.00 -vcodec copy -acodec copy ./audio-classification/data/output/157.mp4\n",
      "... command successful.\n",
      "[MoviePy] Writing audio in ./audio-classification/data/output/157.wav\n"
     ]
    },
    {
     "name": "stderr",
     "output_type": "stream",
     "text": [
      "\n",
      "  0%|          | 0/111 [00:00<?, ?it/s]\u001b[A\n",
      "100%|██████████| 111/111 [00:00<00:00, 2629.95it/s]\u001b[A"
     ]
    },
    {
     "name": "stdout",
     "output_type": "stream",
     "text": [
      "[MoviePy] Done.\n",
      "158\n",
      "False\n",
      "\n",
      "[MoviePy] Running:\n",
      ">>> /Users/smlee/Library/Application Support/imageio/ffmpeg/ffmpeg-osx-v3.2.4 -y -i ./yunha.mp4 -ss 785.00 -t 5.00 -vcodec copy -acodec copy ./audio-classification/data/output/158.mp4\n",
      "... command successful.\n",
      "[MoviePy] Writing audio in ./audio-classification/data/output/158.wav\n"
     ]
    },
    {
     "name": "stderr",
     "output_type": "stream",
     "text": [
      "\n",
      "  0%|          | 0/111 [00:00<?, ?it/s]\u001b[A\n",
      "100%|██████████| 111/111 [00:00<00:00, 2187.96it/s]\u001b[A"
     ]
    },
    {
     "name": "stdout",
     "output_type": "stream",
     "text": [
      "[MoviePy] Done.\n",
      "159\n",
      "False\n",
      "\n",
      "[MoviePy] Running:\n",
      ">>> /Users/smlee/Library/Application Support/imageio/ffmpeg/ffmpeg-osx-v3.2.4 -y -i ./yunha.mp4 -ss 790.00 -t 5.00 -vcodec copy -acodec copy ./audio-classification/data/output/159.mp4\n",
      "... command successful.\n",
      "[MoviePy] Writing audio in ./audio-classification/data/output/159.wav\n"
     ]
    },
    {
     "name": "stderr",
     "output_type": "stream",
     "text": [
      "\n",
      "  0%|          | 0/111 [00:00<?, ?it/s]\u001b[A\n",
      "100%|██████████| 111/111 [00:00<00:00, 1658.10it/s]\u001b[A"
     ]
    },
    {
     "name": "stdout",
     "output_type": "stream",
     "text": [
      "[MoviePy] Done.\n",
      "160\n",
      "False\n",
      "\n",
      "[MoviePy] Running:\n",
      ">>> /Users/smlee/Library/Application Support/imageio/ffmpeg/ffmpeg-osx-v3.2.4 -y -i ./yunha.mp4 -ss 795.00 -t 5.00 -vcodec copy -acodec copy ./audio-classification/data/output/160.mp4\n",
      "... command successful.\n",
      "[MoviePy] Writing audio in ./audio-classification/data/output/160.wav\n"
     ]
    },
    {
     "name": "stderr",
     "output_type": "stream",
     "text": [
      "\n",
      "  0%|          | 0/111 [00:00<?, ?it/s]\u001b[A\n",
      "100%|██████████| 111/111 [00:00<00:00, 2316.51it/s]\u001b[A"
     ]
    },
    {
     "name": "stdout",
     "output_type": "stream",
     "text": [
      "[MoviePy] Done.\n",
      "161\n",
      "False\n",
      "\n",
      "[MoviePy] Running:\n",
      ">>> /Users/smlee/Library/Application Support/imageio/ffmpeg/ffmpeg-osx-v3.2.4 -y -i ./yunha.mp4 -ss 800.00 -t 5.00 -vcodec copy -acodec copy ./audio-classification/data/output/161.mp4\n",
      "... command successful.\n",
      "[MoviePy] Writing audio in ./audio-classification/data/output/161.wav\n"
     ]
    },
    {
     "name": "stderr",
     "output_type": "stream",
     "text": [
      "\n",
      "  0%|          | 0/111 [00:00<?, ?it/s]\u001b[A\n",
      "100%|██████████| 111/111 [00:00<00:00, 1702.97it/s]\u001b[A"
     ]
    },
    {
     "name": "stdout",
     "output_type": "stream",
     "text": [
      "[MoviePy] Done.\n",
      "162\n",
      "False\n",
      "\n",
      "[MoviePy] Running:\n",
      ">>> /Users/smlee/Library/Application Support/imageio/ffmpeg/ffmpeg-osx-v3.2.4 -y -i ./yunha.mp4 -ss 805.00 -t 5.00 -vcodec copy -acodec copy ./audio-classification/data/output/162.mp4\n",
      "... command successful.\n",
      "[MoviePy] Writing audio in ./audio-classification/data/output/162.wav\n"
     ]
    },
    {
     "name": "stderr",
     "output_type": "stream",
     "text": [
      "\n",
      "  0%|          | 0/111 [00:00<?, ?it/s]\u001b[A\n",
      "100%|██████████| 111/111 [00:00<00:00, 1889.40it/s]\u001b[A"
     ]
    },
    {
     "name": "stdout",
     "output_type": "stream",
     "text": [
      "[MoviePy] Done.\n",
      "163\n",
      "False\n",
      "\n",
      "[MoviePy] Running:\n",
      ">>> /Users/smlee/Library/Application Support/imageio/ffmpeg/ffmpeg-osx-v3.2.4 -y -i ./yunha.mp4 -ss 810.00 -t 5.00 -vcodec copy -acodec copy ./audio-classification/data/output/163.mp4\n",
      "... command successful.\n",
      "[MoviePy] Writing audio in ./audio-classification/data/output/163.wav\n"
     ]
    },
    {
     "name": "stderr",
     "output_type": "stream",
     "text": [
      "\n",
      "  0%|          | 0/111 [00:00<?, ?it/s]\u001b[A\n",
      "100%|██████████| 111/111 [00:00<00:00, 2290.08it/s]\u001b[A"
     ]
    },
    {
     "name": "stdout",
     "output_type": "stream",
     "text": [
      "[MoviePy] Done.\n",
      "164\n",
      "False\n",
      "\n",
      "[MoviePy] Running:\n",
      ">>> /Users/smlee/Library/Application Support/imageio/ffmpeg/ffmpeg-osx-v3.2.4 -y -i ./yunha.mp4 -ss 815.00 -t 5.00 -vcodec copy -acodec copy ./audio-classification/data/output/164.mp4\n",
      "... command successful.\n",
      "[MoviePy] Writing audio in ./audio-classification/data/output/164.wav\n"
     ]
    },
    {
     "name": "stderr",
     "output_type": "stream",
     "text": [
      "\n",
      "  0%|          | 0/111 [00:00<?, ?it/s]\u001b[A\n",
      "100%|██████████| 111/111 [00:00<00:00, 1967.21it/s]\u001b[A"
     ]
    },
    {
     "name": "stdout",
     "output_type": "stream",
     "text": [
      "[MoviePy] Done.\n",
      "165\n",
      "False\n",
      "\n",
      "[MoviePy] Running:\n",
      ">>> /Users/smlee/Library/Application Support/imageio/ffmpeg/ffmpeg-osx-v3.2.4 -y -i ./yunha.mp4 -ss 820.00 -t 5.00 -vcodec copy -acodec copy ./audio-classification/data/output/165.mp4\n",
      "... command successful.\n",
      "[MoviePy] Writing audio in ./audio-classification/data/output/165.wav\n"
     ]
    },
    {
     "name": "stderr",
     "output_type": "stream",
     "text": [
      "\n",
      "  0%|          | 0/111 [00:00<?, ?it/s]\u001b[A\n",
      "100%|██████████| 111/111 [00:00<00:00, 2579.11it/s]\u001b[A"
     ]
    },
    {
     "name": "stdout",
     "output_type": "stream",
     "text": [
      "[MoviePy] Done.\n",
      "166\n",
      "False\n",
      "\n",
      "[MoviePy] Running:\n",
      ">>> /Users/smlee/Library/Application Support/imageio/ffmpeg/ffmpeg-osx-v3.2.4 -y -i ./yunha.mp4 -ss 825.00 -t 5.00 -vcodec copy -acodec copy ./audio-classification/data/output/166.mp4\n",
      "... command successful.\n",
      "[MoviePy] Writing audio in ./audio-classification/data/output/166.wav\n"
     ]
    },
    {
     "name": "stderr",
     "output_type": "stream",
     "text": [
      "\n",
      "  0%|          | 0/111 [00:00<?, ?it/s]\u001b[A\n",
      "100%|██████████| 111/111 [00:00<00:00, 2319.07it/s]\u001b[A"
     ]
    },
    {
     "name": "stdout",
     "output_type": "stream",
     "text": [
      "[MoviePy] Done.\n",
      "167\n",
      "False\n",
      "\n",
      "[MoviePy] Running:\n",
      ">>> /Users/smlee/Library/Application Support/imageio/ffmpeg/ffmpeg-osx-v3.2.4 -y -i ./yunha.mp4 -ss 830.00 -t 5.00 -vcodec copy -acodec copy ./audio-classification/data/output/167.mp4\n",
      "... command successful.\n",
      "[MoviePy] Writing audio in ./audio-classification/data/output/167.wav\n"
     ]
    },
    {
     "name": "stderr",
     "output_type": "stream",
     "text": [
      "\n",
      "  0%|          | 0/111 [00:00<?, ?it/s]\u001b[A\n",
      "100%|██████████| 111/111 [00:00<00:00, 2294.57it/s]\u001b[A"
     ]
    },
    {
     "name": "stdout",
     "output_type": "stream",
     "text": [
      "[MoviePy] Done.\n",
      "168\n",
      "False\n",
      "\n",
      "[MoviePy] Running:\n",
      ">>> /Users/smlee/Library/Application Support/imageio/ffmpeg/ffmpeg-osx-v3.2.4 -y -i ./yunha.mp4 -ss 835.00 -t 5.00 -vcodec copy -acodec copy ./audio-classification/data/output/168.mp4\n",
      "... command successful.\n",
      "[MoviePy] Writing audio in ./audio-classification/data/output/168.wav\n"
     ]
    },
    {
     "name": "stderr",
     "output_type": "stream",
     "text": [
      "\n",
      "  0%|          | 0/111 [00:00<?, ?it/s]\u001b[A\n",
      "100%|██████████| 111/111 [00:00<00:00, 2417.83it/s]\u001b[A"
     ]
    },
    {
     "name": "stdout",
     "output_type": "stream",
     "text": [
      "[MoviePy] Done.\n",
      "169\n",
      "False\n",
      "\n",
      "[MoviePy] Running:\n",
      ">>> /Users/smlee/Library/Application Support/imageio/ffmpeg/ffmpeg-osx-v3.2.4 -y -i ./yunha.mp4 -ss 840.00 -t 5.00 -vcodec copy -acodec copy ./audio-classification/data/output/169.mp4\n",
      "... command successful.\n",
      "[MoviePy] Writing audio in ./audio-classification/data/output/169.wav\n"
     ]
    },
    {
     "name": "stderr",
     "output_type": "stream",
     "text": [
      "\n",
      "  0%|          | 0/111 [00:00<?, ?it/s]\u001b[A\n",
      "100%|██████████| 111/111 [00:00<00:00, 2107.34it/s]\u001b[A"
     ]
    },
    {
     "name": "stdout",
     "output_type": "stream",
     "text": [
      "[MoviePy] Done.\n",
      "170\n",
      "False\n",
      "\n",
      "[MoviePy] Running:\n",
      ">>> /Users/smlee/Library/Application Support/imageio/ffmpeg/ffmpeg-osx-v3.2.4 -y -i ./yunha.mp4 -ss 845.00 -t 5.00 -vcodec copy -acodec copy ./audio-classification/data/output/170.mp4\n",
      "... command successful.\n",
      "[MoviePy] Writing audio in ./audio-classification/data/output/170.wav\n"
     ]
    },
    {
     "name": "stderr",
     "output_type": "stream",
     "text": [
      "\n",
      "  0%|          | 0/111 [00:00<?, ?it/s]\u001b[A\n",
      "100%|██████████| 111/111 [00:00<00:00, 2488.62it/s]\u001b[A"
     ]
    },
    {
     "name": "stdout",
     "output_type": "stream",
     "text": [
      "[MoviePy] Done.\n",
      "171\n",
      "False\n",
      "\n",
      "[MoviePy] Running:\n",
      ">>> /Users/smlee/Library/Application Support/imageio/ffmpeg/ffmpeg-osx-v3.2.4 -y -i ./yunha.mp4 -ss 850.00 -t 5.00 -vcodec copy -acodec copy ./audio-classification/data/output/171.mp4\n",
      "... command successful.\n",
      "[MoviePy] Writing audio in ./audio-classification/data/output/171.wav\n"
     ]
    },
    {
     "name": "stderr",
     "output_type": "stream",
     "text": [
      "\n",
      "  0%|          | 0/111 [00:00<?, ?it/s]\u001b[A\n",
      "100%|██████████| 111/111 [00:00<00:00, 2288.05it/s]\u001b[A"
     ]
    },
    {
     "name": "stdout",
     "output_type": "stream",
     "text": [
      "[MoviePy] Done.\n",
      "172\n",
      "False\n",
      "\n",
      "[MoviePy] Running:\n",
      ">>> /Users/smlee/Library/Application Support/imageio/ffmpeg/ffmpeg-osx-v3.2.4 -y -i ./yunha.mp4 -ss 855.00 -t 5.00 -vcodec copy -acodec copy ./audio-classification/data/output/172.mp4\n",
      "... command successful.\n",
      "[MoviePy] Writing audio in ./audio-classification/data/output/172.wav\n"
     ]
    },
    {
     "name": "stderr",
     "output_type": "stream",
     "text": [
      "\n",
      "  0%|          | 0/111 [00:00<?, ?it/s]\u001b[A\n",
      "100%|██████████| 111/111 [00:00<00:00, 2595.34it/s]\u001b[A"
     ]
    },
    {
     "name": "stdout",
     "output_type": "stream",
     "text": [
      "[MoviePy] Done.\n",
      "173\n",
      "False\n",
      "\n",
      "[MoviePy] Running:\n",
      ">>> /Users/smlee/Library/Application Support/imageio/ffmpeg/ffmpeg-osx-v3.2.4 -y -i ./yunha.mp4 -ss 860.00 -t 5.00 -vcodec copy -acodec copy ./audio-classification/data/output/173.mp4\n",
      "... command successful.\n",
      "[MoviePy] Writing audio in ./audio-classification/data/output/173.wav\n"
     ]
    },
    {
     "name": "stderr",
     "output_type": "stream",
     "text": [
      "\n",
      "  0%|          | 0/111 [00:00<?, ?it/s]\u001b[A\n",
      "100%|██████████| 111/111 [00:00<00:00, 2555.19it/s]\u001b[A"
     ]
    },
    {
     "name": "stdout",
     "output_type": "stream",
     "text": [
      "[MoviePy] Done.\n",
      "174\n",
      "False\n",
      "\n",
      "[MoviePy] Running:\n",
      ">>> /Users/smlee/Library/Application Support/imageio/ffmpeg/ffmpeg-osx-v3.2.4 -y -i ./yunha.mp4 -ss 865.00 -t 5.00 -vcodec copy -acodec copy ./audio-classification/data/output/174.mp4\n",
      "... command successful.\n",
      "[MoviePy] Writing audio in ./audio-classification/data/output/174.wav\n"
     ]
    },
    {
     "name": "stderr",
     "output_type": "stream",
     "text": [
      "\n",
      "  0%|          | 0/111 [00:00<?, ?it/s]\u001b[A\n",
      "100%|██████████| 111/111 [00:00<00:00, 2325.28it/s]\u001b[A"
     ]
    },
    {
     "name": "stdout",
     "output_type": "stream",
     "text": [
      "[MoviePy] Done.\n",
      "175\n",
      "False\n",
      "\n",
      "[MoviePy] Running:\n",
      ">>> /Users/smlee/Library/Application Support/imageio/ffmpeg/ffmpeg-osx-v3.2.4 -y -i ./yunha.mp4 -ss 870.00 -t 5.00 -vcodec copy -acodec copy ./audio-classification/data/output/175.mp4\n",
      "... command successful.\n",
      "[MoviePy] Writing audio in ./audio-classification/data/output/175.wav\n"
     ]
    },
    {
     "name": "stderr",
     "output_type": "stream",
     "text": [
      "\n",
      "  0%|          | 0/111 [00:00<?, ?it/s]\u001b[A\n",
      "100%|██████████| 111/111 [00:00<00:00, 2009.42it/s]\u001b[A"
     ]
    },
    {
     "name": "stdout",
     "output_type": "stream",
     "text": [
      "[MoviePy] Done.\n",
      "176\n",
      "False\n",
      "\n",
      "[MoviePy] Running:\n",
      ">>> /Users/smlee/Library/Application Support/imageio/ffmpeg/ffmpeg-osx-v3.2.4 -y -i ./yunha.mp4 -ss 875.00 -t 5.00 -vcodec copy -acodec copy ./audio-classification/data/output/176.mp4\n",
      "... command successful.\n",
      "[MoviePy] Writing audio in ./audio-classification/data/output/176.wav\n"
     ]
    },
    {
     "name": "stderr",
     "output_type": "stream",
     "text": [
      "\n",
      "  0%|          | 0/111 [00:00<?, ?it/s]\u001b[A\n",
      "100%|██████████| 111/111 [00:00<00:00, 2416.41it/s]\u001b[A"
     ]
    },
    {
     "name": "stdout",
     "output_type": "stream",
     "text": [
      "[MoviePy] Done.\n",
      "177\n",
      "False\n",
      "\n",
      "[MoviePy] Running:\n",
      ">>> /Users/smlee/Library/Application Support/imageio/ffmpeg/ffmpeg-osx-v3.2.4 -y -i ./yunha.mp4 -ss 880.00 -t 5.00 -vcodec copy -acodec copy ./audio-classification/data/output/177.mp4\n",
      "... command successful.\n",
      "[MoviePy] Writing audio in ./audio-classification/data/output/177.wav\n"
     ]
    },
    {
     "name": "stderr",
     "output_type": "stream",
     "text": [
      "\n",
      "  0%|          | 0/111 [00:00<?, ?it/s]\u001b[A\n",
      "100%|██████████| 111/111 [00:00<00:00, 2264.80it/s]\u001b[A"
     ]
    },
    {
     "name": "stdout",
     "output_type": "stream",
     "text": [
      "[MoviePy] Done.\n",
      "178\n",
      "False\n",
      "\n",
      "[MoviePy] Running:\n",
      ">>> /Users/smlee/Library/Application Support/imageio/ffmpeg/ffmpeg-osx-v3.2.4 -y -i ./yunha.mp4 -ss 885.00 -t 5.00 -vcodec copy -acodec copy ./audio-classification/data/output/178.mp4\n",
      "... command successful.\n",
      "[MoviePy] Writing audio in ./audio-classification/data/output/178.wav\n"
     ]
    },
    {
     "name": "stderr",
     "output_type": "stream",
     "text": [
      "\n",
      "  0%|          | 0/111 [00:00<?, ?it/s]\u001b[A\n",
      "100%|██████████| 111/111 [00:00<00:00, 2090.79it/s]\u001b[A"
     ]
    },
    {
     "name": "stdout",
     "output_type": "stream",
     "text": [
      "[MoviePy] Done.\n",
      "179\n",
      "False\n",
      "\n",
      "[MoviePy] Running:\n",
      ">>> /Users/smlee/Library/Application Support/imageio/ffmpeg/ffmpeg-osx-v3.2.4 -y -i ./yunha.mp4 -ss 890.00 -t 5.00 -vcodec copy -acodec copy ./audio-classification/data/output/179.mp4\n",
      "... command successful.\n",
      "[MoviePy] Writing audio in ./audio-classification/data/output/179.wav\n"
     ]
    },
    {
     "name": "stderr",
     "output_type": "stream",
     "text": [
      "\n",
      "  0%|          | 0/111 [00:00<?, ?it/s]\u001b[A\n",
      "100%|██████████| 111/111 [00:00<00:00, 2649.41it/s]\u001b[A"
     ]
    },
    {
     "name": "stdout",
     "output_type": "stream",
     "text": [
      "[MoviePy] Done.\n",
      "180\n",
      "False\n",
      "\n",
      "[MoviePy] Running:\n",
      ">>> /Users/smlee/Library/Application Support/imageio/ffmpeg/ffmpeg-osx-v3.2.4 -y -i ./yunha.mp4 -ss 895.00 -t 5.00 -vcodec copy -acodec copy ./audio-classification/data/output/180.mp4\n",
      "... command successful.\n",
      "[MoviePy] Writing audio in ./audio-classification/data/output/180.wav\n"
     ]
    },
    {
     "name": "stderr",
     "output_type": "stream",
     "text": [
      "\n",
      "  0%|          | 0/111 [00:00<?, ?it/s]\u001b[A\n",
      "100%|██████████| 111/111 [00:00<00:00, 2375.92it/s]\u001b[A"
     ]
    },
    {
     "name": "stdout",
     "output_type": "stream",
     "text": [
      "[MoviePy] Done.\n",
      "181\n",
      "False\n",
      "\n",
      "[MoviePy] Running:\n",
      ">>> /Users/smlee/Library/Application Support/imageio/ffmpeg/ffmpeg-osx-v3.2.4 -y -i ./yunha.mp4 -ss 900.00 -t 5.00 -vcodec copy -acodec copy ./audio-classification/data/output/181.mp4\n",
      "... command successful.\n",
      "[MoviePy] Writing audio in ./audio-classification/data/output/181.wav\n"
     ]
    },
    {
     "name": "stderr",
     "output_type": "stream",
     "text": [
      "\n",
      "  0%|          | 0/111 [00:00<?, ?it/s]\u001b[A\n",
      "100%|██████████| 111/111 [00:00<00:00, 2156.18it/s]\u001b[A"
     ]
    },
    {
     "name": "stdout",
     "output_type": "stream",
     "text": [
      "[MoviePy] Done.\n",
      "182\n",
      "False\n",
      "\n",
      "[MoviePy] Running:\n",
      ">>> /Users/smlee/Library/Application Support/imageio/ffmpeg/ffmpeg-osx-v3.2.4 -y -i ./yunha.mp4 -ss 905.00 -t 5.00 -vcodec copy -acodec copy ./audio-classification/data/output/182.mp4\n",
      "... command successful.\n",
      "[MoviePy] Writing audio in ./audio-classification/data/output/182.wav\n"
     ]
    },
    {
     "name": "stderr",
     "output_type": "stream",
     "text": [
      "\n",
      "  0%|          | 0/111 [00:00<?, ?it/s]\u001b[A\n",
      "100%|██████████| 111/111 [00:00<00:00, 2230.17it/s]\u001b[A"
     ]
    },
    {
     "name": "stdout",
     "output_type": "stream",
     "text": [
      "[MoviePy] Done.\n",
      "183\n",
      "False\n",
      "\n",
      "[MoviePy] Running:\n",
      ">>> /Users/smlee/Library/Application Support/imageio/ffmpeg/ffmpeg-osx-v3.2.4 -y -i ./yunha.mp4 -ss 910.00 -t 5.00 -vcodec copy -acodec copy ./audio-classification/data/output/183.mp4\n",
      "... command successful.\n",
      "[MoviePy] Writing audio in ./audio-classification/data/output/183.wav\n"
     ]
    },
    {
     "name": "stderr",
     "output_type": "stream",
     "text": [
      "\n",
      "  0%|          | 0/111 [00:00<?, ?it/s]\u001b[A\n",
      "100%|██████████| 111/111 [00:00<00:00, 2408.90it/s]\u001b[A"
     ]
    },
    {
     "name": "stdout",
     "output_type": "stream",
     "text": [
      "[MoviePy] Done.\n",
      "184\n",
      "False\n",
      "\n",
      "[MoviePy] Running:\n",
      ">>> /Users/smlee/Library/Application Support/imageio/ffmpeg/ffmpeg-osx-v3.2.4 -y -i ./yunha.mp4 -ss 915.00 -t 5.00 -vcodec copy -acodec copy ./audio-classification/data/output/184.mp4\n",
      "... command successful.\n",
      "[MoviePy] Writing audio in ./audio-classification/data/output/184.wav\n"
     ]
    },
    {
     "name": "stderr",
     "output_type": "stream",
     "text": [
      "\n",
      "  0%|          | 0/111 [00:00<?, ?it/s]\u001b[A\n",
      "100%|██████████| 111/111 [00:00<00:00, 2534.18it/s]\u001b[A"
     ]
    },
    {
     "name": "stdout",
     "output_type": "stream",
     "text": [
      "[MoviePy] Done.\n",
      "185\n",
      "False\n",
      "\n",
      "[MoviePy] Running:\n",
      ">>> /Users/smlee/Library/Application Support/imageio/ffmpeg/ffmpeg-osx-v3.2.4 -y -i ./yunha.mp4 -ss 920.00 -t 5.00 -vcodec copy -acodec copy ./audio-classification/data/output/185.mp4\n",
      "... command successful.\n",
      "[MoviePy] Writing audio in ./audio-classification/data/output/185.wav\n"
     ]
    },
    {
     "name": "stderr",
     "output_type": "stream",
     "text": [
      "\n",
      "  0%|          | 0/111 [00:00<?, ?it/s]\u001b[A\n",
      "100%|██████████| 111/111 [00:00<00:00, 2586.93it/s]\u001b[A"
     ]
    },
    {
     "name": "stdout",
     "output_type": "stream",
     "text": [
      "[MoviePy] Done.\n",
      "186\n",
      "False\n",
      "\n",
      "[MoviePy] Running:\n",
      ">>> /Users/smlee/Library/Application Support/imageio/ffmpeg/ffmpeg-osx-v3.2.4 -y -i ./yunha.mp4 -ss 925.00 -t 5.00 -vcodec copy -acodec copy ./audio-classification/data/output/186.mp4\n",
      "... command successful.\n",
      "[MoviePy] Writing audio in ./audio-classification/data/output/186.wav\n"
     ]
    },
    {
     "name": "stderr",
     "output_type": "stream",
     "text": [
      "\n",
      "  0%|          | 0/111 [00:00<?, ?it/s]\u001b[A\n",
      "100%|██████████| 111/111 [00:00<00:00, 2355.34it/s]\u001b[A"
     ]
    },
    {
     "name": "stdout",
     "output_type": "stream",
     "text": [
      "[MoviePy] Done.\n",
      "187\n",
      "False\n",
      "\n",
      "[MoviePy] Running:\n",
      ">>> /Users/smlee/Library/Application Support/imageio/ffmpeg/ffmpeg-osx-v3.2.4 -y -i ./yunha.mp4 -ss 930.00 -t 5.00 -vcodec copy -acodec copy ./audio-classification/data/output/187.mp4\n",
      "... command successful.\n",
      "[MoviePy] Writing audio in ./audio-classification/data/output/187.wav\n"
     ]
    },
    {
     "name": "stderr",
     "output_type": "stream",
     "text": [
      "\n",
      "  0%|          | 0/111 [00:00<?, ?it/s]\u001b[A\n",
      "100%|██████████| 111/111 [00:00<00:00, 2484.90it/s]\u001b[A"
     ]
    },
    {
     "name": "stdout",
     "output_type": "stream",
     "text": [
      "[MoviePy] Done.\n",
      "188\n",
      "False\n",
      "\n",
      "[MoviePy] Running:\n",
      ">>> /Users/smlee/Library/Application Support/imageio/ffmpeg/ffmpeg-osx-v3.2.4 -y -i ./yunha.mp4 -ss 935.00 -t 5.00 -vcodec copy -acodec copy ./audio-classification/data/output/188.mp4\n",
      "... command successful.\n",
      "[MoviePy] Writing audio in ./audio-classification/data/output/188.wav\n"
     ]
    },
    {
     "name": "stderr",
     "output_type": "stream",
     "text": [
      "\n",
      "  0%|          | 0/111 [00:00<?, ?it/s]\u001b[A\n",
      "100%|██████████| 111/111 [00:00<00:00, 2254.90it/s]\u001b[A"
     ]
    },
    {
     "name": "stdout",
     "output_type": "stream",
     "text": [
      "[MoviePy] Done.\n",
      "189\n",
      "False\n",
      "\n",
      "[MoviePy] Running:\n",
      ">>> /Users/smlee/Library/Application Support/imageio/ffmpeg/ffmpeg-osx-v3.2.4 -y -i ./yunha.mp4 -ss 940.00 -t 5.00 -vcodec copy -acodec copy ./audio-classification/data/output/189.mp4\n",
      "... command successful.\n",
      "[MoviePy] Writing audio in ./audio-classification/data/output/189.wav\n"
     ]
    },
    {
     "name": "stderr",
     "output_type": "stream",
     "text": [
      "\n",
      "  0%|          | 0/111 [00:00<?, ?it/s]\u001b[A\n",
      "100%|██████████| 111/111 [00:00<00:00, 2528.60it/s]\u001b[A"
     ]
    },
    {
     "name": "stdout",
     "output_type": "stream",
     "text": [
      "[MoviePy] Done.\n",
      "190\n",
      "False\n",
      "\n",
      "[MoviePy] Running:\n",
      ">>> /Users/smlee/Library/Application Support/imageio/ffmpeg/ffmpeg-osx-v3.2.4 -y -i ./yunha.mp4 -ss 945.00 -t 5.00 -vcodec copy -acodec copy ./audio-classification/data/output/190.mp4\n",
      "... command successful.\n",
      "[MoviePy] Writing audio in ./audio-classification/data/output/190.wav\n"
     ]
    },
    {
     "name": "stderr",
     "output_type": "stream",
     "text": [
      "\n",
      "  0%|          | 0/111 [00:00<?, ?it/s]\u001b[A\n",
      "100%|██████████| 111/111 [00:00<00:00, 2145.96it/s]\u001b[A"
     ]
    },
    {
     "name": "stdout",
     "output_type": "stream",
     "text": [
      "[MoviePy] Done.\n",
      "191\n",
      "False\n",
      "\n",
      "[MoviePy] Running:\n",
      ">>> /Users/smlee/Library/Application Support/imageio/ffmpeg/ffmpeg-osx-v3.2.4 -y -i ./yunha.mp4 -ss 950.00 -t 5.00 -vcodec copy -acodec copy ./audio-classification/data/output/191.mp4\n",
      "... command successful.\n",
      "[MoviePy] Writing audio in ./audio-classification/data/output/191.wav\n"
     ]
    },
    {
     "name": "stderr",
     "output_type": "stream",
     "text": [
      "\n",
      "  0%|          | 0/111 [00:00<?, ?it/s]\u001b[A\n",
      "100%|██████████| 111/111 [00:00<00:00, 2134.50it/s]\u001b[A"
     ]
    },
    {
     "name": "stdout",
     "output_type": "stream",
     "text": [
      "[MoviePy] Done.\n",
      "192\n",
      "False\n",
      "\n",
      "[MoviePy] Running:\n",
      ">>> /Users/smlee/Library/Application Support/imageio/ffmpeg/ffmpeg-osx-v3.2.4 -y -i ./yunha.mp4 -ss 955.00 -t 5.00 -vcodec copy -acodec copy ./audio-classification/data/output/192.mp4\n",
      "... command successful.\n",
      "[MoviePy] Writing audio in ./audio-classification/data/output/192.wav\n"
     ]
    },
    {
     "name": "stderr",
     "output_type": "stream",
     "text": [
      "\n",
      "  0%|          | 0/111 [00:00<?, ?it/s]\u001b[A\n",
      "100%|██████████| 111/111 [00:00<00:00, 2397.30it/s]\u001b[A"
     ]
    },
    {
     "name": "stdout",
     "output_type": "stream",
     "text": [
      "[MoviePy] Done.\n",
      "193\n",
      "False\n",
      "\n",
      "[MoviePy] Running:\n",
      ">>> /Users/smlee/Library/Application Support/imageio/ffmpeg/ffmpeg-osx-v3.2.4 -y -i ./yunha.mp4 -ss 960.00 -t 5.00 -vcodec copy -acodec copy ./audio-classification/data/output/193.mp4\n",
      "... command successful.\n",
      "[MoviePy] Writing audio in ./audio-classification/data/output/193.wav\n"
     ]
    },
    {
     "name": "stderr",
     "output_type": "stream",
     "text": [
      "\n",
      "  0%|          | 0/111 [00:00<?, ?it/s]\u001b[A\n",
      "100%|██████████| 111/111 [00:00<00:00, 2573.61it/s]\u001b[A"
     ]
    },
    {
     "name": "stdout",
     "output_type": "stream",
     "text": [
      "[MoviePy] Done.\n",
      "194\n",
      "False\n",
      "\n",
      "[MoviePy] Running:\n",
      ">>> /Users/smlee/Library/Application Support/imageio/ffmpeg/ffmpeg-osx-v3.2.4 -y -i ./yunha.mp4 -ss 965.00 -t 5.00 -vcodec copy -acodec copy ./audio-classification/data/output/194.mp4\n",
      "... command successful.\n",
      "[MoviePy] Writing audio in ./audio-classification/data/output/194.wav\n"
     ]
    },
    {
     "name": "stderr",
     "output_type": "stream",
     "text": [
      "\n",
      "  0%|          | 0/111 [00:00<?, ?it/s]\u001b[A\n",
      "100%|██████████| 111/111 [00:00<00:00, 2166.53it/s]\u001b[A"
     ]
    },
    {
     "name": "stdout",
     "output_type": "stream",
     "text": [
      "[MoviePy] Done.\n",
      "195\n",
      "False\n",
      "\n",
      "[MoviePy] Running:\n",
      ">>> /Users/smlee/Library/Application Support/imageio/ffmpeg/ffmpeg-osx-v3.2.4 -y -i ./yunha.mp4 -ss 970.00 -t 5.00 -vcodec copy -acodec copy ./audio-classification/data/output/195.mp4\n",
      "... command successful.\n",
      "[MoviePy] Writing audio in ./audio-classification/data/output/195.wav\n"
     ]
    },
    {
     "name": "stderr",
     "output_type": "stream",
     "text": [
      "\n",
      "  0%|          | 0/111 [00:00<?, ?it/s]\u001b[A\n",
      "100%|██████████| 111/111 [00:00<00:00, 2361.35it/s]\u001b[A"
     ]
    },
    {
     "name": "stdout",
     "output_type": "stream",
     "text": [
      "[MoviePy] Done.\n",
      "196\n",
      "False\n",
      "\n",
      "[MoviePy] Running:\n",
      ">>> /Users/smlee/Library/Application Support/imageio/ffmpeg/ffmpeg-osx-v3.2.4 -y -i ./yunha.mp4 -ss 975.00 -t 5.00 -vcodec copy -acodec copy ./audio-classification/data/output/196.mp4\n",
      "... command successful.\n",
      "[MoviePy] Writing audio in ./audio-classification/data/output/196.wav\n"
     ]
    },
    {
     "name": "stderr",
     "output_type": "stream",
     "text": [
      "\n",
      "  0%|          | 0/111 [00:00<?, ?it/s]\u001b[A\n",
      "100%|██████████| 111/111 [00:00<00:00, 2350.20it/s]\u001b[A"
     ]
    },
    {
     "name": "stdout",
     "output_type": "stream",
     "text": [
      "[MoviePy] Done.\n",
      "197\n",
      "False\n",
      "\n",
      "[MoviePy] Running:\n",
      ">>> /Users/smlee/Library/Application Support/imageio/ffmpeg/ffmpeg-osx-v3.2.4 -y -i ./yunha.mp4 -ss 980.00 -t 5.00 -vcodec copy -acodec copy ./audio-classification/data/output/197.mp4\n",
      "... command successful.\n",
      "[MoviePy] Writing audio in ./audio-classification/data/output/197.wav\n"
     ]
    },
    {
     "name": "stderr",
     "output_type": "stream",
     "text": [
      "\n",
      "  0%|          | 0/111 [00:00<?, ?it/s]\u001b[A\n",
      "100%|██████████| 111/111 [00:00<00:00, 2363.77it/s]\u001b[A"
     ]
    },
    {
     "name": "stdout",
     "output_type": "stream",
     "text": [
      "[MoviePy] Done.\n",
      "198\n",
      "False\n",
      "\n",
      "[MoviePy] Running:\n",
      ">>> /Users/smlee/Library/Application Support/imageio/ffmpeg/ffmpeg-osx-v3.2.4 -y -i ./yunha.mp4 -ss 985.00 -t 5.00 -vcodec copy -acodec copy ./audio-classification/data/output/198.mp4\n",
      "... command successful.\n",
      "[MoviePy] Writing audio in ./audio-classification/data/output/198.wav\n"
     ]
    },
    {
     "name": "stderr",
     "output_type": "stream",
     "text": [
      "\n",
      "  0%|          | 0/111 [00:00<?, ?it/s]\u001b[A\n",
      "100%|██████████| 111/111 [00:00<00:00, 2280.34it/s]\u001b[A"
     ]
    },
    {
     "name": "stdout",
     "output_type": "stream",
     "text": [
      "[MoviePy] Done.\n",
      "199\n",
      "False\n",
      "\n",
      "[MoviePy] Running:\n",
      ">>> /Users/smlee/Library/Application Support/imageio/ffmpeg/ffmpeg-osx-v3.2.4 -y -i ./yunha.mp4 -ss 990.00 -t 5.00 -vcodec copy -acodec copy ./audio-classification/data/output/199.mp4\n",
      "... command successful.\n",
      "[MoviePy] Writing audio in ./audio-classification/data/output/199.wav\n"
     ]
    },
    {
     "name": "stderr",
     "output_type": "stream",
     "text": [
      "\n",
      "  0%|          | 0/111 [00:00<?, ?it/s]\u001b[A\n",
      "100%|██████████| 111/111 [00:00<00:00, 2589.11it/s]\u001b[A"
     ]
    },
    {
     "name": "stdout",
     "output_type": "stream",
     "text": [
      "[MoviePy] Done.\n",
      "200\n",
      "False\n",
      "\n",
      "[MoviePy] Running:\n",
      ">>> /Users/smlee/Library/Application Support/imageio/ffmpeg/ffmpeg-osx-v3.2.4 -y -i ./yunha.mp4 -ss 995.00 -t 5.00 -vcodec copy -acodec copy ./audio-classification/data/output/200.mp4\n",
      "... command successful.\n",
      "[MoviePy] Writing audio in ./audio-classification/data/output/200.wav\n"
     ]
    },
    {
     "name": "stderr",
     "output_type": "stream",
     "text": [
      "\n",
      "  0%|          | 0/111 [00:00<?, ?it/s]\u001b[A\n",
      "100%|██████████| 111/111 [00:00<00:00, 2325.87it/s]\u001b[A"
     ]
    },
    {
     "name": "stdout",
     "output_type": "stream",
     "text": [
      "[MoviePy] Done.\n",
      "201\n",
      "False\n",
      "\n",
      "[MoviePy] Running:\n",
      ">>> /Users/smlee/Library/Application Support/imageio/ffmpeg/ffmpeg-osx-v3.2.4 -y -i ./yunha.mp4 -ss 1000.00 -t 5.00 -vcodec copy -acodec copy ./audio-classification/data/output/201.mp4\n",
      "... command successful.\n",
      "[MoviePy] Writing audio in ./audio-classification/data/output/201.wav\n"
     ]
    },
    {
     "name": "stderr",
     "output_type": "stream",
     "text": [
      "\n",
      "  0%|          | 0/111 [00:00<?, ?it/s]\u001b[A\n",
      "100%|██████████| 111/111 [00:00<00:00, 2319.17it/s]\u001b[A"
     ]
    },
    {
     "name": "stdout",
     "output_type": "stream",
     "text": [
      "[MoviePy] Done.\n",
      "202\n",
      "False\n",
      "\n",
      "[MoviePy] Running:\n",
      ">>> /Users/smlee/Library/Application Support/imageio/ffmpeg/ffmpeg-osx-v3.2.4 -y -i ./yunha.mp4 -ss 1005.00 -t 5.00 -vcodec copy -acodec copy ./audio-classification/data/output/202.mp4\n",
      "... command successful.\n",
      "[MoviePy] Writing audio in ./audio-classification/data/output/202.wav\n"
     ]
    },
    {
     "name": "stderr",
     "output_type": "stream",
     "text": [
      "\n",
      "  0%|          | 0/111 [00:00<?, ?it/s]\u001b[A\n",
      "100%|██████████| 111/111 [00:00<00:00, 2011.38it/s]\u001b[A"
     ]
    },
    {
     "name": "stdout",
     "output_type": "stream",
     "text": [
      "[MoviePy] Done.\n",
      "203\n",
      "False\n",
      "\n",
      "[MoviePy] Running:\n",
      ">>> /Users/smlee/Library/Application Support/imageio/ffmpeg/ffmpeg-osx-v3.2.4 -y -i ./yunha.mp4 -ss 1010.00 -t 5.00 -vcodec copy -acodec copy ./audio-classification/data/output/203.mp4\n",
      "... command successful.\n",
      "[MoviePy] Writing audio in ./audio-classification/data/output/203.wav\n"
     ]
    },
    {
     "name": "stderr",
     "output_type": "stream",
     "text": [
      "\n",
      "  0%|          | 0/111 [00:00<?, ?it/s]\u001b[A\n",
      "100%|██████████| 111/111 [00:00<00:00, 2344.14it/s]\u001b[A"
     ]
    },
    {
     "name": "stdout",
     "output_type": "stream",
     "text": [
      "[MoviePy] Done.\n",
      "204\n",
      "False\n",
      "\n",
      "[MoviePy] Running:\n",
      ">>> /Users/smlee/Library/Application Support/imageio/ffmpeg/ffmpeg-osx-v3.2.4 -y -i ./yunha.mp4 -ss 1015.00 -t 5.00 -vcodec copy -acodec copy ./audio-classification/data/output/204.mp4\n",
      "... command successful.\n",
      "[MoviePy] Writing audio in ./audio-classification/data/output/204.wav\n"
     ]
    },
    {
     "name": "stderr",
     "output_type": "stream",
     "text": [
      "\n",
      "  0%|          | 0/111 [00:00<?, ?it/s]\u001b[A\n",
      "100%|██████████| 111/111 [00:00<00:00, 2606.37it/s]\u001b[A"
     ]
    },
    {
     "name": "stdout",
     "output_type": "stream",
     "text": [
      "[MoviePy] Done.\n",
      "205\n",
      "False\n",
      "\n",
      "[MoviePy] Running:\n",
      ">>> /Users/smlee/Library/Application Support/imageio/ffmpeg/ffmpeg-osx-v3.2.4 -y -i ./yunha.mp4 -ss 1020.00 -t 5.00 -vcodec copy -acodec copy ./audio-classification/data/output/205.mp4\n",
      "... command successful.\n",
      "[MoviePy] Writing audio in ./audio-classification/data/output/205.wav\n"
     ]
    },
    {
     "name": "stderr",
     "output_type": "stream",
     "text": [
      "\n",
      "  0%|          | 0/111 [00:00<?, ?it/s]\u001b[A\n",
      "100%|██████████| 111/111 [00:00<00:00, 2406.66it/s]\u001b[A"
     ]
    },
    {
     "name": "stdout",
     "output_type": "stream",
     "text": [
      "[MoviePy] Done.\n",
      "206\n",
      "False\n",
      "\n",
      "[MoviePy] Running:\n",
      ">>> /Users/smlee/Library/Application Support/imageio/ffmpeg/ffmpeg-osx-v3.2.4 -y -i ./yunha.mp4 -ss 1025.00 -t 5.00 -vcodec copy -acodec copy ./audio-classification/data/output/206.mp4\n",
      "... command successful.\n",
      "[MoviePy] Writing audio in ./audio-classification/data/output/206.wav\n"
     ]
    },
    {
     "name": "stderr",
     "output_type": "stream",
     "text": [
      "\n",
      "  0%|          | 0/111 [00:00<?, ?it/s]\u001b[A\n",
      "100%|██████████| 111/111 [00:00<00:00, 2505.81it/s]\u001b[A"
     ]
    },
    {
     "name": "stdout",
     "output_type": "stream",
     "text": [
      "[MoviePy] Done.\n",
      "207\n",
      "False\n",
      "\n",
      "[MoviePy] Running:\n",
      ">>> /Users/smlee/Library/Application Support/imageio/ffmpeg/ffmpeg-osx-v3.2.4 -y -i ./yunha.mp4 -ss 1030.00 -t 5.00 -vcodec copy -acodec copy ./audio-classification/data/output/207.mp4\n",
      "... command successful.\n",
      "[MoviePy] Writing audio in ./audio-classification/data/output/207.wav\n"
     ]
    },
    {
     "name": "stderr",
     "output_type": "stream",
     "text": [
      "\n",
      "  0%|          | 0/111 [00:00<?, ?it/s]\u001b[A\n",
      "100%|██████████| 111/111 [00:00<00:00, 2540.28it/s]\u001b[A"
     ]
    },
    {
     "name": "stdout",
     "output_type": "stream",
     "text": [
      "[MoviePy] Done.\n",
      "208\n",
      "False\n",
      "\n",
      "[MoviePy] Running:\n",
      ">>> /Users/smlee/Library/Application Support/imageio/ffmpeg/ffmpeg-osx-v3.2.4 -y -i ./yunha.mp4 -ss 1035.00 -t 5.00 -vcodec copy -acodec copy ./audio-classification/data/output/208.mp4\n",
      "... command successful.\n",
      "[MoviePy] Writing audio in ./audio-classification/data/output/208.wav\n"
     ]
    },
    {
     "name": "stderr",
     "output_type": "stream",
     "text": [
      "\n",
      "  0%|          | 0/111 [00:00<?, ?it/s]\u001b[A\n",
      "100%|██████████| 111/111 [00:00<00:00, 2222.27it/s]\u001b[A"
     ]
    },
    {
     "name": "stdout",
     "output_type": "stream",
     "text": [
      "[MoviePy] Done.\n",
      "209\n",
      "False\n",
      "\n",
      "[MoviePy] Running:\n",
      ">>> /Users/smlee/Library/Application Support/imageio/ffmpeg/ffmpeg-osx-v3.2.4 -y -i ./yunha.mp4 -ss 1040.00 -t 5.00 -vcodec copy -acodec copy ./audio-classification/data/output/209.mp4\n",
      "... command successful.\n",
      "[MoviePy] Writing audio in ./audio-classification/data/output/209.wav\n"
     ]
    },
    {
     "name": "stderr",
     "output_type": "stream",
     "text": [
      "\n",
      "  0%|          | 0/111 [00:00<?, ?it/s]\u001b[A\n",
      "100%|██████████| 111/111 [00:00<00:00, 2517.86it/s]\u001b[A"
     ]
    },
    {
     "name": "stdout",
     "output_type": "stream",
     "text": [
      "[MoviePy] Done.\n",
      "210\n",
      "False\n",
      "\n",
      "[MoviePy] Running:\n",
      ">>> /Users/smlee/Library/Application Support/imageio/ffmpeg/ffmpeg-osx-v3.2.4 -y -i ./yunha.mp4 -ss 1045.00 -t 5.00 -vcodec copy -acodec copy ./audio-classification/data/output/210.mp4\n",
      "... command successful.\n",
      "[MoviePy] Writing audio in ./audio-classification/data/output/210.wav\n"
     ]
    },
    {
     "name": "stderr",
     "output_type": "stream",
     "text": [
      "\n",
      "  0%|          | 0/111 [00:00<?, ?it/s]\u001b[A\n",
      "100%|██████████| 111/111 [00:00<00:00, 2501.36it/s]\u001b[A"
     ]
    },
    {
     "name": "stdout",
     "output_type": "stream",
     "text": [
      "[MoviePy] Done.\n",
      "211\n",
      "False\n",
      "\n",
      "[MoviePy] Running:\n",
      ">>> /Users/smlee/Library/Application Support/imageio/ffmpeg/ffmpeg-osx-v3.2.4 -y -i ./yunha.mp4 -ss 1050.00 -t 5.00 -vcodec copy -acodec copy ./audio-classification/data/output/211.mp4\n",
      "... command successful.\n",
      "[MoviePy] Writing audio in ./audio-classification/data/output/211.wav\n"
     ]
    },
    {
     "name": "stderr",
     "output_type": "stream",
     "text": [
      "\n",
      "  0%|          | 0/111 [00:00<?, ?it/s]\u001b[A\n",
      "100%|██████████| 111/111 [00:00<00:00, 2124.15it/s]\u001b[A"
     ]
    },
    {
     "name": "stdout",
     "output_type": "stream",
     "text": [
      "[MoviePy] Done.\n",
      "212\n",
      "False\n",
      "\n",
      "[MoviePy] Running:\n",
      ">>> /Users/smlee/Library/Application Support/imageio/ffmpeg/ffmpeg-osx-v3.2.4 -y -i ./yunha.mp4 -ss 1055.00 -t 5.00 -vcodec copy -acodec copy ./audio-classification/data/output/212.mp4\n",
      "... command successful.\n",
      "[MoviePy] Writing audio in ./audio-classification/data/output/212.wav\n"
     ]
    },
    {
     "name": "stderr",
     "output_type": "stream",
     "text": [
      "\n",
      "  0%|          | 0/111 [00:00<?, ?it/s]\u001b[A\n",
      "100%|██████████| 111/111 [00:00<00:00, 2238.94it/s]\u001b[A"
     ]
    },
    {
     "name": "stdout",
     "output_type": "stream",
     "text": [
      "[MoviePy] Done.\n",
      "213\n",
      "False\n",
      "\n",
      "[MoviePy] Running:\n",
      ">>> /Users/smlee/Library/Application Support/imageio/ffmpeg/ffmpeg-osx-v3.2.4 -y -i ./yunha.mp4 -ss 1060.00 -t 5.00 -vcodec copy -acodec copy ./audio-classification/data/output/213.mp4\n",
      "... command successful.\n",
      "[MoviePy] Writing audio in ./audio-classification/data/output/213.wav\n"
     ]
    },
    {
     "name": "stderr",
     "output_type": "stream",
     "text": [
      "\n",
      "  0%|          | 0/111 [00:00<?, ?it/s]\u001b[A\n",
      "100%|██████████| 111/111 [00:00<00:00, 2189.14it/s]\u001b[A"
     ]
    },
    {
     "name": "stdout",
     "output_type": "stream",
     "text": [
      "[MoviePy] Done.\n",
      "214\n",
      "False\n",
      "\n",
      "[MoviePy] Running:\n",
      ">>> /Users/smlee/Library/Application Support/imageio/ffmpeg/ffmpeg-osx-v3.2.4 -y -i ./yunha.mp4 -ss 1065.00 -t 5.00 -vcodec copy -acodec copy ./audio-classification/data/output/214.mp4\n",
      "... command successful.\n",
      "[MoviePy] Writing audio in ./audio-classification/data/output/214.wav\n"
     ]
    },
    {
     "name": "stderr",
     "output_type": "stream",
     "text": [
      "\n",
      "  0%|          | 0/111 [00:00<?, ?it/s]\u001b[A\n",
      "100%|██████████| 111/111 [00:00<00:00, 2466.06it/s]\u001b[A"
     ]
    },
    {
     "name": "stdout",
     "output_type": "stream",
     "text": [
      "[MoviePy] Done.\n",
      "215\n",
      "False\n",
      "\n",
      "[MoviePy] Running:\n",
      ">>> /Users/smlee/Library/Application Support/imageio/ffmpeg/ffmpeg-osx-v3.2.4 -y -i ./yunha.mp4 -ss 1070.00 -t 5.00 -vcodec copy -acodec copy ./audio-classification/data/output/215.mp4\n",
      "... command successful.\n",
      "[MoviePy] Writing audio in ./audio-classification/data/output/215.wav\n"
     ]
    },
    {
     "name": "stderr",
     "output_type": "stream",
     "text": [
      "\n",
      "  0%|          | 0/111 [00:00<?, ?it/s]\u001b[A\n",
      "100%|██████████| 111/111 [00:00<00:00, 2349.11it/s]\u001b[A"
     ]
    },
    {
     "name": "stdout",
     "output_type": "stream",
     "text": [
      "[MoviePy] Done.\n",
      "216\n",
      "False\n",
      "\n",
      "[MoviePy] Running:\n",
      ">>> /Users/smlee/Library/Application Support/imageio/ffmpeg/ffmpeg-osx-v3.2.4 -y -i ./yunha.mp4 -ss 1075.00 -t 5.00 -vcodec copy -acodec copy ./audio-classification/data/output/216.mp4\n",
      "... command successful.\n",
      "[MoviePy] Writing audio in ./audio-classification/data/output/216.wav\n"
     ]
    },
    {
     "name": "stderr",
     "output_type": "stream",
     "text": [
      "\n",
      "  0%|          | 0/111 [00:00<?, ?it/s]\u001b[A\n",
      "100%|██████████| 111/111 [00:00<00:00, 2462.40it/s]\u001b[A"
     ]
    },
    {
     "name": "stdout",
     "output_type": "stream",
     "text": [
      "[MoviePy] Done.\n",
      "217\n",
      "False\n",
      "\n",
      "[MoviePy] Running:\n",
      ">>> /Users/smlee/Library/Application Support/imageio/ffmpeg/ffmpeg-osx-v3.2.4 -y -i ./yunha.mp4 -ss 1080.00 -t 5.00 -vcodec copy -acodec copy ./audio-classification/data/output/217.mp4\n",
      "... command successful.\n",
      "[MoviePy] Writing audio in ./audio-classification/data/output/217.wav\n"
     ]
    },
    {
     "name": "stderr",
     "output_type": "stream",
     "text": [
      "\n",
      "  0%|          | 0/111 [00:00<?, ?it/s]\u001b[A\n",
      "100%|██████████| 111/111 [00:00<00:00, 2295.23it/s]\u001b[A"
     ]
    },
    {
     "name": "stdout",
     "output_type": "stream",
     "text": [
      "[MoviePy] Done.\n",
      "218\n",
      "False\n",
      "\n",
      "[MoviePy] Running:\n",
      ">>> /Users/smlee/Library/Application Support/imageio/ffmpeg/ffmpeg-osx-v3.2.4 -y -i ./yunha.mp4 -ss 1085.00 -t 5.00 -vcodec copy -acodec copy ./audio-classification/data/output/218.mp4\n",
      "... command successful.\n",
      "[MoviePy] Writing audio in ./audio-classification/data/output/218.wav\n"
     ]
    },
    {
     "name": "stderr",
     "output_type": "stream",
     "text": [
      "\n",
      "  0%|          | 0/111 [00:00<?, ?it/s]\u001b[A\n",
      "100%|██████████| 111/111 [00:00<00:00, 2263.14it/s]\u001b[A"
     ]
    },
    {
     "name": "stdout",
     "output_type": "stream",
     "text": [
      "[MoviePy] Done.\n",
      "219\n",
      "False\n",
      "\n",
      "[MoviePy] Running:\n",
      ">>> /Users/smlee/Library/Application Support/imageio/ffmpeg/ffmpeg-osx-v3.2.4 -y -i ./yunha.mp4 -ss 1090.00 -t 5.00 -vcodec copy -acodec copy ./audio-classification/data/output/219.mp4\n",
      "... command successful.\n",
      "[MoviePy] Writing audio in ./audio-classification/data/output/219.wav\n"
     ]
    },
    {
     "name": "stderr",
     "output_type": "stream",
     "text": [
      "\n",
      "  0%|          | 0/111 [00:00<?, ?it/s]\u001b[A\n",
      "100%|██████████| 111/111 [00:00<00:00, 2082.01it/s]\u001b[A"
     ]
    },
    {
     "name": "stdout",
     "output_type": "stream",
     "text": [
      "[MoviePy] Done.\n",
      "220\n",
      "False\n",
      "\n",
      "[MoviePy] Running:\n",
      ">>> /Users/smlee/Library/Application Support/imageio/ffmpeg/ffmpeg-osx-v3.2.4 -y -i ./yunha.mp4 -ss 1095.00 -t 5.00 -vcodec copy -acodec copy ./audio-classification/data/output/220.mp4\n",
      "... command successful.\n",
      "[MoviePy] Writing audio in ./audio-classification/data/output/220.wav\n"
     ]
    },
    {
     "name": "stderr",
     "output_type": "stream",
     "text": [
      "\n",
      "  0%|          | 0/111 [00:00<?, ?it/s]\u001b[A\n",
      "100%|██████████| 111/111 [00:00<00:00, 2202.99it/s]\u001b[A"
     ]
    },
    {
     "name": "stdout",
     "output_type": "stream",
     "text": [
      "[MoviePy] Done.\n",
      "221\n",
      "False\n",
      "\n",
      "[MoviePy] Running:\n",
      ">>> /Users/smlee/Library/Application Support/imageio/ffmpeg/ffmpeg-osx-v3.2.4 -y -i ./yunha.mp4 -ss 1100.00 -t 5.00 -vcodec copy -acodec copy ./audio-classification/data/output/221.mp4\n",
      "... command successful.\n",
      "[MoviePy] Writing audio in ./audio-classification/data/output/221.wav\n"
     ]
    },
    {
     "name": "stderr",
     "output_type": "stream",
     "text": [
      "\n",
      "  0%|          | 0/111 [00:00<?, ?it/s]\u001b[A\n",
      "100%|██████████| 111/111 [00:00<00:00, 2210.49it/s]\u001b[A"
     ]
    },
    {
     "name": "stdout",
     "output_type": "stream",
     "text": [
      "[MoviePy] Done.\n",
      "222\n",
      "False\n",
      "\n",
      "[MoviePy] Running:\n",
      ">>> /Users/smlee/Library/Application Support/imageio/ffmpeg/ffmpeg-osx-v3.2.4 -y -i ./yunha.mp4 -ss 1105.00 -t 5.00 -vcodec copy -acodec copy ./audio-classification/data/output/222.mp4\n",
      "... command successful.\n",
      "[MoviePy] Writing audio in ./audio-classification/data/output/222.wav\n"
     ]
    },
    {
     "name": "stderr",
     "output_type": "stream",
     "text": [
      "\n",
      "  0%|          | 0/111 [00:00<?, ?it/s]\u001b[A\n",
      "100%|██████████| 111/111 [00:00<00:00, 2294.71it/s]\u001b[A"
     ]
    },
    {
     "name": "stdout",
     "output_type": "stream",
     "text": [
      "[MoviePy] Done.\n",
      "223\n",
      "False\n",
      "\n",
      "[MoviePy] Running:\n",
      ">>> /Users/smlee/Library/Application Support/imageio/ffmpeg/ffmpeg-osx-v3.2.4 -y -i ./yunha.mp4 -ss 1110.00 -t 5.00 -vcodec copy -acodec copy ./audio-classification/data/output/223.mp4\n",
      "... command successful.\n",
      "[MoviePy] Writing audio in ./audio-classification/data/output/223.wav\n"
     ]
    },
    {
     "name": "stderr",
     "output_type": "stream",
     "text": [
      "\n",
      "  0%|          | 0/111 [00:00<?, ?it/s]\u001b[A\n",
      "100%|██████████| 111/111 [00:00<00:00, 2419.56it/s]\u001b[A"
     ]
    },
    {
     "name": "stdout",
     "output_type": "stream",
     "text": [
      "[MoviePy] Done.\n",
      "224\n",
      "False\n",
      "\n",
      "[MoviePy] Running:\n",
      ">>> /Users/smlee/Library/Application Support/imageio/ffmpeg/ffmpeg-osx-v3.2.4 -y -i ./yunha.mp4 -ss 1115.00 -t 5.00 -vcodec copy -acodec copy ./audio-classification/data/output/224.mp4\n",
      "... command successful.\n",
      "[MoviePy] Writing audio in ./audio-classification/data/output/224.wav\n"
     ]
    },
    {
     "name": "stderr",
     "output_type": "stream",
     "text": [
      "\n",
      "  0%|          | 0/111 [00:00<?, ?it/s]\u001b[A\n",
      "100%|██████████| 111/111 [00:00<00:00, 2527.90it/s]\u001b[A"
     ]
    },
    {
     "name": "stdout",
     "output_type": "stream",
     "text": [
      "[MoviePy] Done.\n",
      "225\n",
      "False\n",
      "\n",
      "[MoviePy] Running:\n",
      ">>> /Users/smlee/Library/Application Support/imageio/ffmpeg/ffmpeg-osx-v3.2.4 -y -i ./yunha.mp4 -ss 1120.00 -t 5.00 -vcodec copy -acodec copy ./audio-classification/data/output/225.mp4\n",
      "... command successful.\n",
      "[MoviePy] Writing audio in ./audio-classification/data/output/225.wav\n"
     ]
    },
    {
     "name": "stderr",
     "output_type": "stream",
     "text": [
      "\n",
      "  0%|          | 0/111 [00:00<?, ?it/s]\u001b[A\n",
      "100%|██████████| 111/111 [00:00<00:00, 2474.58it/s]\u001b[A"
     ]
    },
    {
     "name": "stdout",
     "output_type": "stream",
     "text": [
      "[MoviePy] Done.\n",
      "226\n",
      "False\n",
      "\n",
      "[MoviePy] Running:\n",
      ">>> /Users/smlee/Library/Application Support/imageio/ffmpeg/ffmpeg-osx-v3.2.4 -y -i ./yunha.mp4 -ss 1125.00 -t 5.00 -vcodec copy -acodec copy ./audio-classification/data/output/226.mp4\n",
      "... command successful.\n",
      "[MoviePy] Writing audio in ./audio-classification/data/output/226.wav\n"
     ]
    },
    {
     "name": "stderr",
     "output_type": "stream",
     "text": [
      "\n",
      "  0%|          | 0/111 [00:00<?, ?it/s]\u001b[A\n",
      "100%|██████████| 111/111 [00:00<00:00, 2418.92it/s]\u001b[A"
     ]
    },
    {
     "name": "stdout",
     "output_type": "stream",
     "text": [
      "[MoviePy] Done.\n",
      "227\n",
      "False\n",
      "\n",
      "[MoviePy] Running:\n",
      ">>> /Users/smlee/Library/Application Support/imageio/ffmpeg/ffmpeg-osx-v3.2.4 -y -i ./yunha.mp4 -ss 1130.00 -t 5.00 -vcodec copy -acodec copy ./audio-classification/data/output/227.mp4\n",
      "... command successful.\n",
      "[MoviePy] Writing audio in ./audio-classification/data/output/227.wav\n"
     ]
    },
    {
     "name": "stderr",
     "output_type": "stream",
     "text": [
      "\n",
      "  0%|          | 0/111 [00:00<?, ?it/s]\u001b[A\n",
      "100%|██████████| 111/111 [00:00<00:00, 2208.07it/s]\u001b[A"
     ]
    },
    {
     "name": "stdout",
     "output_type": "stream",
     "text": [
      "[MoviePy] Done.\n",
      "228\n",
      "False\n",
      "\n",
      "[MoviePy] Running:\n",
      ">>> /Users/smlee/Library/Application Support/imageio/ffmpeg/ffmpeg-osx-v3.2.4 -y -i ./yunha.mp4 -ss 1135.00 -t 5.00 -vcodec copy -acodec copy ./audio-classification/data/output/228.mp4\n",
      "... command successful.\n",
      "[MoviePy] Writing audio in ./audio-classification/data/output/228.wav\n"
     ]
    },
    {
     "name": "stderr",
     "output_type": "stream",
     "text": [
      "\n",
      "  0%|          | 0/111 [00:00<?, ?it/s]\u001b[A\n",
      "100%|██████████| 111/111 [00:00<00:00, 2405.30it/s]\u001b[A"
     ]
    },
    {
     "name": "stdout",
     "output_type": "stream",
     "text": [
      "[MoviePy] Done.\n",
      "229\n",
      "False\n",
      "\n",
      "[MoviePy] Running:\n",
      ">>> /Users/smlee/Library/Application Support/imageio/ffmpeg/ffmpeg-osx-v3.2.4 -y -i ./yunha.mp4 -ss 1140.00 -t 5.00 -vcodec copy -acodec copy ./audio-classification/data/output/229.mp4\n",
      "... command successful.\n",
      "[MoviePy] Writing audio in ./audio-classification/data/output/229.wav\n"
     ]
    },
    {
     "name": "stderr",
     "output_type": "stream",
     "text": [
      "\n",
      "  0%|          | 0/111 [00:00<?, ?it/s]\u001b[A\n",
      "100%|██████████| 111/111 [00:00<00:00, 2490.75it/s]\u001b[A"
     ]
    },
    {
     "name": "stdout",
     "output_type": "stream",
     "text": [
      "[MoviePy] Done.\n",
      "230\n",
      "False\n",
      "\n",
      "[MoviePy] Running:\n",
      ">>> /Users/smlee/Library/Application Support/imageio/ffmpeg/ffmpeg-osx-v3.2.4 -y -i ./yunha.mp4 -ss 1145.00 -t 5.00 -vcodec copy -acodec copy ./audio-classification/data/output/230.mp4\n",
      "... command successful.\n",
      "[MoviePy] Writing audio in ./audio-classification/data/output/230.wav\n"
     ]
    },
    {
     "name": "stderr",
     "output_type": "stream",
     "text": [
      "\n",
      "  0%|          | 0/111 [00:00<?, ?it/s]\u001b[A\n",
      "100%|██████████| 111/111 [00:00<00:00, 2185.90it/s]\u001b[A"
     ]
    },
    {
     "name": "stdout",
     "output_type": "stream",
     "text": [
      "[MoviePy] Done.\n",
      "231\n",
      "False\n",
      "\n",
      "[MoviePy] Running:\n",
      ">>> /Users/smlee/Library/Application Support/imageio/ffmpeg/ffmpeg-osx-v3.2.4 -y -i ./yunha.mp4 -ss 1150.00 -t 5.00 -vcodec copy -acodec copy ./audio-classification/data/output/231.mp4\n",
      "... command successful.\n",
      "[MoviePy] Writing audio in ./audio-classification/data/output/231.wav\n"
     ]
    },
    {
     "name": "stderr",
     "output_type": "stream",
     "text": [
      "\n",
      "  0%|          | 0/111 [00:00<?, ?it/s]\u001b[A\n",
      " 32%|███▏      | 35/111 [00:00<00:00, 277.37it/s]\u001b[A\n",
      "100%|██████████| 111/111 [00:00<00:00, 720.22it/s]\u001b[A"
     ]
    },
    {
     "name": "stdout",
     "output_type": "stream",
     "text": [
      "[MoviePy] Done.\n",
      "232\n",
      "False\n",
      "\n",
      "[MoviePy] Running:\n",
      ">>> /Users/smlee/Library/Application Support/imageio/ffmpeg/ffmpeg-osx-v3.2.4 -y -i ./yunha.mp4 -ss 1155.00 -t 5.00 -vcodec copy -acodec copy ./audio-classification/data/output/232.mp4\n",
      "... command successful.\n",
      "[MoviePy] Writing audio in ./audio-classification/data/output/232.wav\n"
     ]
    },
    {
     "name": "stderr",
     "output_type": "stream",
     "text": [
      "\n",
      "  0%|          | 0/111 [00:00<?, ?it/s]\u001b[A\n",
      "100%|██████████| 111/111 [00:00<00:00, 2278.79it/s]\u001b[A"
     ]
    },
    {
     "name": "stdout",
     "output_type": "stream",
     "text": [
      "[MoviePy] Done.\n",
      "233\n",
      "False\n",
      "\n",
      "[MoviePy] Running:\n",
      ">>> /Users/smlee/Library/Application Support/imageio/ffmpeg/ffmpeg-osx-v3.2.4 -y -i ./yunha.mp4 -ss 1160.00 -t 5.00 -vcodec copy -acodec copy ./audio-classification/data/output/233.mp4\n",
      "... command successful.\n",
      "[MoviePy] Writing audio in ./audio-classification/data/output/233.wav\n"
     ]
    },
    {
     "name": "stderr",
     "output_type": "stream",
     "text": [
      "\n",
      "  0%|          | 0/111 [00:00<?, ?it/s]\u001b[A\n",
      "100%|██████████| 111/111 [00:00<00:00, 2730.97it/s]\u001b[A"
     ]
    },
    {
     "name": "stdout",
     "output_type": "stream",
     "text": [
      "[MoviePy] Done.\n",
      "234\n",
      "False\n",
      "\n",
      "[MoviePy] Running:\n",
      ">>> /Users/smlee/Library/Application Support/imageio/ffmpeg/ffmpeg-osx-v3.2.4 -y -i ./yunha.mp4 -ss 1165.00 -t 5.00 -vcodec copy -acodec copy ./audio-classification/data/output/234.mp4\n",
      "... command successful.\n",
      "[MoviePy] Writing audio in ./audio-classification/data/output/234.wav\n"
     ]
    },
    {
     "name": "stderr",
     "output_type": "stream",
     "text": [
      "\n",
      "  0%|          | 0/111 [00:00<?, ?it/s]\u001b[A\n",
      "100%|██████████| 111/111 [00:00<00:00, 2549.44it/s]\u001b[A"
     ]
    },
    {
     "name": "stdout",
     "output_type": "stream",
     "text": [
      "[MoviePy] Done.\n",
      "235\n",
      "False\n",
      "\n",
      "[MoviePy] Running:\n",
      ">>> /Users/smlee/Library/Application Support/imageio/ffmpeg/ffmpeg-osx-v3.2.4 -y -i ./yunha.mp4 -ss 1170.00 -t 5.00 -vcodec copy -acodec copy ./audio-classification/data/output/235.mp4\n",
      "... command successful.\n",
      "[MoviePy] Writing audio in ./audio-classification/data/output/235.wav\n"
     ]
    },
    {
     "name": "stderr",
     "output_type": "stream",
     "text": [
      "\n",
      "  0%|          | 0/111 [00:00<?, ?it/s]\u001b[A\n",
      "100%|██████████| 111/111 [00:00<00:00, 2369.77it/s]\u001b[A"
     ]
    },
    {
     "name": "stdout",
     "output_type": "stream",
     "text": [
      "[MoviePy] Done.\n",
      "236\n",
      "False\n",
      "\n",
      "[MoviePy] Running:\n",
      ">>> /Users/smlee/Library/Application Support/imageio/ffmpeg/ffmpeg-osx-v3.2.4 -y -i ./yunha.mp4 -ss 1175.00 -t 5.00 -vcodec copy -acodec copy ./audio-classification/data/output/236.mp4\n",
      "... command successful.\n",
      "[MoviePy] Writing audio in ./audio-classification/data/output/236.wav\n"
     ]
    },
    {
     "name": "stderr",
     "output_type": "stream",
     "text": [
      "\n",
      "  0%|          | 0/111 [00:00<?, ?it/s]\u001b[A\n",
      "100%|██████████| 111/111 [00:00<00:00, 2245.06it/s]\u001b[A"
     ]
    },
    {
     "name": "stdout",
     "output_type": "stream",
     "text": [
      "[MoviePy] Done.\n",
      "237\n",
      "False\n",
      "\n",
      "[MoviePy] Running:\n",
      ">>> /Users/smlee/Library/Application Support/imageio/ffmpeg/ffmpeg-osx-v3.2.4 -y -i ./yunha.mp4 -ss 1180.00 -t 5.00 -vcodec copy -acodec copy ./audio-classification/data/output/237.mp4\n",
      "... command successful.\n",
      "[MoviePy] Writing audio in ./audio-classification/data/output/237.wav\n"
     ]
    },
    {
     "name": "stderr",
     "output_type": "stream",
     "text": [
      "\n",
      "  0%|          | 0/111 [00:00<?, ?it/s]\u001b[A\n",
      "100%|██████████| 111/111 [00:00<00:00, 2104.38it/s]\u001b[A"
     ]
    },
    {
     "name": "stdout",
     "output_type": "stream",
     "text": [
      "[MoviePy] Done.\n",
      "238\n",
      "False\n",
      "\n",
      "[MoviePy] Running:\n",
      ">>> /Users/smlee/Library/Application Support/imageio/ffmpeg/ffmpeg-osx-v3.2.4 -y -i ./yunha.mp4 -ss 1185.00 -t 5.00 -vcodec copy -acodec copy ./audio-classification/data/output/238.mp4\n",
      "... command successful.\n",
      "[MoviePy] Writing audio in ./audio-classification/data/output/238.wav\n"
     ]
    },
    {
     "name": "stderr",
     "output_type": "stream",
     "text": [
      "\n",
      "  0%|          | 0/111 [00:00<?, ?it/s]\u001b[A\n",
      "100%|██████████| 111/111 [00:00<00:00, 2495.67it/s]\u001b[A"
     ]
    },
    {
     "name": "stdout",
     "output_type": "stream",
     "text": [
      "[MoviePy] Done.\n",
      "239\n",
      "False\n",
      "\n",
      "[MoviePy] Running:\n",
      ">>> /Users/smlee/Library/Application Support/imageio/ffmpeg/ffmpeg-osx-v3.2.4 -y -i ./yunha.mp4 -ss 1190.00 -t 5.00 -vcodec copy -acodec copy ./audio-classification/data/output/239.mp4\n",
      "... command successful.\n",
      "[MoviePy] Writing audio in ./audio-classification/data/output/239.wav\n"
     ]
    },
    {
     "name": "stderr",
     "output_type": "stream",
     "text": [
      "\n",
      "  0%|          | 0/111 [00:00<?, ?it/s]\u001b[A\n",
      "100%|██████████| 111/111 [00:00<00:00, 2194.88it/s]\u001b[A"
     ]
    },
    {
     "name": "stdout",
     "output_type": "stream",
     "text": [
      "[MoviePy] Done.\n",
      "240\n",
      "False\n",
      "\n",
      "[MoviePy] Running:\n",
      ">>> /Users/smlee/Library/Application Support/imageio/ffmpeg/ffmpeg-osx-v3.2.4 -y -i ./yunha.mp4 -ss 1195.00 -t 5.00 -vcodec copy -acodec copy ./audio-classification/data/output/240.mp4\n",
      "... command successful.\n",
      "[MoviePy] Writing audio in ./audio-classification/data/output/240.wav\n"
     ]
    },
    {
     "name": "stderr",
     "output_type": "stream",
     "text": [
      "\n",
      "  0%|          | 0/111 [00:00<?, ?it/s]\u001b[A\n",
      "100%|██████████| 111/111 [00:00<00:00, 2221.24it/s]\u001b[A"
     ]
    },
    {
     "name": "stdout",
     "output_type": "stream",
     "text": [
      "[MoviePy] Done.\n",
      "241\n",
      "False\n",
      "\n",
      "[MoviePy] Running:\n",
      ">>> /Users/smlee/Library/Application Support/imageio/ffmpeg/ffmpeg-osx-v3.2.4 -y -i ./yunha.mp4 -ss 1200.00 -t 5.00 -vcodec copy -acodec copy ./audio-classification/data/output/241.mp4\n",
      "... command successful.\n",
      "[MoviePy] Writing audio in ./audio-classification/data/output/241.wav\n"
     ]
    },
    {
     "name": "stderr",
     "output_type": "stream",
     "text": [
      "\n",
      "  0%|          | 0/111 [00:00<?, ?it/s]\u001b[A\n",
      "100%|██████████| 111/111 [00:00<00:00, 2487.01it/s]\u001b[A"
     ]
    },
    {
     "name": "stdout",
     "output_type": "stream",
     "text": [
      "[MoviePy] Done.\n",
      "242\n",
      "False\n",
      "\n",
      "[MoviePy] Running:\n",
      ">>> /Users/smlee/Library/Application Support/imageio/ffmpeg/ffmpeg-osx-v3.2.4 -y -i ./yunha.mp4 -ss 1205.00 -t 5.00 -vcodec copy -acodec copy ./audio-classification/data/output/242.mp4\n",
      "... command successful.\n",
      "[MoviePy] Writing audio in ./audio-classification/data/output/242.wav\n"
     ]
    },
    {
     "name": "stderr",
     "output_type": "stream",
     "text": [
      "\n",
      "  0%|          | 0/111 [00:00<?, ?it/s]\u001b[A\n",
      "100%|██████████| 111/111 [00:00<00:00, 2487.55it/s]\u001b[A"
     ]
    },
    {
     "name": "stdout",
     "output_type": "stream",
     "text": [
      "[MoviePy] Done.\n",
      "243\n",
      "False\n",
      "\n",
      "[MoviePy] Running:\n",
      ">>> /Users/smlee/Library/Application Support/imageio/ffmpeg/ffmpeg-osx-v3.2.4 -y -i ./yunha.mp4 -ss 1210.00 -t 5.00 -vcodec copy -acodec copy ./audio-classification/data/output/243.mp4\n",
      "... command successful.\n",
      "[MoviePy] Writing audio in ./audio-classification/data/output/243.wav\n"
     ]
    },
    {
     "name": "stderr",
     "output_type": "stream",
     "text": [
      "\n",
      "  0%|          | 0/111 [00:00<?, ?it/s]\u001b[A\n",
      "100%|██████████| 111/111 [00:00<00:00, 2167.76it/s]\u001b[A"
     ]
    },
    {
     "name": "stdout",
     "output_type": "stream",
     "text": [
      "[MoviePy] Done.\n",
      "244\n",
      "False\n",
      "\n",
      "[MoviePy] Running:\n",
      ">>> /Users/smlee/Library/Application Support/imageio/ffmpeg/ffmpeg-osx-v3.2.4 -y -i ./yunha.mp4 -ss 1215.00 -t 5.00 -vcodec copy -acodec copy ./audio-classification/data/output/244.mp4\n",
      "... command successful.\n",
      "[MoviePy] Writing audio in ./audio-classification/data/output/244.wav\n"
     ]
    },
    {
     "name": "stderr",
     "output_type": "stream",
     "text": [
      "\n",
      "  0%|          | 0/111 [00:00<?, ?it/s]\u001b[A\n",
      "100%|██████████| 111/111 [00:00<00:00, 2637.84it/s]\u001b[A"
     ]
    },
    {
     "name": "stdout",
     "output_type": "stream",
     "text": [
      "[MoviePy] Done.\n",
      "245\n",
      "False\n",
      "\n",
      "[MoviePy] Running:\n",
      ">>> /Users/smlee/Library/Application Support/imageio/ffmpeg/ffmpeg-osx-v3.2.4 -y -i ./yunha.mp4 -ss 1220.00 -t 5.00 -vcodec copy -acodec copy ./audio-classification/data/output/245.mp4\n",
      "... command successful.\n",
      "[MoviePy] Writing audio in ./audio-classification/data/output/245.wav\n"
     ]
    },
    {
     "name": "stderr",
     "output_type": "stream",
     "text": [
      "\n",
      "  0%|          | 0/111 [00:00<?, ?it/s]\u001b[A\n",
      "100%|██████████| 111/111 [00:00<00:00, 2194.68it/s]\u001b[A"
     ]
    },
    {
     "name": "stdout",
     "output_type": "stream",
     "text": [
      "[MoviePy] Done.\n",
      "246\n",
      "False\n",
      "\n",
      "[MoviePy] Running:\n",
      ">>> /Users/smlee/Library/Application Support/imageio/ffmpeg/ffmpeg-osx-v3.2.4 -y -i ./yunha.mp4 -ss 1225.00 -t 5.00 -vcodec copy -acodec copy ./audio-classification/data/output/246.mp4\n",
      "... command successful.\n",
      "[MoviePy] Writing audio in ./audio-classification/data/output/246.wav\n"
     ]
    },
    {
     "name": "stderr",
     "output_type": "stream",
     "text": [
      "\n",
      "  0%|          | 0/111 [00:00<?, ?it/s]\u001b[A\n",
      "100%|██████████| 111/111 [00:00<00:00, 2368.55it/s]\u001b[A"
     ]
    },
    {
     "name": "stdout",
     "output_type": "stream",
     "text": [
      "[MoviePy] Done.\n",
      "247\n",
      "False\n",
      "\n",
      "[MoviePy] Running:\n",
      ">>> /Users/smlee/Library/Application Support/imageio/ffmpeg/ffmpeg-osx-v3.2.4 -y -i ./yunha.mp4 -ss 1230.00 -t 5.00 -vcodec copy -acodec copy ./audio-classification/data/output/247.mp4\n",
      "... command successful.\n",
      "[MoviePy] Writing audio in ./audio-classification/data/output/247.wav\n"
     ]
    },
    {
     "name": "stderr",
     "output_type": "stream",
     "text": [
      "\n",
      "  0%|          | 0/111 [00:00<?, ?it/s]\u001b[A\n",
      "100%|██████████| 111/111 [00:00<00:00, 2585.01it/s]\u001b[A"
     ]
    },
    {
     "name": "stdout",
     "output_type": "stream",
     "text": [
      "[MoviePy] Done.\n",
      "248\n",
      "False\n",
      "\n",
      "[MoviePy] Running:\n",
      ">>> /Users/smlee/Library/Application Support/imageio/ffmpeg/ffmpeg-osx-v3.2.4 -y -i ./yunha.mp4 -ss 1235.00 -t 5.00 -vcodec copy -acodec copy ./audio-classification/data/output/248.mp4\n",
      "... command successful.\n",
      "[MoviePy] Writing audio in ./audio-classification/data/output/248.wav\n"
     ]
    },
    {
     "name": "stderr",
     "output_type": "stream",
     "text": [
      "\n",
      "  0%|          | 0/111 [00:00<?, ?it/s]\u001b[A\n",
      "100%|██████████| 111/111 [00:00<00:00, 2480.45it/s]\u001b[A"
     ]
    },
    {
     "name": "stdout",
     "output_type": "stream",
     "text": [
      "[MoviePy] Done.\n",
      "249\n",
      "False\n",
      "\n",
      "[MoviePy] Running:\n",
      ">>> /Users/smlee/Library/Application Support/imageio/ffmpeg/ffmpeg-osx-v3.2.4 -y -i ./yunha.mp4 -ss 1240.00 -t 5.00 -vcodec copy -acodec copy ./audio-classification/data/output/249.mp4\n",
      "... command successful.\n",
      "[MoviePy] Writing audio in ./audio-classification/data/output/249.wav\n"
     ]
    },
    {
     "name": "stderr",
     "output_type": "stream",
     "text": [
      "\n",
      "  0%|          | 0/111 [00:00<?, ?it/s]\u001b[A\n",
      "100%|██████████| 111/111 [00:00<00:00, 2005.89it/s]\u001b[A"
     ]
    },
    {
     "name": "stdout",
     "output_type": "stream",
     "text": [
      "[MoviePy] Done.\n",
      "250\n",
      "False\n",
      "\n",
      "[MoviePy] Running:\n",
      ">>> /Users/smlee/Library/Application Support/imageio/ffmpeg/ffmpeg-osx-v3.2.4 -y -i ./yunha.mp4 -ss 1245.00 -t 5.00 -vcodec copy -acodec copy ./audio-classification/data/output/250.mp4\n",
      "... command successful.\n",
      "[MoviePy] Writing audio in ./audio-classification/data/output/250.wav\n"
     ]
    },
    {
     "name": "stderr",
     "output_type": "stream",
     "text": [
      "\n",
      "  0%|          | 0/111 [00:00<?, ?it/s]\u001b[A\n",
      "100%|██████████| 111/111 [00:00<00:00, 2134.54it/s]\u001b[A"
     ]
    },
    {
     "name": "stdout",
     "output_type": "stream",
     "text": [
      "[MoviePy] Done.\n",
      "251\n",
      "False\n",
      "\n",
      "[MoviePy] Running:\n",
      ">>> /Users/smlee/Library/Application Support/imageio/ffmpeg/ffmpeg-osx-v3.2.4 -y -i ./yunha.mp4 -ss 1250.00 -t 5.00 -vcodec copy -acodec copy ./audio-classification/data/output/251.mp4\n",
      "... command successful.\n",
      "[MoviePy] Writing audio in ./audio-classification/data/output/251.wav\n"
     ]
    },
    {
     "name": "stderr",
     "output_type": "stream",
     "text": [
      "\n",
      "  0%|          | 0/111 [00:00<?, ?it/s]\u001b[A\n",
      "100%|██████████| 111/111 [00:00<00:00, 2398.50it/s]\u001b[A"
     ]
    },
    {
     "name": "stdout",
     "output_type": "stream",
     "text": [
      "[MoviePy] Done.\n",
      "252\n",
      "False\n",
      "\n",
      "[MoviePy] Running:\n",
      ">>> /Users/smlee/Library/Application Support/imageio/ffmpeg/ffmpeg-osx-v3.2.4 -y -i ./yunha.mp4 -ss 1255.00 -t 5.00 -vcodec copy -acodec copy ./audio-classification/data/output/252.mp4\n",
      "... command successful.\n",
      "[MoviePy] Writing audio in ./audio-classification/data/output/252.wav\n"
     ]
    },
    {
     "name": "stderr",
     "output_type": "stream",
     "text": [
      "\n",
      "  0%|          | 0/111 [00:00<?, ?it/s]\u001b[A\n",
      "100%|██████████| 111/111 [00:00<00:00, 2563.98it/s]\u001b[A"
     ]
    },
    {
     "name": "stdout",
     "output_type": "stream",
     "text": [
      "[MoviePy] Done.\n",
      "253\n"
     ]
    }
   ],
   "source": [
    "video_name = \"./yunha.mp4\"\n",
    "duration = 5\n",
    "episode = \"\"\n",
    "\n",
    "idx = 1\n",
    "clip = VideoFileClip(video_name)\n",
    "\n",
    "length = clip.duration\n",
    "start = 0 # except begin_again is 10\n",
    "end = start + duration\n",
    "\n",
    "while end < length:\n",
    "\n",
    "    file_name = \"./audio-classification/data/output/\" +  episode + \"\" + str(idx)+ \".mp4\"\n",
    "    wav_name = \"./audio-classification/data/output/\"+episode + \"\" + str(idx) + \".wav\"\n",
    "    print(os.path.isfile(file_name))\n",
    "    if os.path.isfile(file_name) == False :\n",
    "        ffmpeg_extract_subclip(video_name, start, end, targetname=file_name)\n",
    "        clip.subclip(start,end).audio.write_audiofile(wav_name)\n",
    "\n",
    "    start = end\n",
    "    end = start + duration\n",
    "    if end >= length:\n",
    "        end = length\n",
    "    idx = idx + 1\n",
    "    print(idx)\n",
    "\n",
    "clip.close()"
   ]
  },
  {
   "cell_type": "code",
   "execution_count": 119,
   "metadata": {},
   "outputs": [
    {
     "name": "stdout",
     "output_type": "stream",
     "text": [
      ".DS_Store\n",
      "extract .DS_Store features done\n",
      "output\n",
      "./audio-classification/data/output/249.wav\n",
      "mfcc shape : (13,)\n",
      "chroma shape : (12,)\n",
      "tonnetz shape : (6,)\n",
      "./audio-classification/data/output/16.wav\n",
      "mfcc shape : (13,)\n",
      "chroma shape : (12,)\n",
      "tonnetz shape : (6,)\n",
      "./audio-classification/data/output/103.wav\n",
      "mfcc shape : (13,)\n",
      "chroma shape : (12,)\n",
      "tonnetz shape : (6,)\n",
      "./audio-classification/data/output/117.wav\n",
      "mfcc shape : (13,)\n",
      "chroma shape : (12,)\n",
      "tonnetz shape : (6,)\n",
      "./audio-classification/data/output/116.wav\n",
      "mfcc shape : (13,)\n",
      "chroma shape : (12,)\n",
      "tonnetz shape : (6,)\n",
      "./audio-classification/data/output/102.wav\n",
      "mfcc shape : (13,)\n",
      "chroma shape : (12,)\n",
      "tonnetz shape : (6,)\n",
      "./audio-classification/data/output/17.wav\n",
      "mfcc shape : (13,)\n",
      "chroma shape : (12,)\n",
      "tonnetz shape : (6,)\n",
      "./audio-classification/data/output/248.wav\n",
      "mfcc shape : (13,)\n",
      "chroma shape : (12,)\n",
      "tonnetz shape : (6,)\n",
      "./audio-classification/data/output/15.wav\n",
      "mfcc shape : (13,)\n",
      "chroma shape : (12,)\n",
      "tonnetz shape : (6,)\n",
      "./audio-classification/data/output/29.wav\n",
      "mfcc shape : (13,)\n",
      "chroma shape : (12,)\n",
      "tonnetz shape : (6,)\n",
      "./audio-classification/data/output/128.wav\n",
      "mfcc shape : (13,)\n",
      "chroma shape : (12,)\n",
      "tonnetz shape : (6,)\n",
      "./audio-classification/data/output/114.wav\n",
      "mfcc shape : (13,)\n",
      "chroma shape : (12,)\n",
      "tonnetz shape : (6,)\n",
      "./audio-classification/data/output/100.wav\n",
      "mfcc shape : (13,)\n",
      "chroma shape : (12,)\n",
      "tonnetz shape : (6,)\n",
      "./audio-classification/data/output/101.wav\n",
      "mfcc shape : (13,)\n",
      "chroma shape : (12,)\n",
      "tonnetz shape : (6,)\n",
      "./audio-classification/data/output/115.wav\n",
      "mfcc shape : (13,)\n",
      "chroma shape : (12,)\n",
      "tonnetz shape : (6,)\n",
      "./audio-classification/data/output/129.wav\n",
      "mfcc shape : (13,)\n",
      "chroma shape : (12,)\n",
      "tonnetz shape : (6,)\n",
      "./audio-classification/data/output/28.wav\n",
      "mfcc shape : (13,)\n",
      "chroma shape : (12,)\n",
      "tonnetz shape : (6,)\n",
      "./audio-classification/data/output/14.wav\n",
      "mfcc shape : (13,)\n",
      "chroma shape : (12,)\n",
      "tonnetz shape : (6,)\n",
      "./audio-classification/data/output/38.wav\n",
      "mfcc shape : (13,)\n",
      "chroma shape : (12,)\n",
      "tonnetz shape : (6,)\n",
      "./audio-classification/data/output/10.wav\n",
      "mfcc shape : (13,)\n",
      "chroma shape : (12,)\n",
      "tonnetz shape : (6,)\n",
      "./audio-classification/data/output/111.wav\n",
      "mfcc shape : (13,)\n",
      "chroma shape : (12,)\n",
      "tonnetz shape : (6,)\n",
      "./audio-classification/data/output/105.wav\n",
      "mfcc shape : (13,)\n",
      "chroma shape : (12,)\n",
      "tonnetz shape : (6,)\n",
      "./audio-classification/data/output/139.wav\n",
      "mfcc shape : (13,)\n",
      "chroma shape : (12,)\n",
      "tonnetz shape : (6,)\n",
      "./audio-classification/data/output/138.wav\n",
      "mfcc shape : (13,)\n",
      "chroma shape : (12,)\n",
      "tonnetz shape : (6,)\n",
      "./audio-classification/data/output/104.wav\n",
      "mfcc shape : (13,)\n",
      "chroma shape : (12,)\n",
      "tonnetz shape : (6,)\n",
      "./audio-classification/data/output/110.wav\n",
      "mfcc shape : (13,)\n",
      "chroma shape : (12,)\n",
      "tonnetz shape : (6,)\n",
      "./audio-classification/data/output/11.wav\n",
      "mfcc shape : (13,)\n",
      "chroma shape : (12,)\n",
      "tonnetz shape : (6,)\n",
      "./audio-classification/data/output/39.wav\n",
      "mfcc shape : (13,)\n",
      "chroma shape : (12,)\n",
      "tonnetz shape : (6,)\n",
      "./audio-classification/data/output/13.wav\n",
      "mfcc shape : (13,)\n",
      "chroma shape : (12,)\n",
      "tonnetz shape : (6,)\n",
      "./audio-classification/data/output/106.wav\n",
      "mfcc shape : (13,)\n",
      "chroma shape : (12,)\n",
      "tonnetz shape : (6,)\n",
      "./audio-classification/data/output/112.wav\n",
      "mfcc shape : (13,)\n",
      "chroma shape : (12,)\n",
      "tonnetz shape : (6,)\n",
      "./audio-classification/data/output/113.wav\n",
      "mfcc shape : (13,)\n",
      "chroma shape : (12,)\n",
      "tonnetz shape : (6,)\n",
      "./audio-classification/data/output/107.wav\n",
      "mfcc shape : (13,)\n",
      "chroma shape : (12,)\n",
      "tonnetz shape : (6,)\n",
      "./audio-classification/data/output/12.wav\n",
      "mfcc shape : (13,)\n",
      "chroma shape : (12,)\n",
      "tonnetz shape : (6,)\n",
      "./audio-classification/data/output/216.wav\n",
      "mfcc shape : (13,)\n",
      "chroma shape : (12,)\n",
      "tonnetz shape : (6,)\n",
      "./audio-classification/data/output/202.wav\n",
      "mfcc shape : (13,)\n",
      "chroma shape : (12,)\n",
      "tonnetz shape : (6,)\n",
      "./audio-classification/data/output/61.wav\n",
      "mfcc shape : (13,)\n",
      "chroma shape : (12,)\n",
      "tonnetz shape : (6,)\n",
      "./audio-classification/data/output/75.wav\n",
      "mfcc shape : (13,)\n",
      "chroma shape : (12,)\n",
      "tonnetz shape : (6,)\n",
      "./audio-classification/data/output/49.wav\n",
      "mfcc shape : (13,)\n",
      "chroma shape : (12,)\n",
      "tonnetz shape : (6,)\n",
      "./audio-classification/data/output/148.wav\n",
      "mfcc shape : (13,)\n",
      "chroma shape : (12,)\n",
      "tonnetz shape : (6,)\n",
      "./audio-classification/data/output/160.wav\n",
      "mfcc shape : (13,)\n",
      "chroma shape : (12,)\n",
      "tonnetz shape : (6,)\n",
      "./audio-classification/data/output/174.wav\n",
      "mfcc shape : (13,)\n",
      "chroma shape : (12,)\n",
      "tonnetz shape : (6,)\n",
      "./audio-classification/data/output/175.wav\n",
      "mfcc shape : (13,)\n",
      "chroma shape : (12,)\n",
      "tonnetz shape : (6,)\n",
      "./audio-classification/data/output/161.wav\n",
      "mfcc shape : (13,)\n",
      "chroma shape : (12,)\n",
      "tonnetz shape : (6,)\n",
      "./audio-classification/data/output/149.wav\n",
      "mfcc shape : (13,)\n",
      "chroma shape : (12,)\n",
      "tonnetz shape : (6,)\n",
      "./audio-classification/data/output/48.wav\n",
      "mfcc shape : (13,)\n",
      "chroma shape : (12,)\n",
      "tonnetz shape : (6,)\n",
      "./audio-classification/data/output/74.wav\n",
      "mfcc shape : (13,)\n",
      "chroma shape : (12,)\n",
      "tonnetz shape : (6,)\n",
      "./audio-classification/data/output/60.wav\n",
      "mfcc shape : (13,)\n",
      "chroma shape : (12,)\n",
      "tonnetz shape : (6,)\n",
      "./audio-classification/data/output/203.wav\n",
      "mfcc shape : (13,)\n",
      "chroma shape : (12,)\n",
      "tonnetz shape : (6,)\n",
      "./audio-classification/data/output/217.wav\n",
      "mfcc shape : (13,)\n",
      "chroma shape : (12,)\n",
      "tonnetz shape : (6,)\n",
      "./audio-classification/data/output/229.wav\n",
      "mfcc shape : (13,)\n",
      "chroma shape : (12,)\n",
      "tonnetz shape : (6,)\n",
      "./audio-classification/data/output/201.wav\n",
      "mfcc shape : (13,)\n",
      "chroma shape : (12,)\n",
      "tonnetz shape : (6,)\n",
      "./audio-classification/data/output/215.wav\n",
      "mfcc shape : (13,)\n",
      "chroma shape : (12,)\n",
      "tonnetz shape : (6,)\n",
      "./audio-classification/data/output/188.wav\n",
      "mfcc shape : (13,)\n",
      "chroma shape : (12,)\n",
      "tonnetz shape : (6,)\n",
      "./audio-classification/data/output/76.wav\n",
      "mfcc shape : (13,)\n",
      "chroma shape : (12,)\n",
      "tonnetz shape : (6,)\n",
      "./audio-classification/data/output/62.wav\n",
      "mfcc shape : (13,)\n",
      "chroma shape : (12,)\n",
      "tonnetz shape : (6,)\n",
      "./audio-classification/data/output/177.wav\n",
      "mfcc shape : (13,)\n",
      "chroma shape : (12,)\n",
      "tonnetz shape : (6,)\n",
      "./audio-classification/data/output/89.wav\n",
      "mfcc shape : (13,)\n",
      "chroma shape : (12,)\n",
      "tonnetz shape : (6,)\n",
      "./audio-classification/data/output/163.wav\n",
      "mfcc shape : (13,)\n",
      "chroma shape : (12,)\n",
      "tonnetz shape : (6,)\n",
      "./audio-classification/data/output/162.wav\n",
      "mfcc shape : (13,)\n",
      "chroma shape : (12,)\n",
      "tonnetz shape : (6,)\n",
      "./audio-classification/data/output/176.wav\n",
      "mfcc shape : (13,)\n",
      "chroma shape : (12,)\n",
      "tonnetz shape : (6,)\n",
      "./audio-classification/data/output/88.wav\n",
      "mfcc shape : (13,)\n",
      "chroma shape : (12,)\n",
      "tonnetz shape : (6,)\n",
      "./audio-classification/data/output/63.wav\n",
      "mfcc shape : (13,)\n",
      "chroma shape : (12,)\n",
      "tonnetz shape : (6,)\n",
      "./audio-classification/data/output/189.wav\n",
      "mfcc shape : (13,)\n",
      "chroma shape : (12,)\n",
      "tonnetz shape : (6,)\n",
      "./audio-classification/data/output/77.wav\n",
      "mfcc shape : (13,)\n",
      "chroma shape : (12,)\n",
      "tonnetz shape : (6,)\n",
      "./audio-classification/data/output/214.wav\n",
      "mfcc shape : (13,)\n",
      "chroma shape : (12,)\n",
      "tonnetz shape : (6,)\n",
      "./audio-classification/data/output/200.wav\n",
      "mfcc shape : (13,)\n",
      "chroma shape : (12,)\n",
      "tonnetz shape : (6,)\n",
      "./audio-classification/data/output/228.wav\n",
      "mfcc shape : (13,)\n",
      "chroma shape : (12,)\n",
      "tonnetz shape : (6,)\n",
      "./audio-classification/data/output/204.wav\n",
      "mfcc shape : (13,)\n",
      "chroma shape : (12,)\n",
      "tonnetz shape : (6,)\n",
      "./audio-classification/data/output/210.wav\n",
      "mfcc shape : (13,)\n",
      "chroma shape : (12,)\n",
      "tonnetz shape : (6,)\n",
      "./audio-classification/data/output/238.wav\n",
      "mfcc shape : (13,)\n",
      "chroma shape : (12,)\n",
      "tonnetz shape : (6,)\n",
      "./audio-classification/data/output/9.wav\n",
      "mfcc shape : (13,)\n",
      "chroma shape : (12,)\n",
      "tonnetz shape : (6,)\n",
      "./audio-classification/data/output/73.wav\n",
      "mfcc shape : (13,)\n",
      "chroma shape : (12,)\n",
      "tonnetz shape : (6,)\n",
      "./audio-classification/data/output/199.wav\n",
      "mfcc shape : (13,)\n",
      "chroma shape : (12,)\n",
      "tonnetz shape : (6,)\n",
      "./audio-classification/data/output/67.wav\n",
      "mfcc shape : (13,)\n",
      "chroma shape : (12,)\n",
      "tonnetz shape : (6,)\n",
      "./audio-classification/data/output/172.wav\n",
      "mfcc shape : (13,)\n",
      "chroma shape : (12,)\n",
      "tonnetz shape : (6,)\n",
      "./audio-classification/data/output/166.wav\n",
      "mfcc shape : (13,)\n",
      "chroma shape : (12,)\n",
      "tonnetz shape : (6,)\n",
      "./audio-classification/data/output/98.wav\n",
      "mfcc shape : (13,)\n",
      "chroma shape : (12,)\n",
      "tonnetz shape : (6,)\n",
      "./audio-classification/data/output/167.wav\n",
      "mfcc shape : (13,)\n",
      "chroma shape : (12,)\n"
     ]
    },
    {
     "name": "stdout",
     "output_type": "stream",
     "text": [
      "tonnetz shape : (6,)\n",
      "./audio-classification/data/output/99.wav\n",
      "mfcc shape : (13,)\n",
      "chroma shape : (12,)\n",
      "tonnetz shape : (6,)\n",
      "./audio-classification/data/output/173.wav\n",
      "mfcc shape : (13,)\n",
      "chroma shape : (12,)\n",
      "tonnetz shape : (6,)\n",
      "./audio-classification/data/output/198.wav\n",
      "mfcc shape : (13,)\n",
      "chroma shape : (12,)\n",
      "tonnetz shape : (6,)\n",
      "./audio-classification/data/output/66.wav\n",
      "mfcc shape : (13,)\n",
      "chroma shape : (12,)\n",
      "tonnetz shape : (6,)\n",
      "./audio-classification/data/output/72.wav\n",
      "mfcc shape : (13,)\n",
      "chroma shape : (12,)\n",
      "tonnetz shape : (6,)\n",
      "./audio-classification/data/output/8.wav\n",
      "mfcc shape : (13,)\n",
      "chroma shape : (12,)\n",
      "tonnetz shape : (6,)\n",
      "./audio-classification/data/output/239.wav\n",
      "mfcc shape : (13,)\n",
      "chroma shape : (12,)\n",
      "tonnetz shape : (6,)\n",
      "./audio-classification/data/output/211.wav\n",
      "mfcc shape : (13,)\n",
      "chroma shape : (12,)\n",
      "tonnetz shape : (6,)\n",
      "./audio-classification/data/output/205.wav\n",
      "mfcc shape : (13,)\n",
      "chroma shape : (12,)\n",
      "tonnetz shape : (6,)\n",
      "./audio-classification/data/output/213.wav\n",
      "mfcc shape : (13,)\n",
      "chroma shape : (12,)\n",
      "tonnetz shape : (6,)\n",
      "./audio-classification/data/output/207.wav\n",
      "mfcc shape : (13,)\n",
      "chroma shape : (12,)\n",
      "tonnetz shape : (6,)\n",
      "./audio-classification/data/output/58.wav\n",
      "mfcc shape : (13,)\n",
      "chroma shape : (12,)\n",
      "tonnetz shape : (6,)\n",
      "./audio-classification/data/output/64.wav\n",
      "mfcc shape : (13,)\n",
      "chroma shape : (12,)\n",
      "tonnetz shape : (6,)\n",
      "./audio-classification/data/output/70.wav\n",
      "mfcc shape : (13,)\n",
      "chroma shape : (12,)\n",
      "tonnetz shape : (6,)\n",
      "./audio-classification/data/output/165.wav\n",
      "mfcc shape : (13,)\n",
      "chroma shape : (12,)\n",
      "tonnetz shape : (6,)\n",
      "./audio-classification/data/output/171.wav\n",
      "mfcc shape : (13,)\n",
      "chroma shape : (12,)\n",
      "tonnetz shape : (6,)\n",
      "./audio-classification/data/output/159.wav\n",
      "mfcc shape : (13,)\n",
      "chroma shape : (12,)\n",
      "tonnetz shape : (6,)\n",
      "./audio-classification/data/output/158.wav\n",
      "mfcc shape : (13,)\n",
      "chroma shape : (12,)\n",
      "tonnetz shape : (6,)\n",
      "./audio-classification/data/output/170.wav\n",
      "mfcc shape : (13,)\n",
      "chroma shape : (12,)\n",
      "tonnetz shape : (6,)\n",
      "./audio-classification/data/output/164.wav\n",
      "mfcc shape : (13,)\n",
      "chroma shape : (12,)\n",
      "tonnetz shape : (6,)\n",
      "./audio-classification/data/output/71.wav\n",
      "mfcc shape : (13,)\n",
      "chroma shape : (12,)\n",
      "tonnetz shape : (6,)\n",
      "./audio-classification/data/output/65.wav\n",
      "mfcc shape : (13,)\n",
      "chroma shape : (12,)\n",
      "tonnetz shape : (6,)\n",
      "./audio-classification/data/output/59.wav\n",
      "mfcc shape : (13,)\n",
      "chroma shape : (12,)\n",
      "tonnetz shape : (6,)\n",
      "./audio-classification/data/output/206.wav\n",
      "mfcc shape : (13,)\n",
      "chroma shape : (12,)\n",
      "tonnetz shape : (6,)\n",
      "./audio-classification/data/output/212.wav\n",
      "mfcc shape : (13,)\n",
      "chroma shape : (12,)\n",
      "tonnetz shape : (6,)\n",
      "./audio-classification/data/output/237.wav\n",
      "mfcc shape : (13,)\n",
      "chroma shape : (12,)\n",
      "tonnetz shape : (6,)\n",
      "./audio-classification/data/output/223.wav\n",
      "mfcc shape : (13,)\n",
      "chroma shape : (12,)\n",
      "tonnetz shape : (6,)\n",
      "./audio-classification/data/output/40.wav\n",
      "mfcc shape : (13,)\n",
      "chroma shape : (12,)\n",
      "tonnetz shape : (6,)\n",
      "./audio-classification/data/output/54.wav\n",
      "mfcc shape : (13,)\n",
      "chroma shape : (12,)\n",
      "tonnetz shape : (6,)\n",
      "./audio-classification/data/output/6.wav\n",
      "mfcc shape : (13,)\n",
      "chroma shape : (12,)\n",
      "tonnetz shape : (6,)\n",
      "./audio-classification/data/output/182.wav\n",
      "mfcc shape : (13,)\n",
      "chroma shape : (12,)\n",
      "tonnetz shape : (6,)\n",
      "./audio-classification/data/output/68.wav\n",
      "mfcc shape : (13,)\n",
      "chroma shape : (12,)\n",
      "tonnetz shape : (6,)\n",
      "./audio-classification/data/output/196.wav\n",
      "mfcc shape : (13,)\n",
      "chroma shape : (12,)\n",
      "tonnetz shape : (6,)\n",
      "./audio-classification/data/output/83.wav\n",
      "mfcc shape : (13,)\n",
      "chroma shape : (12,)\n",
      "tonnetz shape : (6,)\n",
      "./audio-classification/data/output/97.wav\n",
      "mfcc shape : (13,)\n",
      "chroma shape : (12,)\n",
      "tonnetz shape : (6,)\n",
      "./audio-classification/data/output/169.wav\n",
      "mfcc shape : (13,)\n",
      "chroma shape : (12,)\n",
      "tonnetz shape : (6,)\n",
      "./audio-classification/data/output/141.wav\n",
      "mfcc shape : (13,)\n",
      "chroma shape : (12,)\n",
      "tonnetz shape : (6,)\n",
      "./audio-classification/data/output/155.wav\n",
      "mfcc shape : (13,)\n",
      "chroma shape : (12,)\n",
      "tonnetz shape : (6,)\n",
      "./audio-classification/data/output/154.wav\n",
      "mfcc shape : (13,)\n",
      "chroma shape : (12,)\n",
      "tonnetz shape : (6,)\n",
      "./audio-classification/data/output/140.wav\n",
      "mfcc shape : (13,)\n",
      "chroma shape : (12,)\n",
      "tonnetz shape : (6,)\n",
      "./audio-classification/data/output/96.wav\n",
      "mfcc shape : (13,)\n",
      "chroma shape : (12,)\n",
      "tonnetz shape : (6,)\n",
      "./audio-classification/data/output/168.wav\n",
      "mfcc shape : (13,)\n",
      "chroma shape : (12,)\n",
      "tonnetz shape : (6,)\n",
      "./audio-classification/data/output/82.wav\n",
      "mfcc shape : (13,)\n",
      "chroma shape : (12,)\n",
      "tonnetz shape : (6,)\n",
      "./audio-classification/data/output/69.wav\n",
      "mfcc shape : (13,)\n",
      "chroma shape : (12,)\n",
      "tonnetz shape : (6,)\n",
      "./audio-classification/data/output/197.wav\n",
      "mfcc shape : (13,)\n",
      "chroma shape : (12,)\n",
      "tonnetz shape : (6,)\n",
      "./audio-classification/data/output/183.wav\n",
      "mfcc shape : (13,)\n",
      "chroma shape : (12,)\n",
      "tonnetz shape : (6,)\n",
      "./audio-classification/data/output/55.wav\n",
      "mfcc shape : (13,)\n",
      "chroma shape : (12,)\n",
      "tonnetz shape : (6,)\n",
      "./audio-classification/data/output/7.wav\n",
      "mfcc shape : (13,)\n",
      "chroma shape : (12,)\n",
      "tonnetz shape : (6,)\n",
      "./audio-classification/data/output/41.wav\n",
      "mfcc shape : (13,)\n",
      "chroma shape : (12,)\n",
      "tonnetz shape : (6,)\n",
      "./audio-classification/data/output/222.wav\n",
      "mfcc shape : (13,)\n",
      "chroma shape : (12,)\n",
      "tonnetz shape : (6,)\n",
      "./audio-classification/data/output/236.wav\n",
      "mfcc shape : (13,)\n",
      "chroma shape : (12,)\n",
      "tonnetz shape : (6,)\n",
      "./audio-classification/data/output/208.wav\n",
      "mfcc shape : (13,)\n",
      "chroma shape : (12,)\n",
      "tonnetz shape : (6,)\n",
      "./audio-classification/data/output/220.wav\n",
      "mfcc shape : (13,)\n",
      "chroma shape : (12,)\n",
      "tonnetz shape : (6,)\n",
      "./audio-classification/data/output/234.wav\n",
      "mfcc shape : (13,)\n",
      "chroma shape : (12,)\n",
      "tonnetz shape : (6,)\n",
      "./audio-classification/data/output/5.wav\n",
      "mfcc shape : (13,)\n",
      "chroma shape : (12,)\n",
      "tonnetz shape : (6,)\n",
      "./audio-classification/data/output/57.wav\n",
      "mfcc shape : (13,)\n",
      "chroma shape : (12,)\n",
      "tonnetz shape : (6,)\n",
      "./audio-classification/data/output/43.wav\n",
      "mfcc shape : (13,)\n",
      "chroma shape : (12,)\n",
      "tonnetz shape : (6,)\n",
      "./audio-classification/data/output/195.wav\n",
      "mfcc shape : (13,)\n",
      "chroma shape : (12,)\n",
      "tonnetz shape : (6,)\n",
      "./audio-classification/data/output/181.wav\n",
      "mfcc shape : (13,)\n",
      "chroma shape : (12,)\n",
      "tonnetz shape : (6,)\n",
      "./audio-classification/data/output/94.wav\n",
      "mfcc shape : (13,)\n",
      "chroma shape : (12,)\n",
      "tonnetz shape : (6,)\n",
      "./audio-classification/data/output/80.wav\n",
      "mfcc shape : (13,)\n",
      "chroma shape : (12,)\n",
      "tonnetz shape : (6,)\n",
      "./audio-classification/data/output/156.wav\n",
      "mfcc shape : (13,)\n",
      "chroma shape : (12,)\n",
      "tonnetz shape : (6,)\n",
      "./audio-classification/data/output/142.wav\n",
      "mfcc shape : (13,)\n",
      "chroma shape : (12,)\n",
      "tonnetz shape : (6,)\n",
      "./audio-classification/data/output/143.wav\n",
      "mfcc shape : (13,)\n",
      "chroma shape : (12,)\n",
      "tonnetz shape : (6,)\n",
      "./audio-classification/data/output/157.wav\n",
      "mfcc shape : (13,)\n",
      "chroma shape : (12,)\n",
      "tonnetz shape : (6,)\n",
      "./audio-classification/data/output/81.wav\n",
      "mfcc shape : (13,)\n",
      "chroma shape : (12,)\n",
      "tonnetz shape : (6,)\n",
      "./audio-classification/data/output/95.wav\n",
      "mfcc shape : (13,)\n",
      "chroma shape : (12,)\n",
      "tonnetz shape : (6,)\n",
      "./audio-classification/data/output/180.wav\n",
      "mfcc shape : (13,)\n",
      "chroma shape : (12,)\n",
      "tonnetz shape : (6,)\n",
      "./audio-classification/data/output/194.wav\n",
      "mfcc shape : (13,)\n",
      "chroma shape : (12,)\n",
      "tonnetz shape : (6,)\n",
      "./audio-classification/data/output/42.wav\n",
      "mfcc shape : (13,)\n",
      "chroma shape : (12,)\n",
      "tonnetz shape : (6,)\n",
      "./audio-classification/data/output/4.wav\n",
      "mfcc shape : (13,)\n",
      "chroma shape : (12,)\n",
      "tonnetz shape : (6,)\n",
      "./audio-classification/data/output/56.wav\n",
      "mfcc shape : (13,)\n",
      "chroma shape : (12,)\n",
      "tonnetz shape : (6,)\n",
      "./audio-classification/data/output/235.wav\n",
      "mfcc shape : (13,)\n",
      "chroma shape : (12,)\n",
      "tonnetz shape : (6,)\n",
      "./audio-classification/data/output/221.wav\n",
      "mfcc shape : (13,)\n",
      "chroma shape : (12,)\n",
      "tonnetz shape : (6,)\n",
      "./audio-classification/data/output/209.wav\n",
      "mfcc shape : (13,)\n",
      "chroma shape : (12,)\n",
      "tonnetz shape : (6,)\n",
      "./audio-classification/data/output/225.wav\n",
      "mfcc shape : (13,)\n",
      "chroma shape : (12,)\n",
      "tonnetz shape : (6,)\n",
      "./audio-classification/data/output/231.wav\n",
      "mfcc shape : (13,)\n",
      "chroma shape : (12,)\n",
      "tonnetz shape : (6,)\n",
      "./audio-classification/data/output/219.wav\n",
      "mfcc shape : (13,)\n",
      "chroma shape : (12,)\n",
      "tonnetz shape : (6,)\n",
      "./audio-classification/data/output/190.wav\n",
      "mfcc shape : (13,)\n",
      "chroma shape : (12,)\n",
      "tonnetz shape : (6,)\n",
      "./audio-classification/data/output/184.wav\n",
      "mfcc shape : (13,)\n",
      "chroma shape : (12,)\n"
     ]
    },
    {
     "name": "stdout",
     "output_type": "stream",
     "text": [
      "tonnetz shape : (6,)\n",
      "./audio-classification/data/output/52.wav\n",
      "mfcc shape : (13,)\n",
      "chroma shape : (12,)\n",
      "tonnetz shape : (6,)\n",
      "./audio-classification/data/output/46.wav\n",
      "mfcc shape : (13,)\n",
      "chroma shape : (12,)\n",
      "tonnetz shape : (6,)\n",
      "./audio-classification/data/output/153.wav\n",
      "mfcc shape : (13,)\n",
      "chroma shape : (12,)\n",
      "tonnetz shape : (6,)\n",
      "./audio-classification/data/output/147.wav\n",
      "mfcc shape : (13,)\n",
      "chroma shape : (12,)\n",
      "tonnetz shape : (6,)\n",
      "./audio-classification/data/output/91.wav\n",
      "mfcc shape : (13,)\n",
      "chroma shape : (12,)\n",
      "tonnetz shape : (6,)\n",
      "./audio-classification/data/output/85.wav\n",
      "mfcc shape : (13,)\n",
      "chroma shape : (12,)\n",
      "tonnetz shape : (6,)\n",
      "./audio-classification/data/output/84.wav\n",
      "mfcc shape : (13,)\n",
      "chroma shape : (12,)\n",
      "tonnetz shape : (6,)\n",
      "./audio-classification/data/output/90.wav\n",
      "mfcc shape : (13,)\n",
      "chroma shape : (12,)\n",
      "tonnetz shape : (6,)\n",
      "./audio-classification/data/output/146.wav\n",
      "mfcc shape : (13,)\n",
      "chroma shape : (12,)\n",
      "tonnetz shape : (6,)\n",
      "./audio-classification/data/output/152.wav\n",
      "mfcc shape : (13,)\n",
      "chroma shape : (12,)\n",
      "tonnetz shape : (6,)\n",
      "./audio-classification/data/output/47.wav\n",
      "mfcc shape : (13,)\n",
      "chroma shape : (12,)\n",
      "tonnetz shape : (6,)\n",
      "./audio-classification/data/output/53.wav\n",
      "mfcc shape : (13,)\n",
      "chroma shape : (12,)\n",
      "tonnetz shape : (6,)\n",
      "./audio-classification/data/output/1.wav\n",
      "mfcc shape : (13,)\n",
      "chroma shape : (12,)\n",
      "tonnetz shape : (6,)\n",
      "./audio-classification/data/output/185.wav\n",
      "mfcc shape : (13,)\n",
      "chroma shape : (12,)\n",
      "tonnetz shape : (6,)\n",
      "./audio-classification/data/output/191.wav\n",
      "mfcc shape : (13,)\n",
      "chroma shape : (12,)\n",
      "tonnetz shape : (6,)\n",
      "./audio-classification/data/output/218.wav\n",
      "mfcc shape : (13,)\n",
      "chroma shape : (12,)\n",
      "tonnetz shape : (6,)\n",
      "./audio-classification/data/output/230.wav\n",
      "mfcc shape : (13,)\n",
      "chroma shape : (12,)\n",
      "tonnetz shape : (6,)\n",
      "./audio-classification/data/output/224.wav\n",
      "mfcc shape : (13,)\n",
      "chroma shape : (12,)\n",
      "tonnetz shape : (6,)\n",
      "./audio-classification/data/output/232.wav\n",
      "mfcc shape : (13,)\n",
      "chroma shape : (12,)\n",
      "tonnetz shape : (6,)\n",
      "./audio-classification/data/output/226.wav\n",
      "mfcc shape : (13,)\n",
      "chroma shape : (12,)\n",
      "tonnetz shape : (6,)\n",
      "./audio-classification/data/output/79.wav\n",
      "mfcc shape : (13,)\n",
      "chroma shape : (12,)\n",
      "tonnetz shape : (6,)\n",
      "./audio-classification/data/output/187.wav\n",
      "mfcc shape : (13,)\n",
      "chroma shape : (12,)\n",
      "tonnetz shape : (6,)\n",
      "./audio-classification/data/output/193.wav\n",
      "mfcc shape : (13,)\n",
      "chroma shape : (12,)\n",
      "tonnetz shape : (6,)\n",
      "./audio-classification/data/output/45.wav\n",
      "mfcc shape : (13,)\n",
      "chroma shape : (12,)\n",
      "tonnetz shape : (6,)\n",
      "./audio-classification/data/output/3.wav\n",
      "mfcc shape : (13,)\n",
      "chroma shape : (12,)\n",
      "tonnetz shape : (6,)\n",
      "./audio-classification/data/output/51.wav\n",
      "mfcc shape : (13,)\n",
      "chroma shape : (12,)\n",
      "tonnetz shape : (6,)\n",
      "./audio-classification/data/output/144.wav\n",
      "mfcc shape : (13,)\n",
      "chroma shape : (12,)\n",
      "tonnetz shape : (6,)\n",
      "./audio-classification/data/output/150.wav\n",
      "mfcc shape : (13,)\n",
      "chroma shape : (12,)\n",
      "tonnetz shape : (6,)\n",
      "./audio-classification/data/output/86.wav\n",
      "mfcc shape : (13,)\n",
      "chroma shape : (12,)\n",
      "tonnetz shape : (6,)\n",
      "./audio-classification/data/output/178.wav\n",
      "mfcc shape : (13,)\n",
      "chroma shape : (12,)\n",
      "tonnetz shape : (6,)\n",
      "./audio-classification/data/output/92.wav\n",
      "mfcc shape : (13,)\n",
      "chroma shape : (12,)\n",
      "tonnetz shape : (6,)\n",
      "./audio-classification/data/output/93.wav\n",
      "mfcc shape : (13,)\n",
      "chroma shape : (12,)\n",
      "tonnetz shape : (6,)\n",
      "./audio-classification/data/output/87.wav\n",
      "mfcc shape : (13,)\n",
      "chroma shape : (12,)\n",
      "tonnetz shape : (6,)\n",
      "./audio-classification/data/output/179.wav\n",
      "mfcc shape : (13,)\n",
      "chroma shape : (12,)\n",
      "tonnetz shape : (6,)\n",
      "./audio-classification/data/output/151.wav\n",
      "mfcc shape : (13,)\n",
      "chroma shape : (12,)\n",
      "tonnetz shape : (6,)\n",
      "./audio-classification/data/output/145.wav\n",
      "mfcc shape : (13,)\n",
      "chroma shape : (12,)\n",
      "tonnetz shape : (6,)\n",
      "./audio-classification/data/output/2.wav\n",
      "mfcc shape : (13,)\n",
      "chroma shape : (12,)\n",
      "tonnetz shape : (6,)\n",
      "./audio-classification/data/output/50.wav\n",
      "mfcc shape : (13,)\n",
      "chroma shape : (12,)\n",
      "tonnetz shape : (6,)\n",
      "./audio-classification/data/output/44.wav\n",
      "mfcc shape : (13,)\n",
      "chroma shape : (12,)\n",
      "tonnetz shape : (6,)\n",
      "./audio-classification/data/output/192.wav\n",
      "mfcc shape : (13,)\n",
      "chroma shape : (12,)\n",
      "tonnetz shape : (6,)\n",
      "./audio-classification/data/output/78.wav\n",
      "mfcc shape : (13,)\n",
      "chroma shape : (12,)\n",
      "tonnetz shape : (6,)\n",
      "./audio-classification/data/output/186.wav\n",
      "mfcc shape : (13,)\n",
      "chroma shape : (12,)\n",
      "tonnetz shape : (6,)\n",
      "./audio-classification/data/output/227.wav\n",
      "mfcc shape : (13,)\n",
      "chroma shape : (12,)\n",
      "tonnetz shape : (6,)\n",
      "./audio-classification/data/output/233.wav\n",
      "mfcc shape : (13,)\n",
      "chroma shape : (12,)\n",
      "tonnetz shape : (6,)\n",
      "./audio-classification/data/output/240.wav\n",
      "mfcc shape : (13,)\n",
      "chroma shape : (12,)\n",
      "tonnetz shape : (6,)\n",
      "./audio-classification/data/output/23.wav\n",
      "mfcc shape : (13,)\n",
      "chroma shape : (12,)\n",
      "tonnetz shape : (6,)\n",
      "./audio-classification/data/output/37.wav\n",
      "mfcc shape : (13,)\n",
      "chroma shape : (12,)\n",
      "tonnetz shape : (6,)\n",
      "./audio-classification/data/output/122.wav\n",
      "mfcc shape : (13,)\n",
      "chroma shape : (12,)\n",
      "tonnetz shape : (6,)\n",
      "./audio-classification/data/output/136.wav\n",
      "mfcc shape : (13,)\n",
      "chroma shape : (12,)\n",
      "tonnetz shape : (6,)\n",
      "./audio-classification/data/output/137.wav\n",
      "mfcc shape : (13,)\n",
      "chroma shape : (12,)\n",
      "tonnetz shape : (6,)\n",
      "./audio-classification/data/output/123.wav\n",
      "mfcc shape : (13,)\n",
      "chroma shape : (12,)\n",
      "tonnetz shape : (6,)\n",
      "./audio-classification/data/output/36.wav\n",
      "mfcc shape : (13,)\n",
      "chroma shape : (12,)\n",
      "tonnetz shape : (6,)\n",
      "./audio-classification/data/output/22.wav\n",
      "mfcc shape : (13,)\n",
      "chroma shape : (12,)\n",
      "tonnetz shape : (6,)\n",
      "./audio-classification/data/output/241.wav\n",
      "mfcc shape : (13,)\n",
      "chroma shape : (12,)\n",
      "tonnetz shape : (6,)\n",
      "./audio-classification/data/output/243.wav\n",
      "mfcc shape : (13,)\n",
      "chroma shape : (12,)\n",
      "tonnetz shape : (6,)\n",
      "./audio-classification/data/output/34.wav\n",
      "mfcc shape : (13,)\n",
      "chroma shape : (12,)\n",
      "tonnetz shape : (6,)\n",
      "./audio-classification/data/output/20.wav\n",
      "mfcc shape : (13,)\n",
      "chroma shape : (12,)\n",
      "tonnetz shape : (6,)\n",
      "./audio-classification/data/output/109.wav\n",
      "mfcc shape : (13,)\n",
      "chroma shape : (12,)\n",
      "tonnetz shape : (6,)\n",
      "./audio-classification/data/output/135.wav\n",
      "mfcc shape : (13,)\n",
      "chroma shape : (12,)\n",
      "tonnetz shape : (6,)\n",
      "./audio-classification/data/output/121.wav\n",
      "mfcc shape : (13,)\n",
      "chroma shape : (12,)\n",
      "tonnetz shape : (6,)\n",
      "./audio-classification/data/output/120.wav\n",
      "mfcc shape : (13,)\n",
      "chroma shape : (12,)\n",
      "tonnetz shape : (6,)\n",
      "./audio-classification/data/output/134.wav\n",
      "mfcc shape : (13,)\n",
      "chroma shape : (12,)\n",
      "tonnetz shape : (6,)\n",
      "./audio-classification/data/output/108.wav\n",
      "mfcc shape : (13,)\n",
      "chroma shape : (12,)\n",
      "tonnetz shape : (6,)\n",
      "./audio-classification/data/output/21.wav\n",
      "mfcc shape : (13,)\n",
      "chroma shape : (12,)\n",
      "tonnetz shape : (6,)\n",
      "./audio-classification/data/output/35.wav\n",
      "mfcc shape : (13,)\n",
      "chroma shape : (12,)\n",
      "tonnetz shape : (6,)\n",
      "./audio-classification/data/output/242.wav\n",
      "mfcc shape : (13,)\n",
      "chroma shape : (12,)\n",
      "tonnetz shape : (6,)\n",
      "./audio-classification/data/output/246.wav\n",
      "mfcc shape : (13,)\n",
      "chroma shape : (12,)\n",
      "tonnetz shape : (6,)\n",
      "./audio-classification/data/output/252.wav\n",
      "mfcc shape : (13,)\n",
      "chroma shape : (12,)\n",
      "tonnetz shape : (6,)\n",
      "./audio-classification/data/output/19.wav\n",
      "mfcc shape : (13,)\n",
      "chroma shape : (12,)\n",
      "tonnetz shape : (6,)\n",
      "./audio-classification/data/output/31.wav\n",
      "mfcc shape : (13,)\n",
      "chroma shape : (12,)\n",
      "tonnetz shape : (6,)\n",
      "./audio-classification/data/output/25.wav\n",
      "mfcc shape : (13,)\n",
      "chroma shape : (12,)\n",
      "tonnetz shape : (6,)\n",
      "./audio-classification/data/output/130.wav\n",
      "mfcc shape : (13,)\n",
      "chroma shape : (12,)\n",
      "tonnetz shape : (6,)\n",
      "./audio-classification/data/output/124.wav\n",
      "mfcc shape : (13,)\n",
      "chroma shape : (12,)\n",
      "tonnetz shape : (6,)\n",
      "./audio-classification/data/output/118.wav\n",
      "mfcc shape : (13,)\n",
      "chroma shape : (12,)\n",
      "tonnetz shape : (6,)\n",
      "./audio-classification/data/output/119.wav\n",
      "mfcc shape : (13,)\n",
      "chroma shape : (12,)\n",
      "tonnetz shape : (6,)\n",
      "./audio-classification/data/output/125.wav\n",
      "mfcc shape : (13,)\n",
      "chroma shape : (12,)\n",
      "tonnetz shape : (6,)\n",
      "./audio-classification/data/output/131.wav\n",
      "mfcc shape : (13,)\n",
      "chroma shape : (12,)\n",
      "tonnetz shape : (6,)\n",
      "./audio-classification/data/output/24.wav\n",
      "mfcc shape : (13,)\n",
      "chroma shape : (12,)\n",
      "tonnetz shape : (6,)\n",
      "./audio-classification/data/output/30.wav\n",
      "mfcc shape : (13,)\n",
      "chroma shape : (12,)\n",
      "tonnetz shape : (6,)\n",
      "./audio-classification/data/output/18.wav\n",
      "mfcc shape : (13,)\n",
      "chroma shape : (12,)\n"
     ]
    },
    {
     "name": "stdout",
     "output_type": "stream",
     "text": [
      "tonnetz shape : (6,)\n",
      "./audio-classification/data/output/247.wav\n",
      "mfcc shape : (13,)\n",
      "chroma shape : (12,)\n",
      "tonnetz shape : (6,)\n",
      "./audio-classification/data/output/251.wav\n",
      "mfcc shape : (13,)\n",
      "chroma shape : (12,)\n",
      "tonnetz shape : (6,)\n",
      "./audio-classification/data/output/245.wav\n",
      "mfcc shape : (13,)\n",
      "chroma shape : (12,)\n",
      "tonnetz shape : (6,)\n",
      "./audio-classification/data/output/26.wav\n",
      "mfcc shape : (13,)\n",
      "chroma shape : (12,)\n",
      "tonnetz shape : (6,)\n",
      "./audio-classification/data/output/32.wav\n",
      "mfcc shape : (13,)\n",
      "chroma shape : (12,)\n",
      "tonnetz shape : (6,)\n",
      "./audio-classification/data/output/127.wav\n",
      "mfcc shape : (13,)\n",
      "chroma shape : (12,)\n",
      "tonnetz shape : (6,)\n",
      "./audio-classification/data/output/133.wav\n",
      "mfcc shape : (13,)\n",
      "chroma shape : (12,)\n",
      "tonnetz shape : (6,)\n",
      "./audio-classification/data/output/132.wav\n",
      "mfcc shape : (13,)\n",
      "chroma shape : (12,)\n",
      "tonnetz shape : (6,)\n",
      "./audio-classification/data/output/126.wav\n",
      "mfcc shape : (13,)\n",
      "chroma shape : (12,)\n",
      "tonnetz shape : (6,)\n",
      "./audio-classification/data/output/33.wav\n",
      "mfcc shape : (13,)\n",
      "chroma shape : (12,)\n",
      "tonnetz shape : (6,)\n",
      "./audio-classification/data/output/27.wav\n",
      "mfcc shape : (13,)\n",
      "chroma shape : (12,)\n",
      "tonnetz shape : (6,)\n",
      "./audio-classification/data/output/244.wav\n",
      "mfcc shape : (13,)\n",
      "chroma shape : (12,)\n",
      "tonnetz shape : (6,)\n",
      "./audio-classification/data/output/250.wav\n",
      "mfcc shape : (13,)\n",
      "chroma shape : (12,)\n",
      "tonnetz shape : (6,)\n",
      "extract output features done\n",
      "97.8793609142\n"
     ]
    }
   ],
   "source": [
    "# Get features and labels \n",
    "\n",
    "start = time.time()\n",
    "\n",
    "\n",
    "r = os.listdir(\"./audio-classification/data/\")\n",
    "features, _, filenames = feat_extract.parse_audio_files('./audio-classification/data', r)\n",
    "\n",
    "# run your code\n",
    "end = time.time()\n",
    "\n",
    "elapsed = end - start\n",
    "\n",
    "print(elapsed)"
   ]
  },
  {
   "cell_type": "code",
   "execution_count": 120,
   "metadata": {},
   "outputs": [
    {
     "data": {
      "text/plain": [
       "array([[-4.04936326e+02,  1.87317726e+02, -1.58550867e+01, ...,\n",
       "        -2.30077411e-01,  1.09223278e-02, -2.64385282e-02],\n",
       "       [-3.06439934e+02,  1.02553401e+02, -1.00192867e+01, ...,\n",
       "         7.33158075e-03,  2.55310090e-03,  1.43814012e-04],\n",
       "       [-3.44116105e+02,  1.11160523e+02, -3.59407928e+00, ...,\n",
       "        -1.50339170e-04,  3.28891109e-03, -4.84568191e-03],\n",
       "       ...,\n",
       "       [-3.41183048e+02,  1.15306365e+02, -1.30515966e+01, ...,\n",
       "         8.45580142e-03, -1.85577182e-03, -3.63604609e-03],\n",
       "       [-1.00018648e+02,  1.25256115e+02, -2.48284879e+01, ...,\n",
       "        -9.48062776e-02,  1.35229267e-02, -9.30774973e-03],\n",
       "       [-3.84651514e+02,  1.93885253e+02, -1.80940084e+01, ...,\n",
       "        -4.72243261e-02,  6.66331045e-03,  2.53551597e-03]])"
      ]
     },
     "execution_count": 120,
     "metadata": {},
     "output_type": "execute_result"
    }
   ],
   "source": [
    "features"
   ]
  },
  {
   "cell_type": "code",
   "execution_count": 121,
   "metadata": {},
   "outputs": [],
   "source": [
    "filename = './audio-classification/svm.sav'\n",
    "loaded_model = pickle.load(open(filename, 'rb'))\n",
    "X = features\n",
    "\n",
    "# Simple SVM\n",
    "y_pred = loaded_model.predict_proba(X)\n",
    "y_pred = y_pred.tolist()"
   ]
  },
  {
   "cell_type": "code",
   "execution_count": 122,
   "metadata": {},
   "outputs": [],
   "source": [
    "filename = './audio-classification/rf.sav'\n",
    "loaded_model = pickle.load(open(filename, 'rb'))\n",
    "X = features\n",
    "\n",
    "# Simple SVM\n",
    "y_pred = loaded_model.predict_proba(X)\n",
    "y_pred = y_pred.tolist()"
   ]
  },
  {
   "cell_type": "code",
   "execution_count": 123,
   "metadata": {
    "scrolled": true
   },
   "outputs": [],
   "source": [
    "rst = []\n",
    "for i in range(len(y_pred)): \n",
    "    if y_pred[i][0] > 0.7  :\n",
    "        rst.append( 'song')\n",
    "    elif y_pred[i][0] < 0.5:\n",
    "        rst.append( 'speech')\n",
    "    else:\n",
    "        rst.append('none')"
   ]
  },
  {
   "cell_type": "code",
   "execution_count": 124,
   "metadata": {
    "scrolled": true
   },
   "outputs": [
    {
     "data": {
      "text/plain": [
       "Counter({'none': 15, 'song': 91, 'speech': 146})"
      ]
     },
     "execution_count": 124,
     "metadata": {},
     "output_type": "execute_result"
    }
   ],
   "source": [
    "Counter(rst)"
   ]
  },
  {
   "cell_type": "code",
   "execution_count": 125,
   "metadata": {},
   "outputs": [],
   "source": [
    "filenames = map(lambda x : x[x.find('output')+7:], filenames) # wav path -> wav file name \n",
    "id_label = dict(zip(filenames,rst))\n",
    "\n",
    "IDs = id_label.keys()\n",
    "IDs.sort(key=lambda f: int(filter(str.isdigit, f)))\n",
    "\n",
    "labels = []\n",
    "for i in range(len(IDs)):\n",
    "    labels.append(id_label.get(IDs[i]))"
   ]
  },
  {
   "cell_type": "code",
   "execution_count": 126,
   "metadata": {},
   "outputs": [
    {
     "name": "stdout",
     "output_type": "stream",
     "text": [
      "('speech', 1)\n",
      "('speech', 2)\n",
      "('speech', 3)\n",
      "('speech', 4)\n",
      "('none', 5)\n",
      "('none', 6)\n",
      "('none', 7)\n",
      "('speech', 8)\n",
      "('speech', 9)\n",
      "('speech', 10)\n",
      "('speech', 11)\n",
      "('speech', 12)\n",
      "('speech', 13)\n",
      "('speech', 14)\n",
      "('speech', 15)\n",
      "('speech', 16)\n",
      "('speech', 17)\n",
      "('speech', 18)\n",
      "('speech', 19)\n",
      "('speech', 20)\n",
      "('speech', 21)\n",
      "('speech', 22)\n",
      "('speech', 23)\n",
      "('speech', 24)\n",
      "('speech', 25)\n",
      "('speech', 26)\n",
      "('speech', 27)\n",
      "('speech', 28)\n",
      "('speech', 29)\n",
      "('speech', 30)\n",
      "('speech', 31)\n",
      "('speech', 32)\n",
      "('speech', 33)\n",
      "('speech', 34)\n",
      "('speech', 35)\n",
      "('speech', 36)\n",
      "('speech', 37)\n",
      "('speech', 38)\n",
      "('speech', 39)\n",
      "('speech', 40)\n",
      "('speech', 41)\n",
      "('speech', 42)\n",
      "('speech', 43)\n",
      "('speech', 44)\n",
      "('speech', 45)\n",
      "('song', 46)\n",
      "('song', 47)\n",
      "('song', 48)\n",
      "('speech', 49)\n",
      "('speech', 50)\n",
      "('speech', 51)\n",
      "('speech', 52)\n",
      "('speech', 53)\n",
      "('speech', 54)\n",
      "('speech', 55)\n",
      "('speech', 56)\n",
      "('speech', 57)\n",
      "('speech', 58)\n",
      "('speech', 59)\n",
      "('speech', 60)\n",
      "('speech', 61)\n",
      "('speech', 62)\n",
      "('none', 63)\n",
      "('speech', 64)\n",
      "('speech', 65)\n",
      "('speech', 66)\n",
      "('speech', 67)\n",
      "('speech', 68)\n",
      "('speech', 69)\n",
      "('speech', 70)\n",
      "('speech', 71)\n",
      "('speech', 72)\n",
      "('speech', 73)\n",
      "('speech', 74)\n",
      "('speech', 75)\n",
      "('speech', 76)\n",
      "('speech', 77)\n",
      "('speech', 78)\n",
      "('speech', 79)\n",
      "('speech', 80)\n",
      "('speech', 81)\n",
      "('speech', 82)\n",
      "('speech', 83)\n",
      "('speech', 84)\n",
      "('speech', 85)\n",
      "('speech', 86)\n",
      "('speech', 87)\n",
      "('speech', 88)\n",
      "('speech', 89)\n",
      "('speech', 90)\n",
      "('speech', 91)\n",
      "('speech', 92)\n",
      "('speech', 93)\n",
      "('speech', 94)\n",
      "('speech', 95)\n",
      "('speech', 96)\n",
      "('speech', 97)\n",
      "('speech', 98)\n",
      "('speech', 99)\n",
      "('speech', 100)\n",
      "('speech', 101)\n",
      "('none', 102)\n",
      "('speech', 103)\n",
      "('speech', 104)\n",
      "('speech', 105)\n",
      "('speech', 106)\n",
      "('speech', 107)\n",
      "('speech', 108)\n",
      "('speech', 109)\n",
      "('speech', 110)\n",
      "('speech', 111)\n",
      "('speech', 112)\n",
      "('speech', 113)\n",
      "('speech', 114)\n",
      "('none', 115)\n",
      "('speech', 116)\n",
      "('speech', 117)\n",
      "('speech', 118)\n",
      "('speech', 119)\n",
      "('speech', 120)\n",
      "('speech', 121)\n",
      "('speech', 122)\n",
      "('speech', 123)\n",
      "('speech', 124)\n",
      "('speech', 125)\n",
      "('speech', 126)\n",
      "('speech', 127)\n",
      "('speech', 128)\n",
      "('speech', 129)\n",
      "('speech', 130)\n",
      "('speech', 131)\n",
      "('speech', 132)\n",
      "('speech', 133)\n",
      "('speech', 134)\n",
      "('speech', 135)\n",
      "('none', 136)\n",
      "('none', 137)\n",
      "('none', 138)\n",
      "('speech', 139)\n",
      "('speech', 140)\n",
      "('speech', 141)\n",
      "('speech', 142)\n",
      "('speech', 143)\n",
      "('none', 144)\n",
      "('speech', 145)\n",
      "('speech', 146)\n",
      "('speech', 147)\n",
      "('song', 148)\n",
      "('song', 149)\n",
      "('song', 150)\n",
      "('song', 151)\n",
      "('song', 152)\n",
      "('song', 153)\n",
      "('song', 154)\n",
      "('song', 155)\n",
      "('song', 156)\n",
      "('song', 157)\n",
      "('song', 158)\n",
      "('song', 159)\n",
      "('song', 160)\n",
      "('song', 161)\n",
      "('song', 162)\n",
      "('song', 163)\n",
      "('song', 164)\n",
      "('song', 165)\n",
      "('song', 166)\n",
      "('song', 167)\n",
      "('song', 168)\n",
      "('song', 169)\n",
      "('song', 170)\n",
      "('song', 171)\n",
      "('song', 172)\n",
      "('song', 173)\n",
      "('song', 174)\n",
      "('song', 175)\n",
      "('song', 176)\n",
      "('song', 177)\n",
      "('song', 178)\n",
      "('song', 179)\n",
      "('song', 180)\n",
      "('song', 181)\n",
      "('song', 182)\n",
      "('song', 183)\n",
      "('song', 184)\n",
      "('song', 185)\n",
      "('song', 186)\n",
      "('song', 187)\n",
      "('song', 188)\n",
      "('song', 189)\n",
      "('song', 190)\n",
      "('none', 191)\n",
      "('speech', 192)\n",
      "('speech', 193)\n",
      "('speech', 194)\n",
      "('speech', 195)\n",
      "('speech', 196)\n",
      "('speech', 197)\n",
      "('speech', 198)\n",
      "('none', 199)\n",
      "('speech', 200)\n",
      "('speech', 201)\n",
      "('speech', 202)\n",
      "('speech', 203)\n",
      "('song', 204)\n",
      "('song', 205)\n",
      "('song', 206)\n",
      "('none', 207)\n",
      "('song', 208)\n",
      "('song', 209)\n",
      "('song', 210)\n",
      "('song', 211)\n",
      "('song', 212)\n",
      "('song', 213)\n",
      "('none', 214)\n",
      "('song', 215)\n",
      "('song', 216)\n",
      "('song', 217)\n",
      "('song', 218)\n",
      "('song', 219)\n",
      "('song', 220)\n",
      "('song', 221)\n",
      "('song', 222)\n",
      "('song', 223)\n",
      "('song', 224)\n",
      "('song', 225)\n",
      "('song', 226)\n",
      "('song', 227)\n",
      "('none', 228)\n",
      "('song', 229)\n",
      "('song', 230)\n",
      "('song', 231)\n",
      "('song', 232)\n",
      "('song', 233)\n",
      "('song', 234)\n",
      "('song', 235)\n",
      "('song', 236)\n",
      "('song', 237)\n",
      "('song', 238)\n",
      "('song', 239)\n",
      "('song', 240)\n",
      "('song', 241)\n",
      "('song', 242)\n",
      "('song', 243)\n",
      "('song', 244)\n",
      "('song', 245)\n",
      "('song', 246)\n",
      "('song', 247)\n",
      "('song', 248)\n",
      "('song', 249)\n",
      "('song', 250)\n",
      "('song', 251)\n",
      "('speech', 252)\n"
     ]
    }
   ],
   "source": [
    "song_point = []\n",
    "speech_point = []\n",
    "\n",
    "# singing duration\n",
    "# y_pred continue 5 count -> singing point\n",
    "count = 0\n",
    "reverse_count  = 0\n",
    "#for i in np.arange(1, len(labels), 4):\n",
    "for i in range(len(labels)):\n",
    "    print(labels[i] , i+1)\n",
    "    if labels[i:(i+2)] == ['song','speech']:\n",
    "        if  'song' not in labels[(i+2):(i+5)]:\n",
    "            speech_point.append(i)\n",
    "            \n",
    "#    print((dict(Counter(labels[(i-1):(i+3)])).keys()[np.argmax(dict(Counter(labels[(i-1):(i+3)])).values())], i))\n",
    "    if labels[i:(i+2)] == ['song', 'none']:\n",
    "        if  'song' not in labels[(i+2):(i+5)]:\n",
    "            speech_point.append(i)\n",
    "\n",
    "    if labels[i:(i+2)] == ['speech', 'song']:\n",
    "        if  'speech' not in labels[(i+2):(i+5)]:\n",
    "            song_point.append(i)\n",
    "            \n",
    "    if labels[i:(i+3)] == ['none', 'song' , 'song']:\n",
    "        if  (labels[i-1] != 'song') and (labels[(i+3):(i+6)] == ['song', 'song', 'song']):\n",
    "            song_point.append(i)"
   ]
  },
  {
   "cell_type": "markdown",
   "metadata": {},
   "source": [
    "# singing extract"
   ]
  },
  {
   "cell_type": "code",
   "execution_count": 127,
   "metadata": {},
   "outputs": [],
   "source": [
    "# song 의 min 찍고 \n",
    "# speech 에서 song min 제외한 나머지에서 min 찍어서 하나 파일로\n",
    "# 다시 song의 min 찍고\n",
    "# 같은 작업 반복 리스트에 파일이 없을때까지 쓰기"
   ]
  },
  {
   "cell_type": "code",
   "execution_count": 128,
   "metadata": {},
   "outputs": [
    {
     "name": "stdout",
     "output_type": "stream",
     "text": [
      "1\n",
      "\n",
      "[MoviePy] Running:\n",
      ">>> /Users/smlee/Library/Application Support/imageio/ffmpeg/ffmpeg-osx-v3.2.4 -y -i ./yunha.mp4 -ss 730.00 -t 220.00 -vcodec copy -acodec copy extract_test_1.mp4\n",
      "... command successful.\n",
      "2\n",
      "\n",
      "[MoviePy] Running:\n",
      ">>> /Users/smlee/Library/Application Support/imageio/ffmpeg/ffmpeg-osx-v3.2.4 -y -i ./yunha.mp4 -ss 1010.00 -t 245.00 -vcodec copy -acodec copy extract_test_2.mp4\n",
      "... command successful.\n"
     ]
    }
   ],
   "source": [
    "\n",
    "i = 0\n",
    "while (len(song_point) != 0) :\n",
    "    i += 1\n",
    "    speech_point = filter( lambda x : x > np.min(song_point), speech_point)\n",
    "\n",
    "    clip = VideoFileClip(video_name)\n",
    "\n",
    "    if len(speech_point) == 0: \n",
    "        print(i)\n",
    "        ffmpeg_extract_subclip(video_name, 5*np.min(song_point)  , 5*len(labels)+5, targetname = 'extract_test_{}.mp4'.format(i))\n",
    "    else:\n",
    "        print(i)\n",
    "        ffmpeg_extract_subclip(video_name, 5*np.min(song_point)  , 5*np.min(speech_point)+5, targetname = 'extract_test_{}.mp4'.format(i))\n",
    "\n",
    "    clip.close()\n",
    "    song_point.remove(np.min(song_point))"
   ]
  },
  {
   "cell_type": "code",
   "execution_count": null,
   "metadata": {},
   "outputs": [],
   "source": []
  },
  {
   "cell_type": "code",
   "execution_count": null,
   "metadata": {},
   "outputs": [],
   "source": []
  },
  {
   "cell_type": "code",
   "execution_count": null,
   "metadata": {},
   "outputs": [],
   "source": []
  },
  {
   "cell_type": "code",
   "execution_count": null,
   "metadata": {},
   "outputs": [],
   "source": []
  },
  {
   "cell_type": "code",
   "execution_count": null,
   "metadata": {},
   "outputs": [],
   "source": []
  },
  {
   "cell_type": "code",
   "execution_count": null,
   "metadata": {},
   "outputs": [],
   "source": []
  },
  {
   "cell_type": "code",
   "execution_count": 1,
   "metadata": {},
   "outputs": [],
   "source": [
    "import os\n",
    "import sys\n",
    "import subprocess as sp\n",
    "\n",
    "from moviepy.tools import subprocess_call\n",
    "from moviepy.config import get_setting\n",
    "\n",
    "def ffmpeg_extract_subclip(filename, t1, t2, targetname=None):\n",
    "    \"\"\" makes a new video file playing video file ``filename`` between\n",
    "        the times ``t1`` and ``t2``. \"\"\"\n",
    "    name,ext = os.path.splitext(filename)\n",
    "    if not targetname:\n",
    "        T1, T2 = [int(1000*t) for t in [t1, t2]]\n",
    "        targetname = name+ \"%sSUB%d_%d.%s\"(name, T1, T2, ext)\n",
    "    \n",
    "    #  \"-vcodec\", \"copy\",  \"-acodec\", \"copy\", \"-c\", \"copy\",\n",
    "    cmd = [get_setting(\"FFMPEG_BINARY\"),\n",
    "      \"-i\", filename,\n",
    "      \"-ss\", \"%0.2f\"%t1,\n",
    "      \"-t\", \"%0.2f\"%(t2-t1),\n",
    "      \"-y\",targetname]\n",
    "\n",
    "    \n",
    "    subprocess_call(cmd)"
   ]
  },
  {
   "cell_type": "code",
   "execution_count": null,
   "metadata": {},
   "outputs": [],
   "source": []
  }
 ],
 "metadata": {
  "kernelspec": {
   "display_name": "Python 2",
   "language": "python",
   "name": "python2"
  },
  "language_info": {
   "codemirror_mode": {
    "name": "ipython",
    "version": 2
   },
   "file_extension": ".py",
   "mimetype": "text/x-python",
   "name": "python",
   "nbconvert_exporter": "python",
   "pygments_lexer": "ipython2",
   "version": "2.7.13"
  }
 },
 "nbformat": 4,
 "nbformat_minor": 2
}
